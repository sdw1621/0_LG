{
  "nbformat": 4,
  "nbformat_minor": 0,
  "metadata": {
    "colab": {
      "provenance": [],
      "authorship_tag": "ABX9TyMKA9I/p2bgJqT2ni06WTcJ",
      "include_colab_link": true
    },
    "kernelspec": {
      "name": "python3",
      "display_name": "Python 3"
    },
    "language_info": {
      "name": "python"
    }
  },
  "cells": [
    {
      "cell_type": "markdown",
      "metadata": {
        "id": "view-in-github",
        "colab_type": "text"
      },
      "source": [
        "<a href=\"https://colab.research.google.com/github/sdw1621/0_LG/blob/main/230828_%EC%83%9D%EC%82%B0%EC%84%B1%EB%B3%B8%EB%B6%80_%ED%8C%8C%EC%9D%B4%EC%8D%AC_%EC%88%98%EC%9A%94_%EC%98%88%EC%B8%A1.ipynb\" target=\"_parent\"><img src=\"https://colab.research.google.com/assets/colab-badge.svg\" alt=\"Open In Colab\"/></a>"
      ]
    },
    {
      "cell_type": "code",
      "execution_count": null,
      "metadata": {
        "colab": {
          "base_uri": "https://localhost:8080/"
        },
        "id": "L_IeWW1StrNU",
        "outputId": "ced6be18-06e3-4bab-c9a5-e28e7335940d"
      },
      "outputs": [
        {
          "output_type": "stream",
          "name": "stdout",
          "text": [
            "안녕하세요\n"
          ]
        }
      ],
      "source": [
        "print(\"안녕하세요\")"
      ]
    },
    {
      "cell_type": "code",
      "source": [
        "age = 21\n",
        "\n",
        "if age >= 20:\n",
        "  print(\"담배를 구매할 수 있습니다.\")\n",
        "else:\n",
        "  print(\"담배를 구매할 수 없습니다.\")"
      ],
      "metadata": {
        "id": "SZBfjGSYunan"
      },
      "execution_count": null,
      "outputs": []
    },
    {
      "cell_type": "code",
      "source": [],
      "metadata": {
        "id": "weUIVfyX8q2G"
      },
      "execution_count": null,
      "outputs": []
    },
    {
      "cell_type": "markdown",
      "source": [
        "# **Part 1. ChatGPT와 생성형 AI란 무엇인가**"
      ],
      "metadata": {
        "id": "vuMiS0T68sbs"
      }
    },
    {
      "cell_type": "markdown",
      "source": [
        "# **Part 2. ChatGPT 업무, 비지니스 활용 사례**"
      ],
      "metadata": {
        "id": "c9F9cD0z9yd7"
      }
    },
    {
      "cell_type": "markdown",
      "source": [
        "# **Part 01 ChatGPT 활용과 HR 패러다임 전환**"
      ],
      "metadata": {
        "id": "MAgSrLg8-Xd0"
      }
    },
    {
      "cell_type": "markdown",
      "source": [
        "## **01 ChatGPT 활용과 HR 혁신 - 김기찬**"
      ],
      "metadata": {
        "id": "vDeOTkg8-e9r"
      }
    },
    {
      "cell_type": "code",
      "source": [],
      "metadata": {
        "id": "zWaWc6bw_179"
      },
      "execution_count": 3,
      "outputs": []
    },
    {
      "cell_type": "markdown",
      "source": [
        "### **세 번째 레벨**"
      ],
      "metadata": {
        "id": "hSEjK4dw_dwc"
      }
    },
    {
      "cell_type": "code",
      "source": [],
      "metadata": {
        "id": "oFZyVdW99jus"
      },
      "execution_count": null,
      "outputs": []
    }
  ]
}