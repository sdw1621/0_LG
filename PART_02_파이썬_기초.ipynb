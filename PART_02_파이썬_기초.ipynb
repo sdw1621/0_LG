{
  "nbformat": 4,
  "nbformat_minor": 5,
  "metadata": {
    "kernelspec": {
      "display_name": "Python 3",
      "language": "python",
      "name": "python3"
    },
    "language_info": {
      "codemirror_mode": {
        "name": "ipython",
        "version": 3
      },
      "file_extension": ".py",
      "mimetype": "text/x-python",
      "name": "python",
      "nbconvert_exporter": "python",
      "pygments_lexer": "ipython3",
      "version": "3.8.8"
    },
    "toc": {
      "base_numbering": 1,
      "nav_menu": {},
      "number_sections": true,
      "sideBar": true,
      "skip_h1_title": false,
      "title_cell": "Table of Contents",
      "title_sidebar": "Contents",
      "toc_cell": false,
      "toc_position": {},
      "toc_section_display": true,
      "toc_window_display": false
    },
    "varInspector": {
      "cols": {
        "lenName": 16,
        "lenType": 16,
        "lenVar": 40
      },
      "kernels_config": {
        "python": {
          "delete_cmd_postfix": "",
          "delete_cmd_prefix": "del ",
          "library": "var_list.py",
          "varRefreshCmd": "print(var_dic_list())"
        },
        "r": {
          "delete_cmd_postfix": ") ",
          "delete_cmd_prefix": "rm(",
          "library": "var_list.r",
          "varRefreshCmd": "cat(var_dic_list()) "
        }
      },
      "types_to_exclude": [
        "module",
        "function",
        "builtin_function_or_method",
        "instance",
        "_Feature"
      ],
      "window_display": false
    },
    "colab": {
      "name": "PART 02 파이썬 기초.ipynb",
      "provenance": [],
      "include_colab_link": true
    }
  },
  "cells": [
    {
      "cell_type": "markdown",
      "metadata": {
        "id": "view-in-github",
        "colab_type": "text"
      },
      "source": [
        "<a href=\"https://colab.research.google.com/github/sdw1621/0_LG/blob/main/PART_02_%ED%8C%8C%EC%9D%B4%EC%8D%AC_%EA%B8%B0%EC%B4%88.ipynb\" target=\"_parent\"><img src=\"https://colab.research.google.com/assets/colab-badge.svg\" alt=\"Open In Colab\"/></a>"
      ]
    },
    {
      "cell_type": "markdown",
      "metadata": {
        "id": "33a3dcb3"
      },
      "source": [
        "### <소스> 2_1_input_processing_output.ipynb"
      ],
      "id": "33a3dcb3"
    },
    {
      "cell_type": "code",
      "metadata": {
        "id": "aeddd219",
        "outputId": "0bf008e2-0078-456f-cd95-8ad705980bb0"
      },
      "source": [
        "1+2"
      ],
      "id": "aeddd219",
      "execution_count": null,
      "outputs": [
        {
          "data": {
            "text/plain": [
              "3"
            ]
          },
          "execution_count": 1,
          "metadata": {},
          "output_type": "execute_result"
        }
      ]
    },
    {
      "cell_type": "code",
      "metadata": {
        "id": "b256b401"
      },
      "source": [
        "var1 = 5"
      ],
      "id": "b256b401",
      "execution_count": null,
      "outputs": []
    },
    {
      "cell_type": "code",
      "metadata": {
        "id": "e310c0db",
        "outputId": "6203eb86-7641-4044-a621-308167f67857"
      },
      "source": [
        "print(var1)"
      ],
      "id": "e310c0db",
      "execution_count": null,
      "outputs": [
        {
          "name": "stdout",
          "output_type": "stream",
          "text": [
            "5\n"
          ]
        }
      ]
    },
    {
      "cell_type": "code",
      "metadata": {
        "id": "7bc79eed"
      },
      "source": [
        "var1 = 10"
      ],
      "id": "7bc79eed",
      "execution_count": null,
      "outputs": []
    },
    {
      "cell_type": "code",
      "metadata": {
        "id": "9c6844bb",
        "outputId": "1149fc71-a32a-4032-cf3f-f2c4f532e8be"
      },
      "source": [
        "var1"
      ],
      "id": "9c6844bb",
      "execution_count": null,
      "outputs": [
        {
          "data": {
            "text/plain": [
              "10"
            ]
          },
          "execution_count": 8,
          "metadata": {},
          "output_type": "execute_result"
        }
      ]
    },
    {
      "cell_type": "code",
      "metadata": {
        "id": "58970586",
        "outputId": "34d2ee70-f6cd-469e-a1dd-2cac397fae7b"
      },
      "source": [
        "var2 = 20\n",
        "var2"
      ],
      "id": "58970586",
      "execution_count": null,
      "outputs": [
        {
          "data": {
            "text/plain": [
              "20"
            ]
          },
          "execution_count": 9,
          "metadata": {},
          "output_type": "execute_result"
        }
      ]
    },
    {
      "cell_type": "code",
      "metadata": {
        "id": "c09f0905",
        "outputId": "8689dba1-8c34-4955-db46-3b6f91cf5cda"
      },
      "source": [
        "var3 = var1 + var2\n",
        "var3"
      ],
      "id": "c09f0905",
      "execution_count": null,
      "outputs": [
        {
          "data": {
            "text/plain": [
              "30"
            ]
          },
          "execution_count": 10,
          "metadata": {},
          "output_type": "execute_result"
        }
      ]
    },
    {
      "cell_type": "code",
      "metadata": {
        "id": "e3e49d29",
        "outputId": "660b7ea7-ade9-4e44-ac39-36e3d88a83c0"
      },
      "source": [
        "print(var1, var2)"
      ],
      "id": "e3e49d29",
      "execution_count": null,
      "outputs": [
        {
          "name": "stdout",
          "output_type": "stream",
          "text": [
            "10 20\n"
          ]
        }
      ]
    },
    {
      "cell_type": "code",
      "metadata": {
        "id": "88df946b",
        "outputId": "f25599ed-0b72-451c-cb36-53591cc46185"
      },
      "source": [
        "print(\"신동욱\", \"교수님\")"
      ],
      "id": "88df946b",
      "execution_count": null,
      "outputs": [
        {
          "name": "stdout",
          "output_type": "stream",
          "text": [
            "신동욱 교수님\n"
          ]
        }
      ]
    },
    {
      "cell_type": "code",
      "metadata": {
        "id": "58604a78",
        "outputId": "a2c20767-01c7-4e6f-fb52-b980157d59c6"
      },
      "source": [
        "print(\"본인이름\", \"직급\")"
      ],
      "id": "58604a78",
      "execution_count": null,
      "outputs": [
        {
          "name": "stdout",
          "output_type": "stream",
          "text": [
            "본인이름 직급\n"
          ]
        }
      ]
    },
    {
      "cell_type": "code",
      "metadata": {
        "id": "e8eff9ba",
        "outputId": "7138c2d9-38e2-4b66-a74f-88e6b43dcaa3"
      },
      "source": [
        "print(\"신동욱\", \"님\")"
      ],
      "id": "e8eff9ba",
      "execution_count": null,
      "outputs": [
        {
          "name": "stdout",
          "output_type": "stream",
          "text": [
            "신동욱 님\n"
          ]
        }
      ]
    },
    {
      "cell_type": "code",
      "metadata": {
        "id": "6e934137",
        "outputId": "bed75663-92c7-475b-bb7d-6fa5cc37335d"
      },
      "source": [
        "print(\"신동욱\"+\"님\") # 문자열 연결 연산자"
      ],
      "id": "6e934137",
      "execution_count": null,
      "outputs": [
        {
          "name": "stdout",
          "output_type": "stream",
          "text": [
            "신동욱님\n"
          ]
        }
      ]
    },
    {
      "cell_type": "code",
      "metadata": {
        "id": "dcf5d1f5",
        "outputId": "79fc2a28-2290-4c5b-bf13-dc53a0a43ac0"
      },
      "source": [
        "print(\"뎃셈:\", var1+var2) # + : 산술 연산자"
      ],
      "id": "dcf5d1f5",
      "execution_count": null,
      "outputs": [
        {
          "name": "stdout",
          "output_type": "stream",
          "text": [
            "뎃셈: 30\n"
          ]
        }
      ]
    },
    {
      "cell_type": "markdown",
      "metadata": {
        "id": "25de903b"
      },
      "source": [
        "1. 문자+문자 : 연결\n",
        "2. 숫자+숫자 : 산술\n",
        "3. 문자+숫자 : error => 형 변환!(input), int(), float(), str()"
      ],
      "id": "25de903b"
    },
    {
      "cell_type": "markdown",
      "metadata": {
        "id": "853f6a38"
      },
      "source": [
        "### <소스> 2.2_data_types_1"
      ],
      "id": "853f6a38"
    },
    {
      "cell_type": "code",
      "metadata": {
        "id": "a311bcba",
        "outputId": "09ba195a-7e9e-404b-d5c7-43fec57caf26"
      },
      "source": [
        "var1 = 10.2\n",
        "type(var1) # 데이터형을 확인할 때 사용, input()함수 사용시"
      ],
      "id": "a311bcba",
      "execution_count": null,
      "outputs": [
        {
          "data": {
            "text/plain": [
              "float"
            ]
          },
          "execution_count": 20,
          "metadata": {},
          "output_type": "execute_result"
        }
      ]
    },
    {
      "cell_type": "code",
      "metadata": {
        "id": "a2cba65c"
      },
      "source": [
        "# 자바와 C언어에서는 자료형을 처음부터 제한함\n",
        "int var1 = 10\n",
        "float var2 = 10.2"
      ],
      "id": "a2cba65c",
      "execution_count": null,
      "outputs": []
    },
    {
      "cell_type": "code",
      "metadata": {
        "id": "5e3d5fb4",
        "outputId": "fa3d439a-527a-41cb-86f7-4d84a11ea461"
      },
      "source": [
        "var3 = 1 + 2 # 3\n",
        "var4 = 3 + 0.14 # 3.0(자동 형변환) + 0.14 = 3.14\n",
        "\n",
        "print(type(var3)) # int\n",
        "print(type(var4)) # float"
      ],
      "id": "5e3d5fb4",
      "execution_count": null,
      "outputs": [
        {
          "name": "stdout",
          "output_type": "stream",
          "text": [
            "<class 'int'>\n",
            "<class 'float'>\n"
          ]
        }
      ]
    },
    {
      "cell_type": "markdown",
      "metadata": {
        "id": "17e92084"
      },
      "source": [
        "### <소스> 2.3_data_types_2"
      ],
      "id": "17e92084"
    },
    {
      "cell_type": "code",
      "metadata": {
        "scrolled": true,
        "id": "d877c4e5",
        "outputId": "85a6a592-d6d6-4b80-f51d-b6917516dd1d"
      },
      "source": [
        "str1 = \"Easy\"\n",
        "str1"
      ],
      "id": "d877c4e5",
      "execution_count": null,
      "outputs": [
        {
          "data": {
            "text/plain": [
              "'Easy'"
            ]
          },
          "execution_count": 23,
          "metadata": {},
          "output_type": "execute_result"
        }
      ]
    },
    {
      "cell_type": "code",
      "metadata": {
        "id": "11e394b4",
        "outputId": "0bc0a496-ee5c-45ca-8458-ab1208bd6321"
      },
      "source": [
        "print(type(str1))"
      ],
      "id": "11e394b4",
      "execution_count": null,
      "outputs": [
        {
          "name": "stdout",
          "output_type": "stream",
          "text": [
            "<class 'str'>\n"
          ]
        }
      ]
    },
    {
      "cell_type": "code",
      "metadata": {
        "id": "e3f92dd6",
        "outputId": "671fd140-aaf1-4424-b85b-ce87d0ae7eb2"
      },
      "source": [
        "str2 = \"파이썬 딥러닝\"\n",
        "str2"
      ],
      "id": "e3f92dd6",
      "execution_count": null,
      "outputs": [
        {
          "data": {
            "text/plain": [
              "'파이썬 딥러닝'"
            ]
          },
          "execution_count": 25,
          "metadata": {},
          "output_type": "execute_result"
        }
      ]
    },
    {
      "cell_type": "code",
      "metadata": {
        "id": "ec0ce918",
        "outputId": "795fd463-f66f-4d55-cafd-2c2acb2bf5ae"
      },
      "source": [
        "str3 = 'ver1.0'\n",
        "print(type(str3))"
      ],
      "id": "ec0ce918",
      "execution_count": null,
      "outputs": [
        {
          "name": "stdout",
          "output_type": "stream",
          "text": [
            "<class 'str'>\n"
          ]
        }
      ]
    },
    {
      "cell_type": "code",
      "metadata": {
        "id": "c902ff8f",
        "outputId": "3c5c052f-7de8-4789-ef76-96eb74d07144"
      },
      "source": [
        "len(str1) # for 구문, 크롤링할 떄 많이 쓰임"
      ],
      "id": "c902ff8f",
      "execution_count": null,
      "outputs": [
        {
          "data": {
            "text/plain": [
              "4"
            ]
          },
          "execution_count": 28,
          "metadata": {},
          "output_type": "execute_result"
        }
      ]
    },
    {
      "cell_type": "code",
      "metadata": {
        "id": "722deb23",
        "outputId": "6b23da2d-cecc-49b1-84ca-60e365f6bdc9"
      },
      "source": [
        "str1[0:2]"
      ],
      "id": "722deb23",
      "execution_count": null,
      "outputs": [
        {
          "data": {
            "text/plain": [
              "'Ea'"
            ]
          },
          "execution_count": 31,
          "metadata": {},
          "output_type": "execute_result"
        }
      ]
    },
    {
      "cell_type": "markdown",
      "metadata": {
        "id": "d185a858"
      },
      "source": [
        ""
      ],
      "id": "d185a858"
    },
    {
      "cell_type": "code",
      "metadata": {
        "id": "26ede506",
        "outputId": "ad8c5d0f-67b3-4250-dd52-d3ccddceb2a8"
      },
      "source": [
        "print(\"I'm a boy\")"
      ],
      "id": "26ede506",
      "execution_count": null,
      "outputs": [
        {
          "name": "stdout",
          "output_type": "stream",
          "text": [
            "I'm a boy\n"
          ]
        }
      ]
    },
    {
      "cell_type": "code",
      "metadata": {
        "id": "9cc78762",
        "outputId": "720793a0-c6f9-43e8-c5dc-903b4759ed0c"
      },
      "source": [
        "print(' \"I say hello\" ')"
      ],
      "id": "9cc78762",
      "execution_count": null,
      "outputs": [
        {
          "name": "stdout",
          "output_type": "stream",
          "text": [
            " \"I say hello\" \n"
          ]
        }
      ]
    },
    {
      "cell_type": "markdown",
      "metadata": {
        "id": "4d93e60f"
      },
      "source": [
        "' ', \" \" : 한 줄 문자열<br>\n",
        "'''\n",
        "\n",
        "''', \n",
        "\n",
        "\"\"\"\n",
        "\n",
        "\"\"\" : 여러 줄 문자열"
      ],
      "id": "4d93e60f"
    },
    {
      "cell_type": "code",
      "metadata": {
        "id": "b37d47e1",
        "outputId": "32e151b3-d26f-4fcc-dd1a-b7f24494f00f"
      },
      "source": [
        "# Easy 중에서 as만 뽑아보세요!(단 양수 인덱스로)\n",
        "print(str1[1:3])\n",
        "\n",
        "# Easy 중에서 as만 뽑아보세요!(단 음수 인덱스로)\n",
        "print(str1[-3:-1])"
      ],
      "id": "b37d47e1",
      "execution_count": null,
      "outputs": [
        {
          "name": "stdout",
          "output_type": "stream",
          "text": [
            "as\n",
            "as\n"
          ]
        }
      ]
    },
    {
      "cell_type": "code",
      "metadata": {
        "id": "62a4935b",
        "outputId": "2d4cd94d-1e88-4b55-e4fe-3803881b83c8"
      },
      "source": [
        "# Easy 중에서 asy까지 뽑아보세요!(단 음수 인덱스로)\n",
        "print(str1[-3:]) # 뒷쪽을 비웠다 : 끝까지"
      ],
      "id": "62a4935b",
      "execution_count": null,
      "outputs": [
        {
          "name": "stdout",
          "output_type": "stream",
          "text": [
            "asy\n"
          ]
        }
      ]
    },
    {
      "cell_type": "code",
      "metadata": {
        "id": "ff432eb3",
        "outputId": "f37d7bc9-f15a-461e-cda8-241060518e7e"
      },
      "source": [
        "# Easy 중에서 Ea까지 뽑아보세요!(단 음수 인덱스로)\n",
        "print(str1[:-2]) # 앞을 비우고 : 0이 생략 "
      ],
      "id": "ff432eb3",
      "execution_count": null,
      "outputs": [
        {
          "name": "stdout",
          "output_type": "stream",
          "text": [
            "Ea\n"
          ]
        }
      ]
    },
    {
      "cell_type": "code",
      "metadata": {
        "id": "85e53a67",
        "outputId": "20430bb2-2df3-444c-d6b9-828195f0b28d"
      },
      "source": [
        "str1"
      ],
      "id": "85e53a67",
      "execution_count": null,
      "outputs": [
        {
          "data": {
            "text/plain": [
              "'Easy'"
            ]
          },
          "execution_count": 45,
          "metadata": {},
          "output_type": "execute_result"
        }
      ]
    },
    {
      "cell_type": "code",
      "metadata": {
        "id": "49644143",
        "outputId": "8de27a81-6190-49c6-9402-40bf8fdc9847"
      },
      "source": [
        "str4 = \"%s 파이썬 딥러닝\" %str1 # %s : 문자열을 받을 때 사용\n",
        "str4"
      ],
      "id": "49644143",
      "execution_count": null,
      "outputs": [
        {
          "data": {
            "text/plain": [
              "'Easy 파이썬 딥러닝'"
            ]
          },
          "execution_count": 46,
          "metadata": {},
          "output_type": "execute_result"
        }
      ]
    },
    {
      "cell_type": "code",
      "metadata": {
        "id": "df8dc9c4",
        "outputId": "23ddf4a9-77da-4731-decf-e4a84ffba1fe"
      },
      "source": [
        "str5 = 100\n",
        "str6 = \"%d 파이썬 딥러닝\" %str5 # %d : 숫자 받을 때 사용\n",
        "str6"
      ],
      "id": "df8dc9c4",
      "execution_count": null,
      "outputs": [
        {
          "data": {
            "text/plain": [
              "'100 파이썬 딥러닝'"
            ]
          },
          "execution_count": 49,
          "metadata": {},
          "output_type": "execute_result"
        }
      ]
    },
    {
      "cell_type": "code",
      "metadata": {
        "id": "6a6a32e1",
        "outputId": "cc9f1431-90db-4f2c-9094-bc93e3511069"
      },
      "source": [
        "str7 = 100.5\n",
        "str8 = \"%f 파이썬 딥러닝\" %str5 # %d : 숫자 받을 때 사용\n",
        "str8"
      ],
      "id": "6a6a32e1",
      "execution_count": null,
      "outputs": [
        {
          "data": {
            "text/plain": [
              "'100.000000 파이썬 딥러닝'"
            ]
          },
          "execution_count": 50,
          "metadata": {},
          "output_type": "execute_result"
        }
      ]
    },
    {
      "cell_type": "markdown",
      "metadata": {
        "id": "602a57b8"
      },
      "source": [
        "### <소스> 2_4_data_types_3"
      ],
      "id": "602a57b8"
    },
    {
      "cell_type": "code",
      "metadata": {
        "id": "67b7c21f",
        "outputId": "c94c17e5-0320-4811-9f74-55a848f4e6a5"
      },
      "source": [
        "list1 = [1,2,3,4,5]\n",
        "list1"
      ],
      "id": "67b7c21f",
      "execution_count": null,
      "outputs": [
        {
          "data": {
            "text/plain": [
              "[1, 2, 3, 4, 5]"
            ]
          },
          "execution_count": 51,
          "metadata": {},
          "output_type": "execute_result"
        }
      ]
    },
    {
      "cell_type": "code",
      "metadata": {
        "id": "3e627b3d",
        "outputId": "a0a6f3f5-ec96-4f4b-d681-401a4d908d8c"
      },
      "source": [
        "type(list1)"
      ],
      "id": "3e627b3d",
      "execution_count": null,
      "outputs": [
        {
          "data": {
            "text/plain": [
              "list"
            ]
          },
          "execution_count": 52,
          "metadata": {},
          "output_type": "execute_result"
        }
      ]
    },
    {
      "cell_type": "code",
      "metadata": {
        "id": "8aa758db",
        "outputId": "9365dd58-4072-4fda-d53b-19c99bbdf9f4"
      },
      "source": [
        "list2 = [10]\n",
        "print(list2)\n",
        "print(type(list2))"
      ],
      "id": "8aa758db",
      "execution_count": null,
      "outputs": [
        {
          "name": "stdout",
          "output_type": "stream",
          "text": [
            "[10]\n",
            "<class 'list'>\n"
          ]
        }
      ]
    },
    {
      "cell_type": "code",
      "metadata": {
        "id": "ffc53016",
        "outputId": "f446afce-e4e0-4b3b-987b-db54d76d44fb"
      },
      "source": [
        "# list 초기화\n",
        "\n",
        "list3 = list()\n",
        "print(list3)"
      ],
      "id": "ffc53016",
      "execution_count": null,
      "outputs": [
        {
          "name": "stdout",
          "output_type": "stream",
          "text": [
            "[]\n"
          ]
        }
      ]
    },
    {
      "cell_type": "code",
      "metadata": {
        "id": "4c179e8f",
        "outputId": "d716a051-7233-4f21-f424-f25a1d7f17d0"
      },
      "source": [
        "list4 = []\n",
        "print(list4) # 빈 리스트와 append 함수 : 같이 자주 씀"
      ],
      "id": "4c179e8f",
      "execution_count": null,
      "outputs": [
        {
          "name": "stdout",
          "output_type": "stream",
          "text": [
            "[]\n"
          ]
        }
      ]
    },
    {
      "cell_type": "code",
      "metadata": {
        "id": "ce40a79b",
        "outputId": "dceb785f-fe56-4d90-9577-490f4f99128c"
      },
      "source": [
        "list_of_list = [list1, list2, list3] # 각각은 list1, list2, list3 : 1차원\n",
        "list_of_list # 2차원(텐서 : 머신러닝)"
      ],
      "id": "ce40a79b",
      "execution_count": null,
      "outputs": [
        {
          "data": {
            "text/plain": [
              "[[1, 2, 3, 4, 5], [10], []]"
            ]
          },
          "execution_count": 57,
          "metadata": {},
          "output_type": "execute_result"
        }
      ]
    },
    {
      "cell_type": "code",
      "metadata": {
        "id": "95c5acf5",
        "outputId": "1b9a0795-1ad5-48bc-d81d-acaba474e77d"
      },
      "source": [
        "type(list_of_list)"
      ],
      "id": "95c5acf5",
      "execution_count": null,
      "outputs": [
        {
          "data": {
            "text/plain": [
              "list"
            ]
          },
          "execution_count": 58,
          "metadata": {},
          "output_type": "execute_result"
        }
      ]
    },
    {
      "cell_type": "code",
      "metadata": {
        "id": "495d1ab7",
        "outputId": "f285bf2c-e0e9-4879-b288-157df7032e71"
      },
      "source": [
        "list_of_list[0]"
      ],
      "id": "495d1ab7",
      "execution_count": null,
      "outputs": [
        {
          "data": {
            "text/plain": [
              "[1, 2, 3, 4, 5]"
            ]
          },
          "execution_count": 59,
          "metadata": {},
          "output_type": "execute_result"
        }
      ]
    },
    {
      "cell_type": "code",
      "metadata": {
        "id": "81373837",
        "outputId": "92309225-2179-44c7-88a5-6691b8b79184"
      },
      "source": [
        "list_of_list[1]"
      ],
      "id": "81373837",
      "execution_count": null,
      "outputs": [
        {
          "data": {
            "text/plain": [
              "[10]"
            ]
          },
          "execution_count": 60,
          "metadata": {},
          "output_type": "execute_result"
        }
      ]
    },
    {
      "cell_type": "code",
      "metadata": {
        "id": "e9b2078e",
        "outputId": "bd21ce6e-1f1e-47b8-c6e6-754afa716f34"
      },
      "source": [
        "list_of_list[2]\n",
        "list_of_list[-1]"
      ],
      "id": "e9b2078e",
      "execution_count": null,
      "outputs": [
        {
          "data": {
            "text/plain": [
              "[]"
            ]
          },
          "execution_count": 61,
          "metadata": {},
          "output_type": "execute_result"
        }
      ]
    },
    {
      "cell_type": "code",
      "metadata": {
        "id": "93f38207",
        "outputId": "63d26a4e-f917-465e-b659-6f1ecd593b57"
      },
      "source": [
        "list_of_list[0][1]"
      ],
      "id": "93f38207",
      "execution_count": null,
      "outputs": [
        {
          "data": {
            "text/plain": [
              "2"
            ]
          },
          "execution_count": 62,
          "metadata": {},
          "output_type": "execute_result"
        }
      ]
    },
    {
      "cell_type": "code",
      "metadata": {
        "id": "99730738",
        "outputId": "3178a887-4b13-4492-dfb3-85cd0af39e9d"
      },
      "source": [
        "list1.append(100)\n",
        "list1"
      ],
      "id": "99730738",
      "execution_count": null,
      "outputs": [
        {
          "data": {
            "text/plain": [
              "[1, 2, 3, 4, 5, 100, 100, 100, 100]"
            ]
          },
          "execution_count": 92,
          "metadata": {},
          "output_type": "execute_result"
        }
      ]
    },
    {
      "cell_type": "code",
      "metadata": {
        "id": "6572f4d9"
      },
      "source": [
        "list3 = []"
      ],
      "id": "6572f4d9",
      "execution_count": null,
      "outputs": []
    },
    {
      "cell_type": "code",
      "metadata": {
        "id": "297877ea"
      },
      "source": [
        "list3.append(7)"
      ],
      "id": "297877ea",
      "execution_count": null,
      "outputs": []
    },
    {
      "cell_type": "code",
      "metadata": {
        "id": "025a9f35",
        "outputId": "97cfb1ad-ce72-4e92-9633-f731f004b6f4"
      },
      "source": [
        "list3.append(7)\n",
        "list3.append(8)\n",
        "list3.append(9)\n",
        "list3"
      ],
      "id": "025a9f35",
      "execution_count": null,
      "outputs": [
        {
          "data": {
            "text/plain": [
              "[7, 8, 9, 7, 8, 9, 7, 8, 9]"
            ]
          },
          "execution_count": 90,
          "metadata": {},
          "output_type": "execute_result"
        }
      ]
    },
    {
      "cell_type": "markdown",
      "metadata": {
        "id": "903f1d41"
      },
      "source": [
        "### 2.5_data_types_4"
      ],
      "id": "903f1d41"
    },
    {
      "cell_type": "code",
      "metadata": {
        "id": "72ce965d",
        "outputId": "18f83496-5ac3-4577-e5f3-6233d79695db"
      },
      "source": [
        "tuple1 = (1,2)\n",
        "tuple1"
      ],
      "id": "72ce965d",
      "execution_count": null,
      "outputs": [
        {
          "data": {
            "text/plain": [
              "(1, 2)"
            ]
          },
          "execution_count": 70,
          "metadata": {},
          "output_type": "execute_result"
        }
      ]
    },
    {
      "cell_type": "code",
      "metadata": {
        "id": "337c9b72",
        "outputId": "9432d9ba-1174-4e5f-dedc-95c322e63003"
      },
      "source": [
        "type(tuple1)"
      ],
      "id": "337c9b72",
      "execution_count": null,
      "outputs": [
        {
          "data": {
            "text/plain": [
              "tuple"
            ]
          },
          "execution_count": 71,
          "metadata": {},
          "output_type": "execute_result"
        }
      ]
    },
    {
      "cell_type": "code",
      "metadata": {
        "id": "cade1cf4",
        "outputId": "3a746050-dd9a-4d57-ebc3-6e33adc71161"
      },
      "source": [
        "tuple2 = (\"a\",\"b\",100)\n",
        "tuple2"
      ],
      "id": "cade1cf4",
      "execution_count": null,
      "outputs": [
        {
          "data": {
            "text/plain": [
              "('a', 'b', 100)"
            ]
          },
          "execution_count": 72,
          "metadata": {},
          "output_type": "execute_result"
        }
      ]
    },
    {
      "cell_type": "code",
      "metadata": {
        "id": "1308f981",
        "outputId": "1dbf833d-f70a-47b4-82cd-bba4457da8e2"
      },
      "source": [
        "tuple3 = tuple()\n",
        "tuple4 = ()\n",
        "print(tuple3)\n",
        "print(tuple4)"
      ],
      "id": "1308f981",
      "execution_count": null,
      "outputs": [
        {
          "name": "stdout",
          "output_type": "stream",
          "text": [
            "()\n",
            "()\n"
          ]
        }
      ]
    },
    {
      "cell_type": "code",
      "metadata": {
        "id": "eaefa078",
        "outputId": "da1fed49-9774-439b-d3c7-5c383323d59c"
      },
      "source": [
        "tuple2[0]"
      ],
      "id": "eaefa078",
      "execution_count": null,
      "outputs": [
        {
          "data": {
            "text/plain": [
              "'a'"
            ]
          },
          "execution_count": 75,
          "metadata": {},
          "output_type": "execute_result"
        }
      ]
    },
    {
      "cell_type": "code",
      "metadata": {
        "id": "bcbde9a3",
        "outputId": "6875c344-1cfa-462d-aa37-5f9ed8548ea9"
      },
      "source": [
        "tuple2[1:]"
      ],
      "id": "bcbde9a3",
      "execution_count": null,
      "outputs": [
        {
          "data": {
            "text/plain": [
              "('b', 100)"
            ]
          },
          "execution_count": 76,
          "metadata": {},
          "output_type": "execute_result"
        }
      ]
    },
    {
      "cell_type": "markdown",
      "metadata": {
        "id": "88f679b6"
      },
      "source": [
        "### 2.6_data_types_5"
      ],
      "id": "88f679b6"
    },
    {
      "cell_type": "code",
      "metadata": {
        "id": "ed3a88dc",
        "outputId": "7a86ecda-8f32-410e-fd9e-3b17aab057df"
      },
      "source": [
        "dict1 = { 'name':\"Jay\", 'age': 20 }\n",
        "dict1\n",
        "# name = \"Jay\"\n",
        "# age = 20"
      ],
      "id": "ed3a88dc",
      "execution_count": null,
      "outputs": [
        {
          "data": {
            "text/plain": [
              "{'name': 'Jay', 'age': 20}"
            ]
          },
          "execution_count": 77,
          "metadata": {},
          "output_type": "execute_result"
        }
      ]
    },
    {
      "cell_type": "code",
      "metadata": {
        "id": "f5a52b84",
        "outputId": "a762fe6d-f8f8-46fa-a49b-834fddedd7ae"
      },
      "source": [
        "type(dict1)"
      ],
      "id": "f5a52b84",
      "execution_count": null,
      "outputs": [
        {
          "data": {
            "text/plain": [
              "dict"
            ]
          },
          "execution_count": 78,
          "metadata": {},
          "output_type": "execute_result"
        }
      ]
    },
    {
      "cell_type": "code",
      "metadata": {
        "id": "61a401a1",
        "outputId": "99a6017d-d4fe-4ead-f47e-be4e0f24bb2d"
      },
      "source": [
        "dict1['name']"
      ],
      "id": "61a401a1",
      "execution_count": null,
      "outputs": [
        {
          "data": {
            "text/plain": [
              "'Jay'"
            ]
          },
          "execution_count": 79,
          "metadata": {},
          "output_type": "execute_result"
        }
      ]
    },
    {
      "cell_type": "code",
      "metadata": {
        "id": "fe4bde2c",
        "outputId": "5c4464c1-7c05-46fa-dc93-fed64accfac8"
      },
      "source": [
        "dict1['age']"
      ],
      "id": "fe4bde2c",
      "execution_count": null,
      "outputs": [
        {
          "data": {
            "text/plain": [
              "20"
            ]
          },
          "execution_count": 80,
          "metadata": {},
          "output_type": "execute_result"
        }
      ]
    },
    {
      "cell_type": "code",
      "metadata": {
        "id": "065bb108",
        "outputId": "b5c09b00-7343-4028-d839-f657f63f9c61"
      },
      "source": [
        "dict1['grade'] = [3.0, 4.0, 3.5, 4.2]\n",
        "dict1"
      ],
      "id": "065bb108",
      "execution_count": null,
      "outputs": [
        {
          "data": {
            "text/plain": [
              "{'name': 'Jay', 'age': 20, 'grade': [3.0, 4.0, 3.5, 4.2]}"
            ]
          },
          "execution_count": 81,
          "metadata": {},
          "output_type": "execute_result"
        }
      ]
    },
    {
      "cell_type": "code",
      "metadata": {
        "id": "8d14dc1a",
        "outputId": "53797a67-5f7c-4a40-e57a-92b4c0e1399b"
      },
      "source": [
        "dict1.keys()"
      ],
      "id": "8d14dc1a",
      "execution_count": null,
      "outputs": [
        {
          "data": {
            "text/plain": [
              "dict_keys(['name', 'age', 'grade'])"
            ]
          },
          "execution_count": 82,
          "metadata": {},
          "output_type": "execute_result"
        }
      ]
    },
    {
      "cell_type": "code",
      "metadata": {
        "id": "4047f46e",
        "outputId": "956f67f9-0e82-44ee-a4d0-53d37c5ed08b"
      },
      "source": [
        "dict1.values()"
      ],
      "id": "4047f46e",
      "execution_count": null,
      "outputs": [
        {
          "data": {
            "text/plain": [
              "dict_values(['Jay', 20, [3.0, 4.0, 3.5, 4.2]])"
            ]
          },
          "execution_count": 83,
          "metadata": {},
          "output_type": "execute_result"
        }
      ]
    },
    {
      "cell_type": "code",
      "metadata": {
        "id": "4089159a",
        "outputId": "dce9c048-ad98-4c8f-f677-306643576be3"
      },
      "source": [
        "dict1.items()"
      ],
      "id": "4089159a",
      "execution_count": null,
      "outputs": [
        {
          "data": {
            "text/plain": [
              "dict_items([('name', 'Jay'), ('age', 20), ('grade', [3.0, 4.0, 3.5, 4.2])])"
            ]
          },
          "execution_count": 84,
          "metadata": {},
          "output_type": "execute_result"
        }
      ]
    },
    {
      "cell_type": "markdown",
      "metadata": {
        "id": "0054e367"
      },
      "source": [
        "### 2.7_operators_1"
      ],
      "id": "0054e367"
    },
    {
      "cell_type": "code",
      "metadata": {
        "id": "44cb46d4",
        "outputId": "c65d01c4-bba4-4c28-da13-c60fa02c0c8f"
      },
      "source": [
        "1+2"
      ],
      "id": "44cb46d4",
      "execution_count": null,
      "outputs": [
        {
          "data": {
            "text/plain": [
              "3"
            ]
          },
          "execution_count": 93,
          "metadata": {},
          "output_type": "execute_result"
        }
      ]
    },
    {
      "cell_type": "code",
      "metadata": {
        "id": "ee07825a",
        "outputId": "57b98c66-0dad-467d-cd88-59cbff1d3e14"
      },
      "source": [
        "new_str = \"Good\" + \" \" + \"Morning\"\n",
        "new_str"
      ],
      "id": "ee07825a",
      "execution_count": null,
      "outputs": [
        {
          "data": {
            "text/plain": [
              "'Good Morning'"
            ]
          },
          "execution_count": 94,
          "metadata": {},
          "output_type": "execute_result"
        }
      ]
    },
    {
      "cell_type": "code",
      "metadata": {
        "id": "b970e13b",
        "outputId": "33e74bad-0395-4740-9126-74270608108f"
      },
      "source": [
        "print(\"Good\", \"Morning\")"
      ],
      "id": "b970e13b",
      "execution_count": null,
      "outputs": [
        {
          "name": "stdout",
          "output_type": "stream",
          "text": [
            "Good Morning\n"
          ]
        }
      ]
    },
    {
      "cell_type": "code",
      "metadata": {
        "id": "fa100633",
        "outputId": "2c803c99-d519-4f9c-dc69-411003339645"
      },
      "source": [
        "\"a\" * 3 # 문자 * 숫자 : 반복(횟수, 파이썬 특수!)"
      ],
      "id": "fa100633",
      "execution_count": null,
      "outputs": [
        {
          "data": {
            "text/plain": [
              "'aaa'"
            ]
          },
          "execution_count": 97,
          "metadata": {},
          "output_type": "execute_result"
        }
      ]
    },
    {
      "cell_type": "code",
      "metadata": {
        "id": "0380f172",
        "outputId": "b58394a6-f45c-4382-cc45-8df3c17cffa5"
      },
      "source": [
        "print(\"=\"*30)\n",
        "print(\"이름\")\n",
        "print(\"=\"*30)"
      ],
      "id": "0380f172",
      "execution_count": null,
      "outputs": [
        {
          "name": "stdout",
          "output_type": "stream",
          "text": [
            "==============================\n",
            "이름\n",
            "==============================\n"
          ]
        }
      ]
    },
    {
      "cell_type": "code",
      "metadata": {
        "id": "cc3a57b3",
        "outputId": "a21941b9-ff84-4133-a076-5d342053863d"
      },
      "source": [
        "print(5/3)"
      ],
      "id": "cc3a57b3",
      "execution_count": null,
      "outputs": [
        {
          "name": "stdout",
          "output_type": "stream",
          "text": [
            "1.6666666666666667\n"
          ]
        }
      ]
    },
    {
      "cell_type": "code",
      "metadata": {
        "id": "53c59d2d",
        "outputId": "8c95bacb-03c0-476c-a38e-455b29f32dcc"
      },
      "source": [
        "5 // 3"
      ],
      "id": "53c59d2d",
      "execution_count": null,
      "outputs": [
        {
          "data": {
            "text/plain": [
              "1"
            ]
          },
          "execution_count": 101,
          "metadata": {},
          "output_type": "execute_result"
        }
      ]
    },
    {
      "cell_type": "code",
      "metadata": {
        "id": "0a9ff404",
        "outputId": "6ffc5006-27c6-408a-9482-f5b50531151c"
      },
      "source": [
        "5 % 3"
      ],
      "id": "0a9ff404",
      "execution_count": null,
      "outputs": [
        {
          "data": {
            "text/plain": [
              "2"
            ]
          },
          "execution_count": 102,
          "metadata": {},
          "output_type": "execute_result"
        }
      ]
    },
    {
      "cell_type": "code",
      "metadata": {
        "id": "f99fedd9",
        "outputId": "9ff8d596-d335-41cb-84dc-b9135dcb6ef1"
      },
      "source": [
        "3 ** 2"
      ],
      "id": "f99fedd9",
      "execution_count": null,
      "outputs": [
        {
          "data": {
            "text/plain": [
              "9"
            ]
          },
          "execution_count": 103,
          "metadata": {},
          "output_type": "execute_result"
        }
      ]
    },
    {
      "cell_type": "markdown",
      "metadata": {
        "id": "9e219834"
      },
      "source": [
        "### 2.8_operators_2"
      ],
      "id": "9e219834"
    },
    {
      "cell_type": "code",
      "metadata": {
        "id": "6715e57c",
        "outputId": "bdb52863-e1d8-4e13-b773-a158ac67e391"
      },
      "source": [
        "True # 파이썬의 예약어(파이썬에서 쓰는 단어)"
      ],
      "id": "6715e57c",
      "execution_count": null,
      "outputs": [
        {
          "data": {
            "text/plain": [
              "True"
            ]
          },
          "execution_count": 104,
          "metadata": {},
          "output_type": "execute_result"
        }
      ]
    },
    {
      "cell_type": "code",
      "metadata": {
        "id": "1dd17712",
        "outputId": "828774d1-9311-4045-f6f9-8dbd128c9829"
      },
      "source": [
        "true"
      ],
      "id": "1dd17712",
      "execution_count": null,
      "outputs": [
        {
          "ename": "NameError",
          "evalue": "name 'true' is not defined",
          "output_type": "error",
          "traceback": [
            "\u001b[1;31m---------------------------------------------------------------------------\u001b[0m",
            "\u001b[1;31mNameError\u001b[0m                                 Traceback (most recent call last)",
            "\u001b[1;32m<ipython-input-105-724ba28f4a9a>\u001b[0m in \u001b[0;36m<module>\u001b[1;34m\u001b[0m\n\u001b[1;32m----> 1\u001b[1;33m \u001b[0mtrue\u001b[0m\u001b[1;33m\u001b[0m\u001b[1;33m\u001b[0m\u001b[0m\n\u001b[0m",
            "\u001b[1;31mNameError\u001b[0m: name 'true' is not defined"
          ]
        }
      ]
    },
    {
      "cell_type": "code",
      "metadata": {
        "id": "38be7389",
        "outputId": "c259b6fe-4420-4503-8d5a-f3dda3258200"
      },
      "source": [
        "TRUE"
      ],
      "id": "38be7389",
      "execution_count": null,
      "outputs": [
        {
          "ename": "NameError",
          "evalue": "name 'TRUE' is not defined",
          "output_type": "error",
          "traceback": [
            "\u001b[1;31m---------------------------------------------------------------------------\u001b[0m",
            "\u001b[1;31mNameError\u001b[0m                                 Traceback (most recent call last)",
            "\u001b[1;32m<ipython-input-106-425fdcbd1209>\u001b[0m in \u001b[0;36m<module>\u001b[1;34m\u001b[0m\n\u001b[1;32m----> 1\u001b[1;33m \u001b[0mTRUE\u001b[0m\u001b[1;33m\u001b[0m\u001b[1;33m\u001b[0m\u001b[0m\n\u001b[0m",
            "\u001b[1;31mNameError\u001b[0m: name 'TRUE' is not defined"
          ]
        }
      ]
    },
    {
      "cell_type": "code",
      "metadata": {
        "id": "644a9f9d",
        "outputId": "08afcd0c-8827-439a-8fc5-d06d3beeee43"
      },
      "source": [
        "not True # OS( Win10, Mac ) : 폴더 있으면 그대로 사용, 없으면 새로 만들기"
      ],
      "id": "644a9f9d",
      "execution_count": null,
      "outputs": [
        {
          "data": {
            "text/plain": [
              "False"
            ]
          },
          "execution_count": 107,
          "metadata": {},
          "output_type": "execute_result"
        }
      ]
    },
    {
      "cell_type": "code",
      "metadata": {
        "id": "1766d485",
        "outputId": "a4307a53-5522-41bb-aaed-20d67ec744f0"
      },
      "source": [
        "type(False)"
      ],
      "id": "1766d485",
      "execution_count": null,
      "outputs": [
        {
          "data": {
            "text/plain": [
              "bool"
            ]
          },
          "execution_count": 108,
          "metadata": {},
          "output_type": "execute_result"
        }
      ]
    },
    {
      "cell_type": "code",
      "metadata": {
        "id": "cb6891ce",
        "outputId": "e3de9dbb-0ba8-4120-d394-a8649257bdae"
      },
      "source": [
        "print(True and True)\n",
        "print(True and False)\n",
        "print(False and False)"
      ],
      "id": "cb6891ce",
      "execution_count": null,
      "outputs": [
        {
          "name": "stdout",
          "output_type": "stream",
          "text": [
            "True\n",
            "False\n",
            "False\n"
          ]
        }
      ]
    },
    {
      "cell_type": "code",
      "metadata": {
        "id": "c2fd1a83"
      },
      "source": [
        "print(\"돈 있음\" and \"먹고싶음\") # 먹음\n",
        "print(\"돈 없음\" and \"먹고싶음\") # 못 먹음\n",
        "print(\"돈 있음\" and \"먹고싶지 않음\") # 안 먹음\n",
        "print(\"돈 없음\" and \"먹고싶지 않음\") # 못 먹음"
      ],
      "id": "c2fd1a83",
      "execution_count": null,
      "outputs": []
    },
    {
      "cell_type": "code",
      "metadata": {
        "id": "605d3a0f"
      },
      "source": [
        "print(\"김치찌게\" or \"된장찌게\") # 먹기 (가게에 들어감)\n",
        "print(\"김치찌게\" or \"된장찌게 X\") # 김치찌게 먹기 (가게에 들어감)\n",
        "print(\"김치찌게 X\" or \"된장찌게\") # 된장찌게 먹기 (가게에 들어감)\n",
        "print(\"김치찌게 X\" or \"된장찌게 X\") # 다른 가게 감"
      ],
      "id": "605d3a0f",
      "execution_count": null,
      "outputs": []
    },
    {
      "cell_type": "code",
      "metadata": {
        "id": "2f452ac8",
        "outputId": "cfa632ca-91fc-4368-dbfb-e3d60cb2f85d"
      },
      "source": [
        "\"신동욱\" == \"신동욱\""
      ],
      "id": "2f452ac8",
      "execution_count": null,
      "outputs": [
        {
          "data": {
            "text/plain": [
              "True"
            ]
          },
          "execution_count": 110,
          "metadata": {},
          "output_type": "execute_result"
        }
      ]
    },
    {
      "cell_type": "code",
      "metadata": {
        "id": "87628754",
        "outputId": "8c7ab315-b5fc-4a09-f297-7a0fd4992683"
      },
      "source": [
        "\"신동욱\" != \"신동욱\""
      ],
      "id": "87628754",
      "execution_count": null,
      "outputs": [
        {
          "data": {
            "text/plain": [
              "False"
            ]
          },
          "execution_count": 111,
          "metadata": {},
          "output_type": "execute_result"
        }
      ]
    },
    {
      "cell_type": "code",
      "metadata": {
        "id": "2165a3bb",
        "outputId": "efd01a39-35f8-44e2-ad34-9dd67dedaa42"
      },
      "source": [
        "var1 = 'a' # DB에 저장된 아이디\n",
        "var2 = 'a' # 사용자 아이디\n",
        "var1 == var2\n",
        "\n",
        "# True : 회원 => 웰컴 페이지 xxx님 환영합니다.\n",
        "# False : 회원이 아님 => 신규가입 페이지로 유도"
      ],
      "id": "2165a3bb",
      "execution_count": null,
      "outputs": [
        {
          "data": {
            "text/plain": [
              "True"
            ]
          },
          "execution_count": 112,
          "metadata": {},
          "output_type": "execute_result"
        }
      ]
    },
    {
      "cell_type": "markdown",
      "metadata": {
        "id": "720c6935"
      },
      "source": [
        "### 2.10_control_1"
      ],
      "id": "720c6935"
    },
    {
      "cell_type": "code",
      "metadata": {
        "id": "f18691c5",
        "outputId": "24e48de9-0357-4c5d-b80f-7a5249577354"
      },
      "source": [
        "a = 4\n",
        "\n",
        "if a % 2 == 0:\n",
        "    print(\"a는 짝수\")\n",
        "    print(\"a는 2의 배수\")"
      ],
      "id": "f18691c5",
      "execution_count": null,
      "outputs": [
        {
          "name": "stdout",
          "output_type": "stream",
          "text": [
            "a는 짝수\n",
            "a는 2의 배수\n"
          ]
        }
      ]
    },
    {
      "cell_type": "code",
      "metadata": {
        "id": "35214252"
      },
      "source": [
        "if a % 2 !=0: # False\n",
        "    print(\"a는 홀수\")"
      ],
      "id": "35214252",
      "execution_count": null,
      "outputs": []
    },
    {
      "cell_type": "code",
      "metadata": {
        "id": "bf030873",
        "outputId": "8e051a0d-8e10-4428-d0d9-4a5c2ea773bc"
      },
      "source": [
        "b = 7\n",
        "if b % 2 == 0:\n",
        "    print('b는 짝수')\n",
        "else:\n",
        "    print(\"b는 홀수\")"
      ],
      "id": "bf030873",
      "execution_count": null,
      "outputs": [
        {
          "name": "stdout",
          "output_type": "stream",
          "text": [
            "b는 홀수\n"
          ]
        }
      ]
    },
    {
      "cell_type": "code",
      "metadata": {
        "id": "837ea1f0",
        "outputId": "d19b3f32-68d9-4562-a675-01eae6746224"
      },
      "source": [
        "c = -1\n",
        "if c > 0:\n",
        "    print(\"c는 양수\")\n",
        "elif c < 0:\n",
        "    print(\"c는 음수\")\n",
        "else:\n",
        "    print(\"c는 0\")"
      ],
      "id": "837ea1f0",
      "execution_count": null,
      "outputs": [
        {
          "name": "stdout",
          "output_type": "stream",
          "text": [
            "c는 음수\n"
          ]
        }
      ]
    },
    {
      "cell_type": "markdown",
      "metadata": {
        "id": "5798d0d1"
      },
      "source": [
        "### 2.11_control_2"
      ],
      "id": "5798d0d1"
    },
    {
      "cell_type": "code",
      "metadata": {
        "id": "6e534b2b",
        "outputId": "220ee355-d028-4a42-9d2e-6564ce04c0ed"
      },
      "source": [
        "num_list = [1,2,3]\n",
        "\n",
        "for num in num_list:\n",
        "    print(num)"
      ],
      "id": "6e534b2b",
      "execution_count": null,
      "outputs": [
        {
          "name": "stdout",
          "output_type": "stream",
          "text": [
            "1\n",
            "2\n",
            "3\n"
          ]
        }
      ]
    },
    {
      "cell_type": "code",
      "metadata": {
        "id": "b8f54303",
        "outputId": "deb94829-49fb-4e77-f1c5-26e3d57a6a15"
      },
      "source": [
        "team_list = [\"신동욱\",\"박상석\",\"최선욱\"]\n",
        "address = ['서울', \"대전\", \"인천\"]\n",
        "\n",
        "for one in team_list:\n",
        "    for add in address:\n",
        "        # print(one + \"님\")\n",
        "        print(one, \"님\") # 택배 송장\n",
        "        print(add)"
      ],
      "id": "b8f54303",
      "execution_count": null,
      "outputs": [
        {
          "ename": "ValueError",
          "evalue": "too many values to unpack (expected 2)",
          "output_type": "error",
          "traceback": [
            "\u001b[1;31m---------------------------------------------------------------------------\u001b[0m",
            "\u001b[1;31mValueError\u001b[0m                                Traceback (most recent call last)",
            "\u001b[1;32m<ipython-input-144-96d1e53c9c8c>\u001b[0m in \u001b[0;36m<module>\u001b[1;34m\u001b[0m\n\u001b[0;32m      2\u001b[0m \u001b[0maddress\u001b[0m \u001b[1;33m=\u001b[0m \u001b[1;33m[\u001b[0m\u001b[1;34m'서울'\u001b[0m\u001b[1;33m,\u001b[0m \u001b[1;34m\"대전\"\u001b[0m\u001b[1;33m,\u001b[0m \u001b[1;34m\"인천\"\u001b[0m\u001b[1;33m]\u001b[0m\u001b[1;33m\u001b[0m\u001b[1;33m\u001b[0m\u001b[0m\n\u001b[0;32m      3\u001b[0m \u001b[1;33m\u001b[0m\u001b[0m\n\u001b[1;32m----> 4\u001b[1;33m \u001b[1;32mfor\u001b[0m \u001b[0mone\u001b[0m\u001b[1;33m,\u001b[0m \u001b[0madd\u001b[0m \u001b[1;32min\u001b[0m \u001b[0mteam_list\u001b[0m\u001b[1;33m,\u001b[0m \u001b[0maddress\u001b[0m\u001b[1;33m:\u001b[0m\u001b[1;33m\u001b[0m\u001b[1;33m\u001b[0m\u001b[0m\n\u001b[0m\u001b[0;32m      5\u001b[0m     \u001b[0mprint\u001b[0m\u001b[1;33m(\u001b[0m\u001b[0mone\u001b[0m\u001b[1;33m,\u001b[0m \u001b[1;34m\"님\"\u001b[0m\u001b[1;33m,\u001b[0m \u001b[0madd\u001b[0m \u001b[1;33m+\u001b[0m \u001b[1;34m\"삽니다.\"\u001b[0m\u001b[1;33m)\u001b[0m\u001b[1;33m\u001b[0m\u001b[1;33m\u001b[0m\u001b[0m\n",
            "\u001b[1;31mValueError\u001b[0m: too many values to unpack (expected 2)"
          ]
        }
      ]
    },
    {
      "cell_type": "code",
      "metadata": {
        "id": "f5c697fa",
        "outputId": "8c97472e-6d6b-4c24-932e-95bd8a8ba5c2"
      },
      "source": [
        "for num in [1,2,3]:\n",
        "    print(\"기존:\", num)\n",
        "    print(\"2 배:\", num*2, \"\\n\")"
      ],
      "id": "f5c697fa",
      "execution_count": null,
      "outputs": [
        {
          "name": "stdout",
          "output_type": "stream",
          "text": [
            "기존: 1\n",
            "2 배: 2 \n",
            "\n",
            "기존: 2\n",
            "2 배: 4 \n",
            "\n",
            "기존: 3\n",
            "2 배: 6 \n",
            "\n"
          ]
        }
      ]
    },
    {
      "cell_type": "code",
      "metadata": {
        "id": "24fdfe32",
        "outputId": "f217037a-eb4c-4173-c758-c851e383190d"
      },
      "source": [
        "double = [] # 리스트(값 여러개 저장) 초기화\n",
        "\n",
        "for num in [1,2,3]: # 반복\n",
        "    double.append(num * 2) # 저장할공간.append(기존, 수식)\n",
        "    \n",
        "print(double)"
      ],
      "id": "24fdfe32",
      "execution_count": null,
      "outputs": [
        {
          "name": "stdout",
          "output_type": "stream",
          "text": [
            "[2, 4, 6]\n"
          ]
        }
      ]
    },
    {
      "cell_type": "code",
      "metadata": {
        "id": "7f854b26",
        "outputId": "2dea348c-a613-41eb-aa27-f4fd711b8862"
      },
      "source": [
        "num = 1\n",
        "\n",
        "while num < 4:\n",
        "    print(num)\n",
        "    break\n",
        "    num = num + 1"
      ],
      "id": "7f854b26",
      "execution_count": null,
      "outputs": [
        {
          "name": "stdout",
          "output_type": "stream",
          "text": [
            "1\n"
          ]
        }
      ]
    },
    {
      "cell_type": "code",
      "metadata": {
        "id": "f32f9bfa",
        "outputId": "eed7d530-0581-4ee3-ec6c-e501d807b37c"
      },
      "source": [
        "num = 1\n",
        "\n",
        "double = []\n",
        "\n",
        "while True:\n",
        "    double.append(num * 2)\n",
        "    if len(double) == 3:\n",
        "        break\n",
        "    num = num + 1\n",
        "\n",
        "print(double)"
      ],
      "id": "f32f9bfa",
      "execution_count": null,
      "outputs": [
        {
          "name": "stdout",
          "output_type": "stream",
          "text": [
            "[2, 4, 6]\n"
          ]
        }
      ]
    },
    {
      "cell_type": "code",
      "metadata": {
        "id": "4de3b91d",
        "outputId": "fe69d397-2a0e-4024-e06b-cd092a1dda1d"
      },
      "source": [
        "num_range = range(1, 46)\n",
        "\n",
        "num_list = list(num_range)\n",
        "\n",
        "print(num_list)"
      ],
      "id": "4de3b91d",
      "execution_count": null,
      "outputs": [
        {
          "name": "stdout",
          "output_type": "stream",
          "text": [
            "[1, 2, 3, 4, 5, 6, 7, 8, 9, 10, 11, 12, 13, 14, 15, 16, 17, 18, 19, 20, 21, 22, 23, 24, 25, 26, 27, 28, 29, 30, 31, 32, 33, 34, 35, 36, 37, 38, 39, 40, 41, 42, 43, 44, 45]\n"
          ]
        }
      ]
    },
    {
      "cell_type": "code",
      "metadata": {
        "id": "84056a0b",
        "outputId": "da295cd6-5622-4810-9d83-bac446849379"
      },
      "source": [
        "import random\n",
        "\n",
        "random.shuffle(num_list)\n",
        "\n",
        "print(num_list)"
      ],
      "id": "84056a0b",
      "execution_count": null,
      "outputs": [
        {
          "name": "stdout",
          "output_type": "stream",
          "text": [
            "[33, 29, 2, 24, 45, 7, 18, 34, 8, 22, 36, 25, 44, 3, 14, 4, 40, 28, 10, 41, 23, 31, 19, 6, 39, 38, 15, 27, 5, 11, 26, 12, 42, 16, 43, 17, 37, 1, 20, 32, 21, 30, 9, 13, 35]\n"
          ]
        }
      ]
    },
    {
      "cell_type": "code",
      "metadata": {
        "id": "cf1696f0",
        "outputId": "730d5b0a-205b-4624-bf5f-f21fe2dde6d6"
      },
      "source": [
        "lotto = [] # 6개 숫자를 저장하는 공간\n",
        "\n",
        "while len(lotto) < 6:\n",
        "    random.shuffle(num_list)\n",
        "    num_selected = num_list[0]\n",
        "    \n",
        "    if num_selected in lotto: # 비복원, lotto(로또 번호 저장공간)\n",
        "        continue\n",
        "    lotto.append(num_selected) # lotto 공간에 저장\n",
        "    print(num_selected) # 선택된 번호 출력\n",
        "    \n",
        "print(lotto) # 전체 모아진 숫자 출력"
      ],
      "id": "cf1696f0",
      "execution_count": null,
      "outputs": [
        {
          "name": "stdout",
          "output_type": "stream",
          "text": [
            "10\n",
            "40\n",
            "26\n",
            "19\n",
            "17\n",
            "14\n",
            "[10, 40, 26, 19, 17, 14]\n"
          ]
        }
      ]
    },
    {
      "cell_type": "code",
      "metadata": {
        "id": "a7ee08d2",
        "outputId": "73829579-8be9-4c66-f249-19c010b4917d"
      },
      "source": [
        "# 주사위 (복원)\n",
        "dice_range = range(1, 7) # 1~6\n",
        "\n",
        "dice_list = list(dice_range)\n",
        "\n",
        "print(dice_list)"
      ],
      "id": "a7ee08d2",
      "execution_count": null,
      "outputs": [
        {
          "name": "stdout",
          "output_type": "stream",
          "text": [
            "[1, 2, 3, 4, 5, 6]\n"
          ]
        }
      ]
    },
    {
      "cell_type": "code",
      "metadata": {
        "id": "faa4dde1",
        "outputId": "71f84665-4be7-44de-d819-8f7f1fd78268"
      },
      "source": [
        "dice_total = [] # 5개 숫자를 저장하는 공간\n",
        "\n",
        "while len(dice_total) < 5: # 5번 주사위를 던짐\n",
        "    random.shuffle(dice_list)\n",
        "    num_selected = dice_list[0]\n",
        "\n",
        "    dice_total.append(num_selected) # 주사위 출력 저장\n",
        "    print(num_selected) # 선택된 번호 출력\n",
        "    \n",
        "print(dice_total) # 전체 모아진 숫자 출력"
      ],
      "id": "faa4dde1",
      "execution_count": null,
      "outputs": [
        {
          "name": "stdout",
          "output_type": "stream",
          "text": [
            "5\n",
            "2\n",
            "4\n",
            "5\n",
            "5\n",
            "[5, 2, 4, 5, 5]\n"
          ]
        }
      ]
    },
    {
      "cell_type": "markdown",
      "metadata": {
        "id": "79b7937b"
      },
      "source": [
        "### 2.13_control_4"
      ],
      "id": "79b7937b"
    },
    {
      "cell_type": "code",
      "metadata": {
        "id": "6a1e0d3a",
        "outputId": "b3ce3a9b-1e83-4587-81e2-e704927d3dab"
      },
      "source": [
        "data = {'name' : 'Jay', 'age':20, 'grade':[3.0, 4.0, 3.5, 4.2]}\n",
        "data"
      ],
      "id": "6a1e0d3a",
      "execution_count": null,
      "outputs": [
        {
          "data": {
            "text/plain": [
              "{'name': 'Jay', 'age': 20, 'grade': [3.0, 4.0, 3.5, 4.2]}"
            ]
          },
          "execution_count": 12,
          "metadata": {},
          "output_type": "execute_result"
        }
      ]
    },
    {
      "cell_type": "code",
      "metadata": {
        "id": "b61a5750",
        "outputId": "81cb8df1-2498-4a28-b5c2-6ad602df8e0d"
      },
      "source": [
        "data['address']"
      ],
      "id": "b61a5750",
      "execution_count": null,
      "outputs": [
        {
          "ename": "KeyError",
          "evalue": "'address'",
          "output_type": "error",
          "traceback": [
            "\u001b[1;31m---------------------------------------------------------------------------\u001b[0m",
            "\u001b[1;31mKeyError\u001b[0m                                  Traceback (most recent call last)",
            "\u001b[1;32m<ipython-input-15-2f613a4f5ebc>\u001b[0m in \u001b[0;36m<module>\u001b[1;34m\u001b[0m\n\u001b[1;32m----> 1\u001b[1;33m \u001b[0mdata\u001b[0m\u001b[1;33m[\u001b[0m\u001b[1;34m'address'\u001b[0m\u001b[1;33m]\u001b[0m\u001b[1;33m\u001b[0m\u001b[1;33m\u001b[0m\u001b[0m\n\u001b[0m",
            "\u001b[1;31mKeyError\u001b[0m: 'address'"
          ]
        }
      ]
    },
    {
      "cell_type": "code",
      "metadata": {
        "id": "b810f7f1",
        "outputId": "afb8e5bd-7728-4d63-e931-ab09cd14b155"
      },
      "source": [
        "data = {'name' : 'Jay', 'age':20, 'grade':[3.0, 4.0, 3.5, 4.2]}\n",
        "\n",
        "try :\n",
        "    print(\"주소 :\", data['address'])\n",
        "except:\n",
        "    # print(\"주소 정보가 없습니다.\")\n",
        "    print(\"고객센터 1588-0001 로 전화하세요\")"
      ],
      "id": "b810f7f1",
      "execution_count": null,
      "outputs": [
        {
          "name": "stdout",
          "output_type": "stream",
          "text": [
            "고객센터 1588-0001 로 전화하세요\n"
          ]
        }
      ]
    },
    {
      "cell_type": "code",
      "metadata": {
        "id": "56eaf8e9",
        "outputId": "6ca6f913-9052-48b9-e6fe-da459aad93f7"
      },
      "source": [
        "data = {'name' : 'Jay', 'age':20, 'grade':[3.0, 4.0, 3.5, 4.2]}\n",
        "\n",
        "try :\n",
        "    print(\"주소 :\", data['address'])\n",
        "except:\n",
        "    # print(\"주소 정보가 없습니다.\")\n",
        "    print(\"고객센터 1588-0001 로 전화하세요\")\n",
        "finally:\n",
        "    print(\"감사합니다.\")"
      ],
      "id": "56eaf8e9",
      "execution_count": null,
      "outputs": [
        {
          "name": "stdout",
          "output_type": "stream",
          "text": [
            "고객센터 1588-0001 로 전화하세요\n",
            "감사합니다.\n"
          ]
        }
      ]
    },
    {
      "cell_type": "markdown",
      "metadata": {
        "id": "8186056e"
      },
      "source": [
        ""
      ],
      "id": "8186056e"
    },
    {
      "cell_type": "code",
      "metadata": {
        "scrolled": false,
        "id": "540c0c29",
        "outputId": "60622692-0a4f-4058-e28d-91238fd6042f"
      },
      "source": [
        ""
      ],
      "id": "540c0c29",
      "execution_count": null,
      "outputs": [
        {
          "name": "stdout",
          "output_type": "stream",
          "text": [
            "당신의 주민등록번호를 입력하세요 : 8001011234567\n",
            "8001011234567\n"
          ]
        }
      ]
    },
    {
      "cell_type": "code",
      "metadata": {
        "id": "f10334c5",
        "outputId": "40f80383-6930-45ed-b0c8-f4227d35a913"
      },
      "source": [
        ""
      ],
      "id": "f10334c5",
      "execution_count": null,
      "outputs": [
        {
          "name": "stdout",
          "output_type": "stream",
          "text": [
            "2\n"
          ]
        }
      ]
    },
    {
      "cell_type": "code",
      "metadata": {
        "id": "e4dca70b",
        "outputId": "d5129e2e-bc8e-412a-9914-5b768fde7461"
      },
      "source": [
        ""
      ],
      "id": "e4dca70b",
      "execution_count": null,
      "outputs": [
        {
          "ename": "TypeError",
          "evalue": "not all arguments converted during string formatting",
          "output_type": "error",
          "traceback": [
            "\u001b[1;31m---------------------------------------------------------------------------\u001b[0m",
            "\u001b[1;31mTypeError\u001b[0m                                 Traceback (most recent call last)",
            "\u001b[1;32m<ipython-input-31-73176b17573c>\u001b[0m in \u001b[0;36m<module>\u001b[1;34m\u001b[0m\n\u001b[0;32m      6\u001b[0m         \u001b[0mprint\u001b[0m\u001b[1;33m(\u001b[0m\u001b[1;34m\"남자\"\u001b[0m\u001b[1;33m)\u001b[0m\u001b[1;33m\u001b[0m\u001b[1;33m\u001b[0m\u001b[0m\n\u001b[0;32m      7\u001b[0m \u001b[1;32melse\u001b[0m\u001b[1;33m:\u001b[0m\u001b[1;33m\u001b[0m\u001b[1;33m\u001b[0m\u001b[0m\n\u001b[1;32m----> 8\u001b[1;33m     \u001b[1;32mif\u001b[0m \u001b[0mjumin_num\u001b[0m\u001b[1;33m[\u001b[0m\u001b[1;36m6\u001b[0m\u001b[1;33m]\u001b[0m \u001b[1;33m%\u001b[0m \u001b[1;36m2\u001b[0m \u001b[1;33m==\u001b[0m \u001b[1;36m0\u001b[0m\u001b[1;33m:\u001b[0m\u001b[1;33m\u001b[0m\u001b[1;33m\u001b[0m\u001b[0m\n\u001b[0m\u001b[0;32m      9\u001b[0m         \u001b[0mprint\u001b[0m\u001b[1;33m(\u001b[0m\u001b[1;34m\"여자\"\u001b[0m\u001b[1;33m)\u001b[0m\u001b[1;33m\u001b[0m\u001b[1;33m\u001b[0m\u001b[0m\n\u001b[0;32m     10\u001b[0m     \u001b[1;32melse\u001b[0m\u001b[1;33m:\u001b[0m\u001b[1;33m\u001b[0m\u001b[1;33m\u001b[0m\u001b[0m\n",
            "\u001b[1;31mTypeError\u001b[0m: not all arguments converted during string formatting"
          ]
        }
      ]
    },
    {
      "cell_type": "code",
      "metadata": {
        "id": "11134bfb",
        "outputId": "61dcd84b-e010-46cc-f09f-e745e12ae292"
      },
      "source": [
        ""
      ],
      "id": "11134bfb",
      "execution_count": null,
      "outputs": [
        {
          "name": "stdout",
          "output_type": "stream",
          "text": [
            "남자\n"
          ]
        }
      ]
    },
    {
      "cell_type": "code",
      "metadata": {
        "id": "474decd4"
      },
      "source": [
        ""
      ],
      "id": "474decd4",
      "execution_count": null,
      "outputs": []
    },
    {
      "cell_type": "markdown",
      "metadata": {
        "id": "d34967ab"
      },
      "source": [
        "### 2_14_function_1"
      ],
      "id": "d34967ab"
    },
    {
      "cell_type": "code",
      "metadata": {
        "id": "397115b1"
      },
      "source": [
        "def cal_modulo(a, b): # 함수 선언, 매개변수 a = 5, b = 3\n",
        "    temp = a % b # 5 % 3, 나머지 : 2\n",
        "    return temp # 2, return, 함수 호출한 곳으로 값을 가져감"
      ],
      "id": "397115b1",
      "execution_count": null,
      "outputs": []
    },
    {
      "cell_type": "code",
      "metadata": {
        "scrolled": true,
        "id": "f6a63958",
        "outputId": "fbf88017-11d2-4ef6-b4c3-4bbf7a9b572b"
      },
      "source": [
        "cal_modulo(5, 3) # 함수 호출"
      ],
      "id": "f6a63958",
      "execution_count": null,
      "outputs": [
        {
          "data": {
            "text/plain": [
              "2"
            ]
          },
          "execution_count": 23,
          "metadata": {},
          "output_type": "execute_result"
        }
      ]
    },
    {
      "cell_type": "code",
      "metadata": {
        "id": "ad54b886",
        "outputId": "8cd648eb-cf8d-4825-9e7d-52bc097dec02"
      },
      "source": [
        "modulo = cal_modulo(10, 3)\n",
        "print(modulo)"
      ],
      "id": "ad54b886",
      "execution_count": null,
      "outputs": [
        {
          "name": "stdout",
          "output_type": "stream",
          "text": [
            "1\n"
          ]
        }
      ]
    },
    {
      "cell_type": "code",
      "metadata": {
        "id": "fcad4d3f",
        "outputId": "f7849054-27bc-4c0f-ebbe-6b7a8f350795"
      },
      "source": [
        "num_pairs = [(5,3),(2,2),(10,3)]\n",
        "\n",
        "for a, b in num_pairs:\n",
        "    modulo = cal_modulo(a, b)\n",
        "    print(modulo)"
      ],
      "id": "fcad4d3f",
      "execution_count": null,
      "outputs": [
        {
          "name": "stdout",
          "output_type": "stream",
          "text": [
            "2\n",
            "0\n",
            "1\n"
          ]
        }
      ]
    },
    {
      "cell_type": "code",
      "metadata": {
        "id": "dcbe6809",
        "outputId": "3a8c2f4a-6f67-45fd-860a-4a905922ed9c"
      },
      "source": [
        "num_pairs = [(5,3),(2,2),(10,3)]\n",
        "\n",
        "def cal_pairs_modulo(num_pair_list):\n",
        "    result = {}\n",
        "    \n",
        "    for a,b in num_pairs:\n",
        "        modulo = a % b\n",
        "        result[(a,b)] = modulo\n",
        "    return result\n",
        "\n",
        "mod_pairs = cal_pairs_modulo(num_pairs)\n",
        "mod_pairs"
      ],
      "id": "dcbe6809",
      "execution_count": null,
      "outputs": [
        {
          "data": {
            "text/plain": [
              "{(5, 3): 2, (2, 2): 0, (10, 3): 1}"
            ]
          },
          "execution_count": 35,
          "metadata": {},
          "output_type": "execute_result"
        }
      ]
    },
    {
      "cell_type": "code",
      "metadata": {
        "id": "b22e70ae",
        "outputId": "9e8474d4-eeb7-495e-8483-0ae87a21fef8"
      },
      "source": [
        "def print_mod_pairs():\n",
        "    print(cal_pairs_modulo(num_pairs))\n",
        "    \n",
        "print_mod_pairs()"
      ],
      "id": "b22e70ae",
      "execution_count": null,
      "outputs": [
        {
          "name": "stdout",
          "output_type": "stream",
          "text": [
            "{(5, 3): 2, (2, 2): 0, (10, 3): 1}\n"
          ]
        }
      ]
    },
    {
      "cell_type": "code",
      "metadata": {
        "id": "0fd0f825",
        "outputId": "0f16081b-2e07-48e9-9ba7-c0c0e328932a"
      },
      "source": [
        "result"
      ],
      "id": "0fd0f825",
      "execution_count": null,
      "outputs": [
        {
          "ename": "NameError",
          "evalue": "name 'result' is not defined",
          "output_type": "error",
          "traceback": [
            "\u001b[1;31m---------------------------------------------------------------------------\u001b[0m",
            "\u001b[1;31mNameError\u001b[0m                                 Traceback (most recent call last)",
            "\u001b[1;32m<ipython-input-37-0ac921c19f1a>\u001b[0m in \u001b[0;36m<module>\u001b[1;34m\u001b[0m\n\u001b[1;32m----> 1\u001b[1;33m \u001b[0mresult\u001b[0m\u001b[1;33m\u001b[0m\u001b[1;33m\u001b[0m\u001b[0m\n\u001b[0m",
            "\u001b[1;31mNameError\u001b[0m: name 'result' is not defined"
          ]
        }
      ]
    },
    {
      "cell_type": "markdown",
      "metadata": {
        "id": "04c483d1"
      },
      "source": [
        "### 2.15_function_2"
      ],
      "id": "04c483d1"
    },
    {
      "cell_type": "code",
      "metadata": {
        "id": "36bc1fd6",
        "outputId": "b5237d8d-f645-47ca-cc25-a325fd394ab0"
      },
      "source": [
        "def add_one(num):\n",
        "    return num + 1\n",
        "\n",
        "answer = add_one(1)\n",
        "print(answer)"
      ],
      "id": "36bc1fd6",
      "execution_count": null,
      "outputs": [
        {
          "name": "stdout",
          "output_type": "stream",
          "text": [
            "2\n"
          ]
        }
      ]
    },
    {
      "cell_type": "code",
      "metadata": {
        "id": "d59f3b74",
        "outputId": "eb9afd3c-3ee9-4a6d-c235-9d249986f7d7"
      },
      "source": [
        "add_one_list = []\n",
        "\n",
        "for x in [1,2,3]:\n",
        "    y = add_one(x)\n",
        "    add_one_list.append(y)\n",
        "    \n",
        "print(add_one_list)"
      ],
      "id": "d59f3b74",
      "execution_count": null,
      "outputs": [
        {
          "name": "stdout",
          "output_type": "stream",
          "text": [
            "[2, 3, 4]\n"
          ]
        }
      ]
    },
    {
      "cell_type": "code",
      "metadata": {
        "id": "094c8e85",
        "outputId": "0d23700c-ca5f-4cbd-c621-ef1446a32bd9"
      },
      "source": [
        "add_one_lambda = []\n",
        "\n",
        "add_func = lambda x: add_one_lambda.append(x+1)\n",
        "\n",
        "for x in [1,2,3]:\n",
        "    add_func(x)\n",
        "    \n",
        "print(add_one_lambda)"
      ],
      "id": "094c8e85",
      "execution_count": null,
      "outputs": [
        {
          "name": "stdout",
          "output_type": "stream",
          "text": [
            "[2, 3, 4]\n"
          ]
        }
      ]
    },
    {
      "cell_type": "code",
      "metadata": {
        "id": "f6ea402f",
        "outputId": "966adc82-d118-4163-eeac-c9fdef128bf8"
      },
      "source": [
        "new_add_func = lambda x, y:x+y\n",
        "answer = new_add_func(2,3)\n",
        "print(answer)"
      ],
      "id": "f6ea402f",
      "execution_count": null,
      "outputs": [
        {
          "name": "stdout",
          "output_type": "stream",
          "text": [
            "5\n"
          ]
        }
      ]
    },
    {
      "cell_type": "markdown",
      "metadata": {
        "id": "c56b9fcc"
      },
      "source": [
        "### 2.16_function_3"
      ],
      "id": "c56b9fcc"
    },
    {
      "cell_type": "code",
      "metadata": {
        "id": "9695d7ea",
        "outputId": "dca6fb36-cbe6-47f9-f521-9a50d560e61d"
      },
      "source": [
        "numbers = [1,2,3,4,5,6,7,8,9,10]\n",
        "sum(numbers)"
      ],
      "id": "9695d7ea",
      "execution_count": null,
      "outputs": [
        {
          "data": {
            "text/plain": [
              "55"
            ]
          },
          "execution_count": 44,
          "metadata": {},
          "output_type": "execute_result"
        }
      ]
    },
    {
      "cell_type": "code",
      "metadata": {
        "id": "4529db0f",
        "outputId": "4adb093e-2baf-4528-e641-3f3384a64807"
      },
      "source": [
        "max(numbers)"
      ],
      "id": "4529db0f",
      "execution_count": null,
      "outputs": [
        {
          "data": {
            "text/plain": [
              "10"
            ]
          },
          "execution_count": 45,
          "metadata": {},
          "output_type": "execute_result"
        }
      ]
    },
    {
      "cell_type": "code",
      "metadata": {
        "id": "68375484",
        "outputId": "e85be654-3678-4a9b-cd8e-eccba066da88"
      },
      "source": [
        "min(numbers)"
      ],
      "id": "68375484",
      "execution_count": null,
      "outputs": [
        {
          "data": {
            "text/plain": [
              "1"
            ]
          },
          "execution_count": 46,
          "metadata": {},
          "output_type": "execute_result"
        }
      ]
    },
    {
      "cell_type": "code",
      "metadata": {
        "id": "59206ef3",
        "outputId": "97a758d5-2577-4d7e-dfbb-f5e021afc531"
      },
      "source": [
        "len(numbers)"
      ],
      "id": "59206ef3",
      "execution_count": null,
      "outputs": [
        {
          "data": {
            "text/plain": [
              "10"
            ]
          },
          "execution_count": 47,
          "metadata": {},
          "output_type": "execute_result"
        }
      ]
    },
    {
      "cell_type": "code",
      "metadata": {
        "id": "8033fd9f",
        "outputId": "6bb60bdb-c3bf-4b05-c486-1b512fd9cedb"
      },
      "source": [
        "# for in range(len()) # 초급코드\n",
        "\n",
        "numbers = [1,2,3,4,5,6,7,8,9,10]\n",
        "\n",
        "for i, num in enumerate(numbers): # index을 항상 가지고 있음\n",
        "    print(i, num)"
      ],
      "id": "8033fd9f",
      "execution_count": null,
      "outputs": [
        {
          "name": "stdout",
          "output_type": "stream",
          "text": [
            "0 1\n",
            "1 2\n",
            "2 3\n",
            "3 4\n",
            "4 5\n",
            "5 6\n",
            "6 7\n",
            "7 8\n",
            "8 9\n",
            "9 10\n"
          ]
        }
      ]
    },
    {
      "cell_type": "code",
      "metadata": {
        "id": "1f6335f5",
        "outputId": "3e210fd7-4cda-4eb9-8476-fddf3cff67a9"
      },
      "source": [
        "range(10)"
      ],
      "id": "1f6335f5",
      "execution_count": null,
      "outputs": [
        {
          "data": {
            "text/plain": [
              "range(0, 10)"
            ]
          },
          "execution_count": 50,
          "metadata": {},
          "output_type": "execute_result"
        }
      ]
    },
    {
      "cell_type": "code",
      "metadata": {
        "id": "ccd096ae",
        "outputId": "10c1952b-fed9-4e9d-b91a-c79c51bc583f"
      },
      "source": [
        "list(range(1,10))"
      ],
      "id": "ccd096ae",
      "execution_count": null,
      "outputs": [
        {
          "data": {
            "text/plain": [
              "[1, 2, 3, 4, 5, 6, 7, 8, 9]"
            ]
          },
          "execution_count": 51,
          "metadata": {},
          "output_type": "execute_result"
        }
      ]
    },
    {
      "cell_type": "code",
      "metadata": {
        "id": "d2fe6b98",
        "outputId": "4a634f89-942f-461e-e8cf-29208335b9bb"
      },
      "source": [
        "print(list(range(1,10)))"
      ],
      "id": "d2fe6b98",
      "execution_count": null,
      "outputs": [
        {
          "name": "stdout",
          "output_type": "stream",
          "text": [
            "[1, 2, 3, 4, 5, 6, 7, 8, 9]\n"
          ]
        }
      ]
    },
    {
      "cell_type": "code",
      "metadata": {
        "id": "308d8297",
        "outputId": "fc0117fa-6985-45cb-a2ce-b98423f1da6b"
      },
      "source": [
        "print(numbers)"
      ],
      "id": "308d8297",
      "execution_count": null,
      "outputs": [
        {
          "name": "stdout",
          "output_type": "stream",
          "text": [
            "[1, 2, 3, 4, 5, 6, 7, 8, 9, 10]\n"
          ]
        }
      ]
    },
    {
      "cell_type": "code",
      "metadata": {
        "id": "5a7da875",
        "outputId": "9649d78c-fa87-4def-9bde-cd0ca84380e2"
      },
      "source": [
        "print('print(numbers)')"
      ],
      "id": "5a7da875",
      "execution_count": null,
      "outputs": [
        {
          "name": "stdout",
          "output_type": "stream",
          "text": [
            "print(numbers)\n"
          ]
        }
      ]
    },
    {
      "cell_type": "code",
      "metadata": {
        "id": "2f324017",
        "outputId": "319e748c-b475-4c70-bde9-63955daf4a29"
      },
      "source": [
        "eval('print(numbers)')"
      ],
      "id": "2f324017",
      "execution_count": null,
      "outputs": [
        {
          "name": "stdout",
          "output_type": "stream",
          "text": [
            "[1, 2, 3, 4, 5, 6, 7, 8, 9, 10]\n"
          ]
        }
      ]
    },
    {
      "cell_type": "code",
      "metadata": {
        "id": "c44ef82e",
        "outputId": "0cbc500c-6938-40a1-9cf9-ab9b38792ea1"
      },
      "source": [
        "add_one = lambda x:x+1\n",
        "results = map(add_one, numbers)\n",
        "\n",
        "print(list(results))"
      ],
      "id": "c44ef82e",
      "execution_count": null,
      "outputs": [
        {
          "name": "stdout",
          "output_type": "stream",
          "text": [
            "[2, 3, 4, 5, 6, 7, 8, 9, 10, 11]\n"
          ]
        }
      ]
    },
    {
      "cell_type": "code",
      "metadata": {
        "id": "b7109b1d",
        "outputId": "43774a4a-dd97-475a-a378-99fe6109815c"
      },
      "source": [
        "a, b = input('숫자 두 개를 입력하세요: ').split()\n",
        "print(a)\n",
        "print(b)\n",
        "\n",
        "print(type(b))\n",
        "\n",
        "print(a + b)\n",
        "\n",
        "print(int(a) + int(b))"
      ],
      "id": "b7109b1d",
      "execution_count": null,
      "outputs": [
        {
          "name": "stdout",
          "output_type": "stream",
          "text": [
            "숫자 두 개를 입력하세요: 1 2\n",
            "1\n",
            "2\n",
            "<class 'str'>\n",
            "12\n",
            "3\n"
          ]
        }
      ]
    },
    {
      "cell_type": "code",
      "metadata": {
        "id": "7697b416",
        "outputId": "6c5cda4d-4fb4-472f-dcab-4c24c84fac88"
      },
      "source": [
        "# https://dojang.io/mod/page/view.php?id=2179\n",
        "\n",
        "a, b = map(int, input('숫자 두 개를 입력하세요: ').split())\n",
        "\n",
        "print(a + b)"
      ],
      "id": "7697b416",
      "execution_count": null,
      "outputs": [
        {
          "name": "stdout",
          "output_type": "stream",
          "text": [
            "숫자 두 개를 입력하세요: 1 2\n",
            "3\n"
          ]
        }
      ]
    },
    {
      "cell_type": "code",
      "metadata": {
        "id": "4212d8bf",
        "outputId": "0c4bbee5-c3c2-4139-9de2-5373dbdf8707"
      },
      "source": [
        "even_num = lambda x:x%2==0\n",
        "\n",
        "results = filter(even_num, numbers)\n",
        "\n",
        "print(list(results))"
      ],
      "id": "4212d8bf",
      "execution_count": null,
      "outputs": [
        {
          "name": "stdout",
          "output_type": "stream",
          "text": [
            "[2, 4, 6, 8, 10]\n"
          ]
        }
      ]
    },
    {
      "cell_type": "code",
      "metadata": {
        "id": "eb0d4f7b",
        "outputId": "9a18ed87-e020-45ec-b829-6ec841c780bc"
      },
      "source": [
        "int(3.14)"
      ],
      "id": "eb0d4f7b",
      "execution_count": null,
      "outputs": [
        {
          "data": {
            "text/plain": [
              "3"
            ]
          },
          "execution_count": 63,
          "metadata": {},
          "output_type": "execute_result"
        }
      ]
    },
    {
      "cell_type": "code",
      "metadata": {
        "id": "1201f895",
        "outputId": "9e64b5a3-8fb7-4548-ce77-93c9e34c64f3"
      },
      "source": [
        "str(3.14)"
      ],
      "id": "1201f895",
      "execution_count": null,
      "outputs": [
        {
          "data": {
            "text/plain": [
              "'3.14'"
            ]
          },
          "execution_count": 64,
          "metadata": {},
          "output_type": "execute_result"
        }
      ]
    },
    {
      "cell_type": "code",
      "metadata": {
        "id": "349a1da9",
        "outputId": "cc6ab0df-a1bc-47be-f82e-a62e0e29074f"
      },
      "source": [
        "round(3.54)"
      ],
      "id": "349a1da9",
      "execution_count": null,
      "outputs": [
        {
          "data": {
            "text/plain": [
              "4"
            ]
          },
          "execution_count": 66,
          "metadata": {},
          "output_type": "execute_result"
        }
      ]
    },
    {
      "cell_type": "code",
      "metadata": {
        "id": "48e91f34",
        "outputId": "a15b889a-724e-4614-8e16-91403e6d0ecb"
      },
      "source": [
        "print(numbers)\n",
        "\n",
        "numbers_reversed = reversed(numbers)\n",
        "print(list(numbers_reversed))"
      ],
      "id": "48e91f34",
      "execution_count": null,
      "outputs": [
        {
          "name": "stdout",
          "output_type": "stream",
          "text": [
            "[1, 2, 3, 4, 5, 6, 7, 8, 9, 10]\n",
            "[10, 9, 8, 7, 6, 5, 4, 3, 2, 1]\n"
          ]
        }
      ]
    },
    {
      "cell_type": "code",
      "metadata": {
        "id": "5e27878a",
        "outputId": "bb3ce1b7-29fb-40a7-c6cd-3efe96341c6b"
      },
      "source": [
        "sorted([3,2,1])"
      ],
      "id": "5e27878a",
      "execution_count": null,
      "outputs": [
        {
          "data": {
            "text/plain": [
              "[1, 2, 3]"
            ]
          },
          "execution_count": 68,
          "metadata": {},
          "output_type": "execute_result"
        }
      ]
    },
    {
      "cell_type": "code",
      "metadata": {
        "id": "554243bb",
        "outputId": "5c63a145-53a9-419d-f973-7d20c866ed66"
      },
      "source": [
        "sorted([2,3,1])"
      ],
      "id": "554243bb",
      "execution_count": null,
      "outputs": [
        {
          "data": {
            "text/plain": [
              "[1, 2, 3]"
            ]
          },
          "execution_count": 69,
          "metadata": {},
          "output_type": "execute_result"
        }
      ]
    },
    {
      "cell_type": "code",
      "metadata": {
        "id": "96a17931",
        "outputId": "ff0d1844-95f0-4a6e-f03f-64521ef7e6e8"
      },
      "source": [
        "# https://vision-ai.tistory.com/entry/%ED%8C%8C%EC%9D%B4%EC%8D%AC-%EB%A6%AC%EC%8A%A4%ED%8A%B8-%ED%95%AD%EB%AA%A9-%EC%A0%95%EB%A0%AC%ED%95%98%EA%B8%B0-sorted-sort-reverse\n",
        "\n",
        "sorted([2,3,1], reverse=True)"
      ],
      "id": "96a17931",
      "execution_count": null,
      "outputs": [
        {
          "data": {
            "text/plain": [
              "[3, 2, 1]"
            ]
          },
          "execution_count": 70,
          "metadata": {},
          "output_type": "execute_result"
        }
      ]
    },
    {
      "cell_type": "code",
      "metadata": {
        "id": "49fa56ce",
        "outputId": "230b604d-b21a-47c4-9a2b-860d777fc025"
      },
      "source": [
        "chars = ['a','b','c']\n",
        "nums = [1,2,3]\n",
        "pairs = zip(chars, nums)\n",
        "\n",
        "print(list(pairs))"
      ],
      "id": "49fa56ce",
      "execution_count": null,
      "outputs": [
        {
          "name": "stdout",
          "output_type": "stream",
          "text": [
            "[('a', 1), ('b', 2), ('c', 3)]\n"
          ]
        }
      ]
    },
    {
      "cell_type": "markdown",
      "metadata": {
        "id": "9fd65af2"
      },
      "source": [
        "### 2.17_class_1"
      ],
      "id": "9fd65af2"
    },
    {
      "cell_type": "code",
      "metadata": {
        "id": "3bfff372",
        "outputId": "6e45d51b-5cb4-41eb-8b59-14f3e066e4ad"
      },
      "source": [
        "def add(num1, num2):\n",
        "    return num1 + num2\n",
        "\n",
        "add(1, 2)"
      ],
      "id": "3bfff372",
      "execution_count": null,
      "outputs": [
        {
          "data": {
            "text/plain": [
              "3"
            ]
          },
          "execution_count": 72,
          "metadata": {},
          "output_type": "execute_result"
        }
      ]
    },
    {
      "cell_type": "code",
      "metadata": {
        "id": "4e8155be",
        "outputId": "dd93d4e4-170d-4e2c-b580-3718e2ecbb0e"
      },
      "source": [
        "class Calculator:\n",
        "    \n",
        "    def __init__(self, num1, num2):\n",
        "        self.num1 = num1\n",
        "        self.num2 = num2\n",
        "        self.result = 0\n",
        "        \n",
        "    def add(self):\n",
        "        self.result = self.num1 + self.num2\n",
        "        return self.result\n",
        "    \n",
        "cal = Calculator(1, 2)\n",
        "print(cal.num1, cal.num2, cal.result)"
      ],
      "id": "4e8155be",
      "execution_count": null,
      "outputs": [
        {
          "name": "stdout",
          "output_type": "stream",
          "text": [
            "1 2 0\n"
          ]
        }
      ]
    },
    {
      "cell_type": "code",
      "metadata": {
        "id": "0ad30dec",
        "outputId": "f8234b48-9e7d-48fd-f8b8-f1fc1d2fdda8"
      },
      "source": [
        "cal.add()"
      ],
      "id": "0ad30dec",
      "execution_count": null,
      "outputs": [
        {
          "data": {
            "text/plain": [
              "3"
            ]
          },
          "execution_count": 76,
          "metadata": {},
          "output_type": "execute_result"
        }
      ]
    },
    {
      "cell_type": "code",
      "metadata": {
        "id": "1198229d",
        "outputId": "3434639f-4e37-45ae-99bb-f50e4deee1ba"
      },
      "source": [
        "cal.result"
      ],
      "id": "1198229d",
      "execution_count": null,
      "outputs": [
        {
          "data": {
            "text/plain": [
              "3"
            ]
          },
          "execution_count": 77,
          "metadata": {},
          "output_type": "execute_result"
        }
      ]
    },
    {
      "cell_type": "code",
      "metadata": {
        "id": "7f85f512",
        "outputId": "f445385d-6f0d-44b3-ef9d-6d1b440074ce"
      },
      "source": [
        "class Calculator:\n",
        "    \n",
        "    def __init__(self, num1, num2):\n",
        "        self.num1 = num1\n",
        "        self.num2 = num2\n",
        "        self.result = 0\n",
        "        \n",
        "    def add(self):\n",
        "        self.result = self.num1 + self.num2\n",
        "        return self.result\n",
        "    \n",
        "    def subtract(self):\n",
        "        self.result = self.num1 - self.num2\n",
        "        return self.result\n",
        "    \n",
        "    def multiply(self):\n",
        "        self.result = self.num1 * self.num2\n",
        "        return self.result\n",
        "    \n",
        "    def divide(self):\n",
        "        self.result = self.num1 / self.num2\n",
        "        return self.result\n",
        "    \n",
        "    def change(self, num1, num2):\n",
        "        self.num1 = num1\n",
        "        self.num2 = num2\n",
        "        print(\"num1:\", self.num1)\n",
        "        print(\"num2:\", self.num2)\n",
        "        \n",
        "cal2 = Calculator(1,2)\n",
        "print(cal2.num1, cal2.num2)"
      ],
      "id": "7f85f512",
      "execution_count": null,
      "outputs": [
        {
          "name": "stdout",
          "output_type": "stream",
          "text": [
            "1 2\n"
          ]
        }
      ]
    },
    {
      "cell_type": "code",
      "metadata": {
        "id": "34caf227",
        "outputId": "d13cf508-a2f4-498e-9b04-14b7042e082d"
      },
      "source": [
        "print(cal2.add())\n",
        "print(cal2.subtract())\n",
        "print(cal2.multiply())\n",
        "print(cal2.divide())"
      ],
      "id": "34caf227",
      "execution_count": null,
      "outputs": [
        {
          "name": "stdout",
          "output_type": "stream",
          "text": [
            "3\n",
            "-1\n",
            "2\n",
            "0.5\n"
          ]
        }
      ]
    },
    {
      "cell_type": "code",
      "metadata": {
        "id": "aeba16c2",
        "outputId": "3393c70a-e761-42ec-a293-43b44fd7b062"
      },
      "source": [
        "cal2.change(3,2)"
      ],
      "id": "aeba16c2",
      "execution_count": null,
      "outputs": [
        {
          "name": "stdout",
          "output_type": "stream",
          "text": [
            "num1: 3\n",
            "num2: 2\n"
          ]
        }
      ]
    },
    {
      "cell_type": "code",
      "metadata": {
        "id": "b841d940",
        "outputId": "1a7d9c15-967b-40b2-f9d2-eefafc653cf5"
      },
      "source": [
        "cal2.add()"
      ],
      "id": "b841d940",
      "execution_count": null,
      "outputs": [
        {
          "data": {
            "text/plain": [
              "5"
            ]
          },
          "execution_count": 82,
          "metadata": {},
          "output_type": "execute_result"
        }
      ]
    }
  ]
}