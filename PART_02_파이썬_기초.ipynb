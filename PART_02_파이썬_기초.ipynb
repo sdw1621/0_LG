{
  "nbformat": 4,
  "nbformat_minor": 5,
  "metadata": {
    "kernelspec": {
      "display_name": "Python 3",
      "language": "python",
      "name": "python3"
    },
    "language_info": {
      "codemirror_mode": {
        "name": "ipython",
        "version": 3
      },
      "file_extension": ".py",
      "mimetype": "text/x-python",
      "name": "python",
      "nbconvert_exporter": "python",
      "pygments_lexer": "ipython3",
      "version": "3.8.8"
    },
    "toc": {
      "base_numbering": 1,
      "nav_menu": {},
      "number_sections": true,
      "sideBar": true,
      "skip_h1_title": false,
      "title_cell": "Table of Contents",
      "title_sidebar": "Contents",
      "toc_cell": false,
      "toc_position": {},
      "toc_section_display": true,
      "toc_window_display": false
    },
    "varInspector": {
      "cols": {
        "lenName": 16,
        "lenType": 16,
        "lenVar": 40
      },
      "kernels_config": {
        "python": {
          "delete_cmd_postfix": "",
          "delete_cmd_prefix": "del ",
          "library": "var_list.py",
          "varRefreshCmd": "print(var_dic_list())"
        },
        "r": {
          "delete_cmd_postfix": ") ",
          "delete_cmd_prefix": "rm(",
          "library": "var_list.r",
          "varRefreshCmd": "cat(var_dic_list()) "
        }
      },
      "types_to_exclude": [
        "module",
        "function",
        "builtin_function_or_method",
        "instance",
        "_Feature"
      ],
      "window_display": false
    },
    "colab": {
      "name": "PART 02 파이썬 기초.ipynb",
      "provenance": [],
      "include_colab_link": true
    }
  },
  "cells": [
    {
      "cell_type": "markdown",
      "metadata": {
        "id": "view-in-github",
        "colab_type": "text"
      },
      "source": [
        "<a href=\"https://colab.research.google.com/github/sdw1621/0_LG/blob/main/PART_02_%ED%8C%8C%EC%9D%B4%EC%8D%AC_%EA%B8%B0%EC%B4%88.ipynb\" target=\"_parent\"><img src=\"https://colab.research.google.com/assets/colab-badge.svg\" alt=\"Open In Colab\"/></a>"
      ]
    },
    {
      "cell_type": "markdown",
      "metadata": {
        "id": "33a3dcb3"
      },
      "source": [
        "### <소스> 2_1_input_processing_output.ipynb"
      ],
      "id": "33a3dcb3"
    },
    {
      "cell_type": "code",
      "metadata": {
        "id": "aeddd219",
        "outputId": "663903c5-7aaf-480e-874b-d6fdc102c754"
      },
      "source": [
        "1+2"
      ],
      "id": "aeddd219",
      "execution_count": null,
      "outputs": [
        {
          "data": {
            "text/plain": [
              "3"
            ]
          },
          "execution_count": 1,
          "metadata": {},
          "output_type": "execute_result"
        }
      ]
    },
    {
      "cell_type": "code",
      "metadata": {
        "id": "b256b401"
      },
      "source": [
        "var1 = 5"
      ],
      "id": "b256b401",
      "execution_count": null,
      "outputs": []
    },
    {
      "cell_type": "code",
      "metadata": {
        "id": "e310c0db",
        "outputId": "6b3ef524-ae84-4773-cf72-12217cf9be58"
      },
      "source": [
        "print(var1)"
      ],
      "id": "e310c0db",
      "execution_count": null,
      "outputs": [
        {
          "name": "stdout",
          "output_type": "stream",
          "text": [
            "5\n"
          ]
        }
      ]
    },
    {
      "cell_type": "code",
      "metadata": {
        "id": "7bc79eed"
      },
      "source": [
        "var1 = 10"
      ],
      "id": "7bc79eed",
      "execution_count": null,
      "outputs": []
    },
    {
      "cell_type": "code",
      "metadata": {
        "id": "9c6844bb",
        "outputId": "9fe6e2b0-4773-45cb-8e40-0e24514bbdcf"
      },
      "source": [
        "var1"
      ],
      "id": "9c6844bb",
      "execution_count": null,
      "outputs": [
        {
          "data": {
            "text/plain": [
              "10"
            ]
          },
          "execution_count": 8,
          "metadata": {},
          "output_type": "execute_result"
        }
      ]
    },
    {
      "cell_type": "code",
      "metadata": {
        "id": "58970586",
        "outputId": "cc3cb35b-9be4-4b56-d4a3-a35631bac422"
      },
      "source": [
        "var2 = 20\n",
        "var2"
      ],
      "id": "58970586",
      "execution_count": null,
      "outputs": [
        {
          "data": {
            "text/plain": [
              "20"
            ]
          },
          "execution_count": 9,
          "metadata": {},
          "output_type": "execute_result"
        }
      ]
    },
    {
      "cell_type": "code",
      "metadata": {
        "id": "c09f0905",
        "outputId": "189be28e-7347-46e6-c633-19752a26b9d6"
      },
      "source": [
        "var3 = var1 + var2\n",
        "var3"
      ],
      "id": "c09f0905",
      "execution_count": null,
      "outputs": [
        {
          "data": {
            "text/plain": [
              "30"
            ]
          },
          "execution_count": 10,
          "metadata": {},
          "output_type": "execute_result"
        }
      ]
    },
    {
      "cell_type": "code",
      "metadata": {
        "id": "e3e49d29",
        "outputId": "1bf5baa6-7ded-40b9-96ae-90923eeb90c0"
      },
      "source": [
        "print(var1, var2)"
      ],
      "id": "e3e49d29",
      "execution_count": null,
      "outputs": [
        {
          "name": "stdout",
          "output_type": "stream",
          "text": [
            "10 20\n"
          ]
        }
      ]
    },
    {
      "cell_type": "code",
      "metadata": {
        "id": "88df946b",
        "outputId": "d7a11012-0b41-44cc-b005-21b3e3d171ca"
      },
      "source": [
        "print(\"신동욱\", \"교수님\")"
      ],
      "id": "88df946b",
      "execution_count": null,
      "outputs": [
        {
          "name": "stdout",
          "output_type": "stream",
          "text": [
            "신동욱 교수님\n"
          ]
        }
      ]
    },
    {
      "cell_type": "code",
      "metadata": {
        "id": "58604a78",
        "outputId": "55ba8e48-9ea5-4b97-e663-909e1022618f"
      },
      "source": [
        "print(\"본인이름\", \"직급\")"
      ],
      "id": "58604a78",
      "execution_count": null,
      "outputs": [
        {
          "name": "stdout",
          "output_type": "stream",
          "text": [
            "본인이름 직급\n"
          ]
        }
      ]
    },
    {
      "cell_type": "code",
      "metadata": {
        "id": "e8eff9ba",
        "outputId": "7e7bc56a-5cc1-4ae3-ebc4-a848b436db2c"
      },
      "source": [
        "print(\"신동욱\", \"님\")"
      ],
      "id": "e8eff9ba",
      "execution_count": null,
      "outputs": [
        {
          "name": "stdout",
          "output_type": "stream",
          "text": [
            "신동욱 님\n"
          ]
        }
      ]
    },
    {
      "cell_type": "code",
      "metadata": {
        "id": "6e934137",
        "outputId": "be0cb2d5-5d8d-452c-fd9c-2acb4fdeccab"
      },
      "source": [
        "print(\"신동욱\"+\"님\") # 문자열 연결 연산자"
      ],
      "id": "6e934137",
      "execution_count": null,
      "outputs": [
        {
          "name": "stdout",
          "output_type": "stream",
          "text": [
            "신동욱님\n"
          ]
        }
      ]
    },
    {
      "cell_type": "code",
      "metadata": {
        "id": "dcf5d1f5",
        "outputId": "231aa9ff-9ee0-46a8-e2ed-9623901a80d4"
      },
      "source": [
        "print(\"뎃셈:\", var1+var2) # + : 산술 연산자"
      ],
      "id": "dcf5d1f5",
      "execution_count": null,
      "outputs": [
        {
          "name": "stdout",
          "output_type": "stream",
          "text": [
            "뎃셈: 30\n"
          ]
        }
      ]
    },
    {
      "cell_type": "markdown",
      "metadata": {
        "id": "25de903b"
      },
      "source": [
        "1. 문자+문자 : 연결\n",
        "2. 숫자+숫자 : 산술\n",
        "3. 문자+숫자 : error => 형 변환!(input), int(), float(), str()"
      ],
      "id": "25de903b"
    },
    {
      "cell_type": "markdown",
      "metadata": {
        "id": "853f6a38"
      },
      "source": [
        "### <소스> 2.2_data_types_1"
      ],
      "id": "853f6a38"
    },
    {
      "cell_type": "code",
      "metadata": {
        "id": "a311bcba",
        "outputId": "5e7253d4-803e-4c87-9f0f-a18ca7f3c09f"
      },
      "source": [
        "var1 = 10.2\n",
        "type(var1) # 데이터형을 확인할 때 사용, input()함수 사용시"
      ],
      "id": "a311bcba",
      "execution_count": null,
      "outputs": [
        {
          "data": {
            "text/plain": [
              "float"
            ]
          },
          "execution_count": 20,
          "metadata": {},
          "output_type": "execute_result"
        }
      ]
    },
    {
      "cell_type": "code",
      "metadata": {
        "id": "a2cba65c"
      },
      "source": [
        "# 자바와 C언어에서는 자료형을 처음부터 제한함\n",
        "int var1 = 10\n",
        "float var2 = 10.2"
      ],
      "id": "a2cba65c",
      "execution_count": null,
      "outputs": []
    },
    {
      "cell_type": "code",
      "metadata": {
        "id": "5e3d5fb4",
        "outputId": "4ed9ba31-4149-4ef9-aa5b-8b33ea65c358"
      },
      "source": [
        "var3 = 1 + 2 # 3\n",
        "var4 = 3 + 0.14 # 3.0(자동 형변환) + 0.14 = 3.14\n",
        "\n",
        "print(type(var3)) # int\n",
        "print(type(var4)) # float"
      ],
      "id": "5e3d5fb4",
      "execution_count": null,
      "outputs": [
        {
          "name": "stdout",
          "output_type": "stream",
          "text": [
            "<class 'int'>\n",
            "<class 'float'>\n"
          ]
        }
      ]
    },
    {
      "cell_type": "markdown",
      "metadata": {
        "id": "17e92084"
      },
      "source": [
        "### <소스> 2.3_data_types_2"
      ],
      "id": "17e92084"
    },
    {
      "cell_type": "code",
      "metadata": {
        "scrolled": true,
        "id": "d877c4e5",
        "outputId": "3263fdb2-f397-4fcf-9b7a-ae611cc340b7"
      },
      "source": [
        "str1 = \"Easy\"\n",
        "str1"
      ],
      "id": "d877c4e5",
      "execution_count": null,
      "outputs": [
        {
          "data": {
            "text/plain": [
              "'Easy'"
            ]
          },
          "execution_count": 23,
          "metadata": {},
          "output_type": "execute_result"
        }
      ]
    },
    {
      "cell_type": "code",
      "metadata": {
        "id": "11e394b4",
        "outputId": "266dcc59-d64c-47ae-d441-75b2672661bf"
      },
      "source": [
        "print(type(str1))"
      ],
      "id": "11e394b4",
      "execution_count": null,
      "outputs": [
        {
          "name": "stdout",
          "output_type": "stream",
          "text": [
            "<class 'str'>\n"
          ]
        }
      ]
    },
    {
      "cell_type": "code",
      "metadata": {
        "id": "e3f92dd6",
        "outputId": "d54d4869-0b10-4e80-ccdd-16dfba39879e"
      },
      "source": [
        "str2 = \"파이썬 딥러닝\"\n",
        "str2"
      ],
      "id": "e3f92dd6",
      "execution_count": null,
      "outputs": [
        {
          "data": {
            "text/plain": [
              "'파이썬 딥러닝'"
            ]
          },
          "execution_count": 25,
          "metadata": {},
          "output_type": "execute_result"
        }
      ]
    },
    {
      "cell_type": "code",
      "metadata": {
        "id": "ec0ce918",
        "outputId": "86cda505-36a4-4c83-94ba-5398da60bfe1"
      },
      "source": [
        "str3 = 'ver1.0'\n",
        "print(type(str3))"
      ],
      "id": "ec0ce918",
      "execution_count": null,
      "outputs": [
        {
          "name": "stdout",
          "output_type": "stream",
          "text": [
            "<class 'str'>\n"
          ]
        }
      ]
    },
    {
      "cell_type": "code",
      "metadata": {
        "id": "c902ff8f",
        "outputId": "55c565e5-c095-4c3e-d3c2-56e5fc61c186"
      },
      "source": [
        "len(str1) # for 구문, 크롤링할 떄 많이 쓰임"
      ],
      "id": "c902ff8f",
      "execution_count": null,
      "outputs": [
        {
          "data": {
            "text/plain": [
              "4"
            ]
          },
          "execution_count": 28,
          "metadata": {},
          "output_type": "execute_result"
        }
      ]
    },
    {
      "cell_type": "code",
      "metadata": {
        "id": "722deb23",
        "outputId": "4e06db44-c361-44d0-f1e8-2a6a72ac591e"
      },
      "source": [
        "str1[0:2]"
      ],
      "id": "722deb23",
      "execution_count": null,
      "outputs": [
        {
          "data": {
            "text/plain": [
              "'Ea'"
            ]
          },
          "execution_count": 31,
          "metadata": {},
          "output_type": "execute_result"
        }
      ]
    },
    {
      "cell_type": "markdown",
      "metadata": {
        "id": "d185a858"
      },
      "source": [
        ""
      ],
      "id": "d185a858"
    },
    {
      "cell_type": "code",
      "metadata": {
        "id": "26ede506",
        "outputId": "a85586fe-cfb7-4bdc-9921-37dd63de33d6"
      },
      "source": [
        "print(\"I'm a boy\")"
      ],
      "id": "26ede506",
      "execution_count": null,
      "outputs": [
        {
          "name": "stdout",
          "output_type": "stream",
          "text": [
            "I'm a boy\n"
          ]
        }
      ]
    },
    {
      "cell_type": "code",
      "metadata": {
        "id": "9cc78762",
        "outputId": "169ce89d-a74b-4bc6-c327-13f329776df2"
      },
      "source": [
        "print(' \"I say hello\" ')"
      ],
      "id": "9cc78762",
      "execution_count": null,
      "outputs": [
        {
          "name": "stdout",
          "output_type": "stream",
          "text": [
            " \"I say hello\" \n"
          ]
        }
      ]
    },
    {
      "cell_type": "markdown",
      "metadata": {
        "id": "4d93e60f"
      },
      "source": [
        "' ', \" \" : 한 줄 문자열<br>\n",
        "'''\n",
        "\n",
        "''', \n",
        "\n",
        "\"\"\"\n",
        "\n",
        "\"\"\" : 여러 줄 문자열"
      ],
      "id": "4d93e60f"
    },
    {
      "cell_type": "code",
      "metadata": {
        "id": "b37d47e1",
        "outputId": "940295cb-328f-47fe-db2c-604991226d20"
      },
      "source": [
        "# Easy 중에서 as만 뽑아보세요!(단 양수 인덱스로)\n",
        "print(str1[1:3])\n",
        "\n",
        "# Easy 중에서 as만 뽑아보세요!(단 음수 인덱스로)\n",
        "print(str1[-3:-1])"
      ],
      "id": "b37d47e1",
      "execution_count": null,
      "outputs": [
        {
          "name": "stdout",
          "output_type": "stream",
          "text": [
            "as\n",
            "as\n"
          ]
        }
      ]
    },
    {
      "cell_type": "code",
      "metadata": {
        "id": "62a4935b",
        "outputId": "9c4fd13d-1ede-4d72-af31-7e31a8fc7992"
      },
      "source": [
        "# Easy 중에서 asy까지 뽑아보세요!(단 음수 인덱스로)\n",
        "print(str1[-3:]) # 뒷쪽을 비웠다 : 끝까지"
      ],
      "id": "62a4935b",
      "execution_count": null,
      "outputs": [
        {
          "name": "stdout",
          "output_type": "stream",
          "text": [
            "asy\n"
          ]
        }
      ]
    },
    {
      "cell_type": "code",
      "metadata": {
        "id": "ff432eb3",
        "outputId": "f06e4c28-6912-4155-90ae-147a9e64af23"
      },
      "source": [
        "# Easy 중에서 Ea까지 뽑아보세요!(단 음수 인덱스로)\n",
        "print(str1[:-2]) # 앞을 비우고 : 0이 생략 "
      ],
      "id": "ff432eb3",
      "execution_count": null,
      "outputs": [
        {
          "name": "stdout",
          "output_type": "stream",
          "text": [
            "Ea\n"
          ]
        }
      ]
    },
    {
      "cell_type": "code",
      "metadata": {
        "id": "85e53a67",
        "outputId": "075ba9f7-caca-4da9-c848-5ce2b66f3e7d"
      },
      "source": [
        "str1"
      ],
      "id": "85e53a67",
      "execution_count": null,
      "outputs": [
        {
          "data": {
            "text/plain": [
              "'Easy'"
            ]
          },
          "execution_count": 45,
          "metadata": {},
          "output_type": "execute_result"
        }
      ]
    },
    {
      "cell_type": "code",
      "metadata": {
        "id": "49644143",
        "outputId": "5c29236e-e995-4e53-8319-141a1f3f9faf"
      },
      "source": [
        "str4 = \"%s 파이썬 딥러닝\" %str1 # %s : 문자열을 받을 때 사용\n",
        "str4"
      ],
      "id": "49644143",
      "execution_count": null,
      "outputs": [
        {
          "data": {
            "text/plain": [
              "'Easy 파이썬 딥러닝'"
            ]
          },
          "execution_count": 46,
          "metadata": {},
          "output_type": "execute_result"
        }
      ]
    },
    {
      "cell_type": "code",
      "metadata": {
        "id": "df8dc9c4",
        "outputId": "a1b97aee-124c-4ed4-d1b4-de16f976c10c"
      },
      "source": [
        "str5 = 100\n",
        "str6 = \"%d 파이썬 딥러닝\" %str5 # %d : 숫자 받을 때 사용\n",
        "str6"
      ],
      "id": "df8dc9c4",
      "execution_count": null,
      "outputs": [
        {
          "data": {
            "text/plain": [
              "'100 파이썬 딥러닝'"
            ]
          },
          "execution_count": 49,
          "metadata": {},
          "output_type": "execute_result"
        }
      ]
    },
    {
      "cell_type": "code",
      "metadata": {
        "id": "6a6a32e1",
        "outputId": "db893941-da30-497b-e987-7d3364894d0c"
      },
      "source": [
        "str7 = 100.5\n",
        "str8 = \"%f 파이썬 딥러닝\" %str5 # %d : 숫자 받을 때 사용\n",
        "str8"
      ],
      "id": "6a6a32e1",
      "execution_count": null,
      "outputs": [
        {
          "data": {
            "text/plain": [
              "'100.000000 파이썬 딥러닝'"
            ]
          },
          "execution_count": 50,
          "metadata": {},
          "output_type": "execute_result"
        }
      ]
    },
    {
      "cell_type": "markdown",
      "metadata": {
        "id": "602a57b8"
      },
      "source": [
        "### <소스> 2_4_data_types_3"
      ],
      "id": "602a57b8"
    },
    {
      "cell_type": "code",
      "metadata": {
        "id": "67b7c21f",
        "outputId": "d0e19644-3575-4045-87aa-e38ce6f78996"
      },
      "source": [
        "list1 = [1,2,3,4,5]\n",
        "list1"
      ],
      "id": "67b7c21f",
      "execution_count": null,
      "outputs": [
        {
          "data": {
            "text/plain": [
              "[1, 2, 3, 4, 5]"
            ]
          },
          "execution_count": 51,
          "metadata": {},
          "output_type": "execute_result"
        }
      ]
    },
    {
      "cell_type": "code",
      "metadata": {
        "id": "3e627b3d",
        "outputId": "8afaa1e2-c9b2-4e92-f800-f0724f8f97c8"
      },
      "source": [
        "type(list1)"
      ],
      "id": "3e627b3d",
      "execution_count": null,
      "outputs": [
        {
          "data": {
            "text/plain": [
              "list"
            ]
          },
          "execution_count": 52,
          "metadata": {},
          "output_type": "execute_result"
        }
      ]
    },
    {
      "cell_type": "code",
      "metadata": {
        "id": "8aa758db",
        "outputId": "8b097b8c-0169-47f8-bd0a-ba35fae778dc"
      },
      "source": [
        "list2 = [10]\n",
        "print(list2)\n",
        "print(type(list2))"
      ],
      "id": "8aa758db",
      "execution_count": null,
      "outputs": [
        {
          "name": "stdout",
          "output_type": "stream",
          "text": [
            "[10]\n",
            "<class 'list'>\n"
          ]
        }
      ]
    },
    {
      "cell_type": "code",
      "metadata": {
        "id": "ffc53016",
        "outputId": "0f781a8f-8664-40ae-d6a2-7eeda992fe0b"
      },
      "source": [
        "# list 초기화\n",
        "\n",
        "list3 = list()\n",
        "print(list3)"
      ],
      "id": "ffc53016",
      "execution_count": null,
      "outputs": [
        {
          "name": "stdout",
          "output_type": "stream",
          "text": [
            "[]\n"
          ]
        }
      ]
    },
    {
      "cell_type": "code",
      "metadata": {
        "id": "4c179e8f",
        "outputId": "c3567233-55d4-4e96-f15a-97a36578fd81"
      },
      "source": [
        "list4 = []\n",
        "print(list4) # 빈 리스트와 append 함수 : 같이 자주 씀"
      ],
      "id": "4c179e8f",
      "execution_count": null,
      "outputs": [
        {
          "name": "stdout",
          "output_type": "stream",
          "text": [
            "[]\n"
          ]
        }
      ]
    },
    {
      "cell_type": "code",
      "metadata": {
        "id": "ce40a79b",
        "outputId": "90c027d8-e934-4dff-a8bf-51962a765cd0"
      },
      "source": [
        "list_of_list = [list1, list2, list3] # 각각은 list1, list2, list3 : 1차원\n",
        "list_of_list # 2차원(텐서 : 머신러닝)"
      ],
      "id": "ce40a79b",
      "execution_count": null,
      "outputs": [
        {
          "data": {
            "text/plain": [
              "[[1, 2, 3, 4, 5], [10], []]"
            ]
          },
          "execution_count": 57,
          "metadata": {},
          "output_type": "execute_result"
        }
      ]
    },
    {
      "cell_type": "code",
      "metadata": {
        "id": "95c5acf5",
        "outputId": "a03521a3-1748-45f4-d661-b9707648c15d"
      },
      "source": [
        "type(list_of_list)"
      ],
      "id": "95c5acf5",
      "execution_count": null,
      "outputs": [
        {
          "data": {
            "text/plain": [
              "list"
            ]
          },
          "execution_count": 58,
          "metadata": {},
          "output_type": "execute_result"
        }
      ]
    },
    {
      "cell_type": "code",
      "metadata": {
        "id": "495d1ab7",
        "outputId": "f745d461-92f8-4b76-b519-af7b6b8066fa"
      },
      "source": [
        "list_of_list[0]"
      ],
      "id": "495d1ab7",
      "execution_count": null,
      "outputs": [
        {
          "data": {
            "text/plain": [
              "[1, 2, 3, 4, 5]"
            ]
          },
          "execution_count": 59,
          "metadata": {},
          "output_type": "execute_result"
        }
      ]
    },
    {
      "cell_type": "code",
      "metadata": {
        "id": "81373837",
        "outputId": "2ded8409-a8ca-4da3-f653-c1e0a2e28f7b"
      },
      "source": [
        "list_of_list[1]"
      ],
      "id": "81373837",
      "execution_count": null,
      "outputs": [
        {
          "data": {
            "text/plain": [
              "[10]"
            ]
          },
          "execution_count": 60,
          "metadata": {},
          "output_type": "execute_result"
        }
      ]
    },
    {
      "cell_type": "code",
      "metadata": {
        "id": "e9b2078e",
        "outputId": "b6628844-541d-4364-d89b-7e532474a178"
      },
      "source": [
        "list_of_list[2]\n",
        "list_of_list[-1]"
      ],
      "id": "e9b2078e",
      "execution_count": null,
      "outputs": [
        {
          "data": {
            "text/plain": [
              "[]"
            ]
          },
          "execution_count": 61,
          "metadata": {},
          "output_type": "execute_result"
        }
      ]
    },
    {
      "cell_type": "code",
      "metadata": {
        "id": "93f38207",
        "outputId": "18c143d2-122c-46f9-f291-0c0068a1165a"
      },
      "source": [
        "list_of_list[0][1]"
      ],
      "id": "93f38207",
      "execution_count": null,
      "outputs": [
        {
          "data": {
            "text/plain": [
              "2"
            ]
          },
          "execution_count": 62,
          "metadata": {},
          "output_type": "execute_result"
        }
      ]
    },
    {
      "cell_type": "code",
      "metadata": {
        "id": "99730738",
        "outputId": "cae93b10-37c7-40dc-e00f-840acf5f9867"
      },
      "source": [
        "list1.append(100)\n",
        "list1"
      ],
      "id": "99730738",
      "execution_count": null,
      "outputs": [
        {
          "data": {
            "text/plain": [
              "[1, 2, 3, 4, 5, 100, 100, 100, 100]"
            ]
          },
          "execution_count": 92,
          "metadata": {},
          "output_type": "execute_result"
        }
      ]
    },
    {
      "cell_type": "code",
      "metadata": {
        "id": "6572f4d9"
      },
      "source": [
        "list3 = []"
      ],
      "id": "6572f4d9",
      "execution_count": null,
      "outputs": []
    },
    {
      "cell_type": "code",
      "metadata": {
        "id": "297877ea"
      },
      "source": [
        "list3.append(7)"
      ],
      "id": "297877ea",
      "execution_count": null,
      "outputs": []
    },
    {
      "cell_type": "code",
      "metadata": {
        "id": "025a9f35",
        "outputId": "a3be8979-584d-415d-d47e-7833d64d405f"
      },
      "source": [
        "list3.append(7)\n",
        "list3.append(8)\n",
        "list3.append(9)\n",
        "list3"
      ],
      "id": "025a9f35",
      "execution_count": null,
      "outputs": [
        {
          "data": {
            "text/plain": [
              "[7, 8, 9, 7, 8, 9, 7, 8, 9]"
            ]
          },
          "execution_count": 90,
          "metadata": {},
          "output_type": "execute_result"
        }
      ]
    },
    {
      "cell_type": "markdown",
      "metadata": {
        "id": "903f1d41"
      },
      "source": [
        "### 2.5_data_types_4"
      ],
      "id": "903f1d41"
    },
    {
      "cell_type": "code",
      "metadata": {
        "id": "72ce965d",
        "outputId": "f809a81a-a61b-4e2d-f08b-69abb460a877"
      },
      "source": [
        "tuple1 = (1,2)\n",
        "tuple1"
      ],
      "id": "72ce965d",
      "execution_count": null,
      "outputs": [
        {
          "data": {
            "text/plain": [
              "(1, 2)"
            ]
          },
          "execution_count": 70,
          "metadata": {},
          "output_type": "execute_result"
        }
      ]
    },
    {
      "cell_type": "code",
      "metadata": {
        "id": "337c9b72",
        "outputId": "50b8c582-bacd-4328-a2cd-2a225cb0ef1d"
      },
      "source": [
        "type(tuple1)"
      ],
      "id": "337c9b72",
      "execution_count": null,
      "outputs": [
        {
          "data": {
            "text/plain": [
              "tuple"
            ]
          },
          "execution_count": 71,
          "metadata": {},
          "output_type": "execute_result"
        }
      ]
    },
    {
      "cell_type": "code",
      "metadata": {
        "id": "cade1cf4",
        "outputId": "b1c1ea57-51dd-44f3-8e30-83508a7c84eb"
      },
      "source": [
        "tuple2 = (\"a\",\"b\",100)\n",
        "tuple2"
      ],
      "id": "cade1cf4",
      "execution_count": null,
      "outputs": [
        {
          "data": {
            "text/plain": [
              "('a', 'b', 100)"
            ]
          },
          "execution_count": 72,
          "metadata": {},
          "output_type": "execute_result"
        }
      ]
    },
    {
      "cell_type": "code",
      "metadata": {
        "id": "1308f981",
        "outputId": "0a4945c6-b8b4-41da-e654-1181ccc86397"
      },
      "source": [
        "tuple3 = tuple()\n",
        "tuple4 = ()\n",
        "print(tuple3)\n",
        "print(tuple4)"
      ],
      "id": "1308f981",
      "execution_count": null,
      "outputs": [
        {
          "name": "stdout",
          "output_type": "stream",
          "text": [
            "()\n",
            "()\n"
          ]
        }
      ]
    },
    {
      "cell_type": "code",
      "metadata": {
        "id": "eaefa078",
        "outputId": "75b0abfc-f3aa-4f77-d3ee-6bf67e6c7903"
      },
      "source": [
        "tuple2[0]"
      ],
      "id": "eaefa078",
      "execution_count": null,
      "outputs": [
        {
          "data": {
            "text/plain": [
              "'a'"
            ]
          },
          "execution_count": 75,
          "metadata": {},
          "output_type": "execute_result"
        }
      ]
    },
    {
      "cell_type": "code",
      "metadata": {
        "id": "bcbde9a3",
        "outputId": "822e7ac3-c7dc-4e42-f32f-3a137bde3706"
      },
      "source": [
        "tuple2[1:]"
      ],
      "id": "bcbde9a3",
      "execution_count": null,
      "outputs": [
        {
          "data": {
            "text/plain": [
              "('b', 100)"
            ]
          },
          "execution_count": 76,
          "metadata": {},
          "output_type": "execute_result"
        }
      ]
    },
    {
      "cell_type": "markdown",
      "metadata": {
        "id": "88f679b6"
      },
      "source": [
        "### 2.6_data_types_5"
      ],
      "id": "88f679b6"
    },
    {
      "cell_type": "code",
      "metadata": {
        "id": "ed3a88dc",
        "outputId": "6f5d019f-9e28-44f4-9b91-044b87cf2300"
      },
      "source": [
        "dict1 = { 'name':\"Jay\", 'age': 20 }\n",
        "dict1\n",
        "# name = \"Jay\"\n",
        "# age = 20"
      ],
      "id": "ed3a88dc",
      "execution_count": null,
      "outputs": [
        {
          "data": {
            "text/plain": [
              "{'name': 'Jay', 'age': 20}"
            ]
          },
          "execution_count": 77,
          "metadata": {},
          "output_type": "execute_result"
        }
      ]
    },
    {
      "cell_type": "code",
      "metadata": {
        "id": "f5a52b84",
        "outputId": "13654e00-b801-488a-9cc3-105cf70a3632"
      },
      "source": [
        "type(dict1)"
      ],
      "id": "f5a52b84",
      "execution_count": null,
      "outputs": [
        {
          "data": {
            "text/plain": [
              "dict"
            ]
          },
          "execution_count": 78,
          "metadata": {},
          "output_type": "execute_result"
        }
      ]
    },
    {
      "cell_type": "code",
      "metadata": {
        "id": "61a401a1",
        "outputId": "16b6946c-5692-4dd0-a3d3-1139d9fa0296"
      },
      "source": [
        "dict1['name']"
      ],
      "id": "61a401a1",
      "execution_count": null,
      "outputs": [
        {
          "data": {
            "text/plain": [
              "'Jay'"
            ]
          },
          "execution_count": 79,
          "metadata": {},
          "output_type": "execute_result"
        }
      ]
    },
    {
      "cell_type": "code",
      "metadata": {
        "id": "fe4bde2c",
        "outputId": "30b92fd9-1a74-4e5f-9d59-b81a98ff48cd"
      },
      "source": [
        "dict1['age']"
      ],
      "id": "fe4bde2c",
      "execution_count": null,
      "outputs": [
        {
          "data": {
            "text/plain": [
              "20"
            ]
          },
          "execution_count": 80,
          "metadata": {},
          "output_type": "execute_result"
        }
      ]
    },
    {
      "cell_type": "code",
      "metadata": {
        "id": "065bb108",
        "outputId": "bba1a885-6b7b-4224-c60e-dee96d90981b"
      },
      "source": [
        "dict1['grade'] = [3.0, 4.0, 3.5, 4.2]\n",
        "dict1"
      ],
      "id": "065bb108",
      "execution_count": null,
      "outputs": [
        {
          "data": {
            "text/plain": [
              "{'name': 'Jay', 'age': 20, 'grade': [3.0, 4.0, 3.5, 4.2]}"
            ]
          },
          "execution_count": 81,
          "metadata": {},
          "output_type": "execute_result"
        }
      ]
    },
    {
      "cell_type": "code",
      "metadata": {
        "id": "8d14dc1a",
        "outputId": "dfea6501-875c-4e22-eef6-77181fa30db0"
      },
      "source": [
        "dict1.keys()"
      ],
      "id": "8d14dc1a",
      "execution_count": null,
      "outputs": [
        {
          "data": {
            "text/plain": [
              "dict_keys(['name', 'age', 'grade'])"
            ]
          },
          "execution_count": 82,
          "metadata": {},
          "output_type": "execute_result"
        }
      ]
    },
    {
      "cell_type": "code",
      "metadata": {
        "id": "4047f46e",
        "outputId": "8fec0fad-6510-450a-ead3-0c906651a419"
      },
      "source": [
        "dict1.values()"
      ],
      "id": "4047f46e",
      "execution_count": null,
      "outputs": [
        {
          "data": {
            "text/plain": [
              "dict_values(['Jay', 20, [3.0, 4.0, 3.5, 4.2]])"
            ]
          },
          "execution_count": 83,
          "metadata": {},
          "output_type": "execute_result"
        }
      ]
    },
    {
      "cell_type": "code",
      "metadata": {
        "id": "4089159a",
        "outputId": "2a92bc39-b109-4636-a7b9-80d67a7ad538"
      },
      "source": [
        "dict1.items()"
      ],
      "id": "4089159a",
      "execution_count": null,
      "outputs": [
        {
          "data": {
            "text/plain": [
              "dict_items([('name', 'Jay'), ('age', 20), ('grade', [3.0, 4.0, 3.5, 4.2])])"
            ]
          },
          "execution_count": 84,
          "metadata": {},
          "output_type": "execute_result"
        }
      ]
    },
    {
      "cell_type": "markdown",
      "metadata": {
        "id": "0054e367"
      },
      "source": [
        "### 2.7_operators_1"
      ],
      "id": "0054e367"
    },
    {
      "cell_type": "code",
      "metadata": {
        "id": "44cb46d4",
        "outputId": "d531180b-6e16-463a-ff73-90e938155b18"
      },
      "source": [
        "1+2"
      ],
      "id": "44cb46d4",
      "execution_count": null,
      "outputs": [
        {
          "data": {
            "text/plain": [
              "3"
            ]
          },
          "execution_count": 93,
          "metadata": {},
          "output_type": "execute_result"
        }
      ]
    },
    {
      "cell_type": "code",
      "metadata": {
        "id": "ee07825a",
        "outputId": "597b3fd9-eb7a-4799-b3b4-1ee3517624f9"
      },
      "source": [
        "new_str = \"Good\" + \" \" + \"Morning\"\n",
        "new_str"
      ],
      "id": "ee07825a",
      "execution_count": null,
      "outputs": [
        {
          "data": {
            "text/plain": [
              "'Good Morning'"
            ]
          },
          "execution_count": 94,
          "metadata": {},
          "output_type": "execute_result"
        }
      ]
    },
    {
      "cell_type": "code",
      "metadata": {
        "id": "b970e13b",
        "outputId": "0208afba-4545-4190-d0b9-1de2863fdc4b"
      },
      "source": [
        "print(\"Good\", \"Morning\")"
      ],
      "id": "b970e13b",
      "execution_count": null,
      "outputs": [
        {
          "name": "stdout",
          "output_type": "stream",
          "text": [
            "Good Morning\n"
          ]
        }
      ]
    },
    {
      "cell_type": "code",
      "metadata": {
        "id": "fa100633",
        "outputId": "9dcf681b-bc2a-4166-d072-f6eeb1a38057"
      },
      "source": [
        "\"a\" * 3 # 문자 * 숫자 : 반복(횟수, 파이썬 특수!)"
      ],
      "id": "fa100633",
      "execution_count": null,
      "outputs": [
        {
          "data": {
            "text/plain": [
              "'aaa'"
            ]
          },
          "execution_count": 97,
          "metadata": {},
          "output_type": "execute_result"
        }
      ]
    },
    {
      "cell_type": "code",
      "metadata": {
        "id": "0380f172",
        "outputId": "97e22cd2-2469-4586-f6de-1074fbf23cfd"
      },
      "source": [
        "print(\"=\"*30)\n",
        "print(\"이름\")\n",
        "print(\"=\"*30)"
      ],
      "id": "0380f172",
      "execution_count": null,
      "outputs": [
        {
          "name": "stdout",
          "output_type": "stream",
          "text": [
            "==============================\n",
            "이름\n",
            "==============================\n"
          ]
        }
      ]
    },
    {
      "cell_type": "code",
      "metadata": {
        "id": "cc3a57b3",
        "outputId": "3cb6af7f-297f-4402-cd82-fa7c7c0ba3a0"
      },
      "source": [
        "print(5/3)"
      ],
      "id": "cc3a57b3",
      "execution_count": null,
      "outputs": [
        {
          "name": "stdout",
          "output_type": "stream",
          "text": [
            "1.6666666666666667\n"
          ]
        }
      ]
    },
    {
      "cell_type": "code",
      "metadata": {
        "id": "53c59d2d",
        "outputId": "a5606b3e-c322-4406-9611-450b85285a83"
      },
      "source": [
        "5 // 3"
      ],
      "id": "53c59d2d",
      "execution_count": null,
      "outputs": [
        {
          "data": {
            "text/plain": [
              "1"
            ]
          },
          "execution_count": 101,
          "metadata": {},
          "output_type": "execute_result"
        }
      ]
    },
    {
      "cell_type": "code",
      "metadata": {
        "id": "0a9ff404",
        "outputId": "040c3018-a82e-4552-8f85-987591acade3"
      },
      "source": [
        "5 % 3"
      ],
      "id": "0a9ff404",
      "execution_count": null,
      "outputs": [
        {
          "data": {
            "text/plain": [
              "2"
            ]
          },
          "execution_count": 102,
          "metadata": {},
          "output_type": "execute_result"
        }
      ]
    },
    {
      "cell_type": "code",
      "metadata": {
        "id": "f99fedd9",
        "outputId": "1a63b334-842a-4758-e842-15a7f265f2f4"
      },
      "source": [
        "3 ** 2"
      ],
      "id": "f99fedd9",
      "execution_count": null,
      "outputs": [
        {
          "data": {
            "text/plain": [
              "9"
            ]
          },
          "execution_count": 103,
          "metadata": {},
          "output_type": "execute_result"
        }
      ]
    },
    {
      "cell_type": "markdown",
      "metadata": {
        "id": "9e219834"
      },
      "source": [
        "### 2.8_operators_2"
      ],
      "id": "9e219834"
    },
    {
      "cell_type": "code",
      "metadata": {
        "id": "6715e57c",
        "outputId": "24226014-9dac-4c97-89f4-1ac7b9eb18f3"
      },
      "source": [
        "True # 파이썬의 예약어(파이썬에서 쓰는 단어)"
      ],
      "id": "6715e57c",
      "execution_count": null,
      "outputs": [
        {
          "data": {
            "text/plain": [
              "True"
            ]
          },
          "execution_count": 104,
          "metadata": {},
          "output_type": "execute_result"
        }
      ]
    },
    {
      "cell_type": "code",
      "metadata": {
        "id": "1dd17712",
        "outputId": "0619bd83-439e-4958-b2f9-5330a866d11e"
      },
      "source": [
        "true"
      ],
      "id": "1dd17712",
      "execution_count": null,
      "outputs": [
        {
          "ename": "NameError",
          "evalue": "name 'true' is not defined",
          "output_type": "error",
          "traceback": [
            "\u001b[1;31m---------------------------------------------------------------------------\u001b[0m",
            "\u001b[1;31mNameError\u001b[0m                                 Traceback (most recent call last)",
            "\u001b[1;32m<ipython-input-105-724ba28f4a9a>\u001b[0m in \u001b[0;36m<module>\u001b[1;34m\u001b[0m\n\u001b[1;32m----> 1\u001b[1;33m \u001b[0mtrue\u001b[0m\u001b[1;33m\u001b[0m\u001b[1;33m\u001b[0m\u001b[0m\n\u001b[0m",
            "\u001b[1;31mNameError\u001b[0m: name 'true' is not defined"
          ]
        }
      ]
    },
    {
      "cell_type": "code",
      "metadata": {
        "id": "38be7389",
        "outputId": "523d87aa-7ba8-49a3-8eab-97a9782f25b2"
      },
      "source": [
        "TRUE"
      ],
      "id": "38be7389",
      "execution_count": null,
      "outputs": [
        {
          "ename": "NameError",
          "evalue": "name 'TRUE' is not defined",
          "output_type": "error",
          "traceback": [
            "\u001b[1;31m---------------------------------------------------------------------------\u001b[0m",
            "\u001b[1;31mNameError\u001b[0m                                 Traceback (most recent call last)",
            "\u001b[1;32m<ipython-input-106-425fdcbd1209>\u001b[0m in \u001b[0;36m<module>\u001b[1;34m\u001b[0m\n\u001b[1;32m----> 1\u001b[1;33m \u001b[0mTRUE\u001b[0m\u001b[1;33m\u001b[0m\u001b[1;33m\u001b[0m\u001b[0m\n\u001b[0m",
            "\u001b[1;31mNameError\u001b[0m: name 'TRUE' is not defined"
          ]
        }
      ]
    },
    {
      "cell_type": "code",
      "metadata": {
        "id": "644a9f9d",
        "outputId": "d005a1d1-2cf3-45a4-88f6-ad1c1d77e086"
      },
      "source": [
        "not True # OS( Win10, Mac ) : 폴더 있으면 그대로 사용, 없으면 새로 만들기"
      ],
      "id": "644a9f9d",
      "execution_count": null,
      "outputs": [
        {
          "data": {
            "text/plain": [
              "False"
            ]
          },
          "execution_count": 107,
          "metadata": {},
          "output_type": "execute_result"
        }
      ]
    },
    {
      "cell_type": "code",
      "metadata": {
        "id": "1766d485",
        "outputId": "ce7699e6-5fb2-4f0d-9076-f170dffc3d51"
      },
      "source": [
        "type(False)"
      ],
      "id": "1766d485",
      "execution_count": null,
      "outputs": [
        {
          "data": {
            "text/plain": [
              "bool"
            ]
          },
          "execution_count": 108,
          "metadata": {},
          "output_type": "execute_result"
        }
      ]
    },
    {
      "cell_type": "code",
      "metadata": {
        "id": "cb6891ce",
        "outputId": "4074bcb7-30c6-41ba-9f5b-9485a6a31b08"
      },
      "source": [
        "print(True and True)\n",
        "print(True and False)\n",
        "print(False and False)"
      ],
      "id": "cb6891ce",
      "execution_count": null,
      "outputs": [
        {
          "name": "stdout",
          "output_type": "stream",
          "text": [
            "True\n",
            "False\n",
            "False\n"
          ]
        }
      ]
    },
    {
      "cell_type": "code",
      "metadata": {
        "id": "c2fd1a83"
      },
      "source": [
        "print(\"돈 있음\" and \"먹고싶음\") # 먹음\n",
        "print(\"돈 없음\" and \"먹고싶음\") # 못 먹음\n",
        "print(\"돈 있음\" and \"먹고싶지 않음\") # 안 먹음\n",
        "print(\"돈 없음\" and \"먹고싶지 않음\") # 못 먹음"
      ],
      "id": "c2fd1a83",
      "execution_count": null,
      "outputs": []
    },
    {
      "cell_type": "code",
      "metadata": {
        "id": "605d3a0f"
      },
      "source": [
        "print(\"김치찌게\" or \"된장찌게\") # 먹기 (가게에 들어감)\n",
        "print(\"김치찌게\" or \"된장찌게 X\") # 김치찌게 먹기 (가게에 들어감)\n",
        "print(\"김치찌게 X\" or \"된장찌게\") # 된장찌게 먹기 (가게에 들어감)\n",
        "print(\"김치찌게 X\" or \"된장찌게 X\") # 다른 가게 감"
      ],
      "id": "605d3a0f",
      "execution_count": null,
      "outputs": []
    },
    {
      "cell_type": "code",
      "metadata": {
        "id": "2f452ac8",
        "outputId": "26c78b95-aca9-45f7-9a99-a2e9ab0f3405"
      },
      "source": [
        "\"신동욱\" == \"신동욱\""
      ],
      "id": "2f452ac8",
      "execution_count": null,
      "outputs": [
        {
          "data": {
            "text/plain": [
              "True"
            ]
          },
          "execution_count": 110,
          "metadata": {},
          "output_type": "execute_result"
        }
      ]
    },
    {
      "cell_type": "code",
      "metadata": {
        "id": "87628754",
        "outputId": "da4e7ce9-8f67-4bce-872e-d4bf272ad4e3"
      },
      "source": [
        "\"신동욱\" != \"신동욱\""
      ],
      "id": "87628754",
      "execution_count": null,
      "outputs": [
        {
          "data": {
            "text/plain": [
              "False"
            ]
          },
          "execution_count": 111,
          "metadata": {},
          "output_type": "execute_result"
        }
      ]
    },
    {
      "cell_type": "code",
      "metadata": {
        "id": "2165a3bb",
        "outputId": "06285261-9e8b-4502-934b-d19f4a3e1bb5"
      },
      "source": [
        "var1 = 'a' # DB에 저장된 아이디\n",
        "var2 = 'a' # 사용자 아이디\n",
        "var1 == var2\n",
        "\n",
        "# True : 회원 => 웰컴 페이지 xxx님 환영합니다.\n",
        "# False : 회원이 아님 => 신규가입 페이지로 유도"
      ],
      "id": "2165a3bb",
      "execution_count": null,
      "outputs": [
        {
          "data": {
            "text/plain": [
              "True"
            ]
          },
          "execution_count": 112,
          "metadata": {},
          "output_type": "execute_result"
        }
      ]
    },
    {
      "cell_type": "markdown",
      "metadata": {
        "id": "720c6935"
      },
      "source": [
        "### 2.10_control_1"
      ],
      "id": "720c6935"
    },
    {
      "cell_type": "code",
      "metadata": {
        "id": "f18691c5",
        "outputId": "f45023bd-9ed6-4506-842d-95c4873fda7a"
      },
      "source": [
        "a = 4\n",
        "\n",
        "if a % 2 == 0:\n",
        "    print(\"a는 짝수\")\n",
        "    print(\"a는 2의 배수\")"
      ],
      "id": "f18691c5",
      "execution_count": null,
      "outputs": [
        {
          "name": "stdout",
          "output_type": "stream",
          "text": [
            "a는 짝수\n",
            "a는 2의 배수\n"
          ]
        }
      ]
    },
    {
      "cell_type": "code",
      "metadata": {
        "id": "35214252"
      },
      "source": [
        "if a % 2 !=0: # False\n",
        "    print(\"a는 홀수\")"
      ],
      "id": "35214252",
      "execution_count": null,
      "outputs": []
    },
    {
      "cell_type": "code",
      "metadata": {
        "id": "bf030873",
        "outputId": "6627524e-3cbd-4362-c429-e6c907e989d1"
      },
      "source": [
        "b = 7\n",
        "if b % 2 == 0:\n",
        "    print('b는 짝수')\n",
        "else:\n",
        "    print(\"b는 홀수\")"
      ],
      "id": "bf030873",
      "execution_count": null,
      "outputs": [
        {
          "name": "stdout",
          "output_type": "stream",
          "text": [
            "b는 홀수\n"
          ]
        }
      ]
    },
    {
      "cell_type": "code",
      "metadata": {
        "id": "837ea1f0",
        "outputId": "996aeed8-e2c4-4cce-a091-42168a1503b5"
      },
      "source": [
        "c = -1\n",
        "if c > 0:\n",
        "    print(\"c는 양수\")\n",
        "elif c < 0:\n",
        "    print(\"c는 음수\")\n",
        "else:\n",
        "    print(\"c는 0\")"
      ],
      "id": "837ea1f0",
      "execution_count": null,
      "outputs": [
        {
          "name": "stdout",
          "output_type": "stream",
          "text": [
            "c는 음수\n"
          ]
        }
      ]
    },
    {
      "cell_type": "markdown",
      "metadata": {
        "id": "5798d0d1"
      },
      "source": [
        "### 2.11_control_2"
      ],
      "id": "5798d0d1"
    },
    {
      "cell_type": "code",
      "metadata": {
        "id": "6e534b2b",
        "outputId": "bac13e8b-a763-4580-8055-33994e3ccdbc"
      },
      "source": [
        "num_list = [1,2,3]\n",
        "\n",
        "for num in num_list:\n",
        "    print(num)"
      ],
      "id": "6e534b2b",
      "execution_count": null,
      "outputs": [
        {
          "name": "stdout",
          "output_type": "stream",
          "text": [
            "1\n",
            "2\n",
            "3\n"
          ]
        }
      ]
    },
    {
      "cell_type": "code",
      "metadata": {
        "id": "b8f54303",
        "outputId": "4c1294c8-5f96-4539-d550-f9855d9b917e"
      },
      "source": [
        "team_list = [\"신동욱\",\"박상석\",\"최선욱\"]\n",
        "address = ['서울', \"대전\", \"인천\"]\n",
        "\n",
        "for one in team_list:\n",
        "    for add in address:\n",
        "        # print(one + \"님\")\n",
        "        print(one, \"님\") # 택배 송장\n",
        "        print(add)"
      ],
      "id": "b8f54303",
      "execution_count": null,
      "outputs": [
        {
          "ename": "ValueError",
          "evalue": "too many values to unpack (expected 2)",
          "output_type": "error",
          "traceback": [
            "\u001b[1;31m---------------------------------------------------------------------------\u001b[0m",
            "\u001b[1;31mValueError\u001b[0m                                Traceback (most recent call last)",
            "\u001b[1;32m<ipython-input-144-96d1e53c9c8c>\u001b[0m in \u001b[0;36m<module>\u001b[1;34m\u001b[0m\n\u001b[0;32m      2\u001b[0m \u001b[0maddress\u001b[0m \u001b[1;33m=\u001b[0m \u001b[1;33m[\u001b[0m\u001b[1;34m'서울'\u001b[0m\u001b[1;33m,\u001b[0m \u001b[1;34m\"대전\"\u001b[0m\u001b[1;33m,\u001b[0m \u001b[1;34m\"인천\"\u001b[0m\u001b[1;33m]\u001b[0m\u001b[1;33m\u001b[0m\u001b[1;33m\u001b[0m\u001b[0m\n\u001b[0;32m      3\u001b[0m \u001b[1;33m\u001b[0m\u001b[0m\n\u001b[1;32m----> 4\u001b[1;33m \u001b[1;32mfor\u001b[0m \u001b[0mone\u001b[0m\u001b[1;33m,\u001b[0m \u001b[0madd\u001b[0m \u001b[1;32min\u001b[0m \u001b[0mteam_list\u001b[0m\u001b[1;33m,\u001b[0m \u001b[0maddress\u001b[0m\u001b[1;33m:\u001b[0m\u001b[1;33m\u001b[0m\u001b[1;33m\u001b[0m\u001b[0m\n\u001b[0m\u001b[0;32m      5\u001b[0m     \u001b[0mprint\u001b[0m\u001b[1;33m(\u001b[0m\u001b[0mone\u001b[0m\u001b[1;33m,\u001b[0m \u001b[1;34m\"님\"\u001b[0m\u001b[1;33m,\u001b[0m \u001b[0madd\u001b[0m \u001b[1;33m+\u001b[0m \u001b[1;34m\"삽니다.\"\u001b[0m\u001b[1;33m)\u001b[0m\u001b[1;33m\u001b[0m\u001b[1;33m\u001b[0m\u001b[0m\n",
            "\u001b[1;31mValueError\u001b[0m: too many values to unpack (expected 2)"
          ]
        }
      ]
    },
    {
      "cell_type": "code",
      "metadata": {
        "id": "f5c697fa",
        "outputId": "f9b19b9f-61e0-4c81-a071-0c8fa6b1b734"
      },
      "source": [
        "for num in [1,2,3]:\n",
        "    print(\"기존:\", num)\n",
        "    print(\"2 배:\", num*2, \"\\n\")"
      ],
      "id": "f5c697fa",
      "execution_count": null,
      "outputs": [
        {
          "name": "stdout",
          "output_type": "stream",
          "text": [
            "기존: 1\n",
            "2 배: 2 \n",
            "\n",
            "기존: 2\n",
            "2 배: 4 \n",
            "\n",
            "기존: 3\n",
            "2 배: 6 \n",
            "\n"
          ]
        }
      ]
    },
    {
      "cell_type": "code",
      "metadata": {
        "id": "24fdfe32",
        "outputId": "2508abba-c113-4c3e-ed7c-2453d15f098b"
      },
      "source": [
        "double = [] # 리스트(값 여러개 저장) 초기화\n",
        "\n",
        "for num in [1,2,3]: # 반복\n",
        "    double.append(num * 2) # 저장할공간.append(기존, 수식)\n",
        "    \n",
        "print(double)"
      ],
      "id": "24fdfe32",
      "execution_count": null,
      "outputs": [
        {
          "name": "stdout",
          "output_type": "stream",
          "text": [
            "[2, 4, 6]\n"
          ]
        }
      ]
    },
    {
      "cell_type": "code",
      "metadata": {
        "id": "7f854b26",
        "outputId": "26788838-fff7-4dda-f844-f68c803067fd"
      },
      "source": [
        "num = 1\n",
        "\n",
        "while num < 4:\n",
        "    print(num)\n",
        "    break\n",
        "    num = num + 1"
      ],
      "id": "7f854b26",
      "execution_count": null,
      "outputs": [
        {
          "name": "stdout",
          "output_type": "stream",
          "text": [
            "1\n"
          ]
        }
      ]
    },
    {
      "cell_type": "code",
      "metadata": {
        "id": "f32f9bfa",
        "outputId": "f8d822ee-c6e8-4d79-d1bd-0940f01c61e0"
      },
      "source": [
        "num = 1\n",
        "\n",
        "double = []\n",
        "\n",
        "while True:\n",
        "    double.append(num * 2)\n",
        "    if len(double) == 3:\n",
        "        break\n",
        "    num = num + 1\n",
        "\n",
        "print(double)"
      ],
      "id": "f32f9bfa",
      "execution_count": null,
      "outputs": [
        {
          "name": "stdout",
          "output_type": "stream",
          "text": [
            "[2, 4, 6]\n"
          ]
        }
      ]
    },
    {
      "cell_type": "code",
      "metadata": {
        "id": "4de3b91d",
        "outputId": "76b0f226-317a-4ad2-95de-73671e911fa7"
      },
      "source": [
        "num_range = range(1, 46)\n",
        "\n",
        "num_list = list(num_range)\n",
        "\n",
        "print(num_list)"
      ],
      "id": "4de3b91d",
      "execution_count": null,
      "outputs": [
        {
          "name": "stdout",
          "output_type": "stream",
          "text": [
            "[1, 2, 3, 4, 5, 6, 7, 8, 9, 10, 11, 12, 13, 14, 15, 16, 17, 18, 19, 20, 21, 22, 23, 24, 25, 26, 27, 28, 29, 30, 31, 32, 33, 34, 35, 36, 37, 38, 39, 40, 41, 42, 43, 44, 45]\n"
          ]
        }
      ]
    },
    {
      "cell_type": "code",
      "metadata": {
        "id": "84056a0b",
        "outputId": "96ed4c1c-54d4-4b45-f899-531baf13667c"
      },
      "source": [
        "import random\n",
        "\n",
        "random.shuffle(num_list)\n",
        "\n",
        "print(num_list)"
      ],
      "id": "84056a0b",
      "execution_count": null,
      "outputs": [
        {
          "name": "stdout",
          "output_type": "stream",
          "text": [
            "[33, 29, 2, 24, 45, 7, 18, 34, 8, 22, 36, 25, 44, 3, 14, 4, 40, 28, 10, 41, 23, 31, 19, 6, 39, 38, 15, 27, 5, 11, 26, 12, 42, 16, 43, 17, 37, 1, 20, 32, 21, 30, 9, 13, 35]\n"
          ]
        }
      ]
    },
    {
      "cell_type": "code",
      "metadata": {
        "id": "cf1696f0",
        "outputId": "2d672468-f188-4697-c222-829d52b18d45"
      },
      "source": [
        "lotto = [] # 6개 숫자를 저장하는 공간\n",
        "\n",
        "while len(lotto) < 6:\n",
        "    random.shuffle(num_list)\n",
        "    num_selected = num_list[0]\n",
        "    \n",
        "    if num_selected in lotto: # 비복원, lotto(로또 번호 저장공간)\n",
        "        continue\n",
        "    lotto.append(num_selected) # lotto 공간에 저장\n",
        "    print(num_selected) # 선택된 번호 출력\n",
        "    \n",
        "print(lotto) # 전체 모아진 숫자 출력"
      ],
      "id": "cf1696f0",
      "execution_count": null,
      "outputs": [
        {
          "name": "stdout",
          "output_type": "stream",
          "text": [
            "10\n",
            "40\n",
            "26\n",
            "19\n",
            "17\n",
            "14\n",
            "[10, 40, 26, 19, 17, 14]\n"
          ]
        }
      ]
    },
    {
      "cell_type": "code",
      "metadata": {
        "id": "2fe286aa",
        "outputId": "8b1785b9-3d7f-4d6e-bc79-60639d62594f"
      },
      "source": [
        "# 주사위 (복원)\n",
        "dice_range = range(1, 7) # 1~6\n",
        "\n",
        "dice_list = list(dice_range)\n",
        "\n",
        "print(dice_list)"
      ],
      "id": "2fe286aa",
      "execution_count": null,
      "outputs": [
        {
          "name": "stdout",
          "output_type": "stream",
          "text": [
            "[1, 2, 3, 4, 5, 6]\n"
          ]
        }
      ]
    },
    {
      "cell_type": "code",
      "metadata": {
        "id": "799ab1a4",
        "outputId": "03b95657-de02-4824-f615-421fa2648840"
      },
      "source": [
        "dice_total = [] # 5개 숫자를 저장하는 공간\n",
        "\n",
        "while len(dice_total) < 5: # 5번 주사위를 던짐\n",
        "    random.shuffle(dice_list)\n",
        "    num_selected = dice_list[0]\n",
        "\n",
        "    dice_total.append(num_selected) # 주사위 출력 저장\n",
        "    print(num_selected) # 선택된 번호 출력\n",
        "    \n",
        "print(dice_total) # 전체 모아진 숫자 출력"
      ],
      "id": "799ab1a4",
      "execution_count": null,
      "outputs": [
        {
          "name": "stdout",
          "output_type": "stream",
          "text": [
            "5\n",
            "2\n",
            "4\n",
            "5\n",
            "5\n",
            "[5, 2, 4, 5, 5]\n"
          ]
        }
      ]
    },
    {
      "cell_type": "markdown",
      "metadata": {
        "id": "789912a0"
      },
      "source": [
        "### 2.13_control_4"
      ],
      "id": "789912a0"
    },
    {
      "cell_type": "code",
      "metadata": {
        "id": "13d7ba9f",
        "outputId": "8ab2372c-3be1-4802-afe7-8148d011d105"
      },
      "source": [
        "data = {'name' : 'Jay', 'age':20, 'grade':[3.0, 4.0, 3.5, 4.2]}\n",
        "data"
      ],
      "id": "13d7ba9f",
      "execution_count": null,
      "outputs": [
        {
          "data": {
            "text/plain": [
              "{'name': 'Jay', 'age': 20, 'grade': [3.0, 4.0, 3.5, 4.2]}"
            ]
          },
          "execution_count": 12,
          "metadata": {},
          "output_type": "execute_result"
        }
      ]
    },
    {
      "cell_type": "code",
      "metadata": {
        "id": "a54a01fa",
        "outputId": "70bbc759-77ab-434f-d774-b338573e1153"
      },
      "source": [
        "data['address']"
      ],
      "id": "a54a01fa",
      "execution_count": null,
      "outputs": [
        {
          "ename": "KeyError",
          "evalue": "'address'",
          "output_type": "error",
          "traceback": [
            "\u001b[1;31m---------------------------------------------------------------------------\u001b[0m",
            "\u001b[1;31mKeyError\u001b[0m                                  Traceback (most recent call last)",
            "\u001b[1;32m<ipython-input-15-2f613a4f5ebc>\u001b[0m in \u001b[0;36m<module>\u001b[1;34m\u001b[0m\n\u001b[1;32m----> 1\u001b[1;33m \u001b[0mdata\u001b[0m\u001b[1;33m[\u001b[0m\u001b[1;34m'address'\u001b[0m\u001b[1;33m]\u001b[0m\u001b[1;33m\u001b[0m\u001b[1;33m\u001b[0m\u001b[0m\n\u001b[0m",
            "\u001b[1;31mKeyError\u001b[0m: 'address'"
          ]
        }
      ]
    },
    {
      "cell_type": "code",
      "metadata": {
        "id": "14945195",
        "outputId": "6b354e67-bbd2-48ce-b47c-8152c7200bb4"
      },
      "source": [
        "data = {'name' : 'Jay', 'age':20, 'grade':[3.0, 4.0, 3.5, 4.2]}\n",
        "\n",
        "try :\n",
        "    print(\"주소 :\", data['address'])\n",
        "except:\n",
        "    # print(\"주소 정보가 없습니다.\")\n",
        "    print(\"고객센터 1588-0001 로 전화하세요\")"
      ],
      "id": "14945195",
      "execution_count": null,
      "outputs": [
        {
          "name": "stdout",
          "output_type": "stream",
          "text": [
            "고객센터 1588-0001 로 전화하세요\n"
          ]
        }
      ]
    },
    {
      "cell_type": "code",
      "metadata": {
        "id": "a7b2e318",
        "outputId": "ec94bd91-9cc1-47ff-a4cc-add782811455"
      },
      "source": [
        "data = {'name' : 'Jay', 'age':20, 'grade':[3.0, 4.0, 3.5, 4.2]}\n",
        "\n",
        "try :\n",
        "    print(\"주소 :\", data['address'])\n",
        "except:\n",
        "    # print(\"주소 정보가 없습니다.\")\n",
        "    print(\"고객센터 1588-0001 로 전화하세요\")\n",
        "finally:\n",
        "    print(\"감사합니다.\")"
      ],
      "id": "a7b2e318",
      "execution_count": null,
      "outputs": [
        {
          "name": "stdout",
          "output_type": "stream",
          "text": [
            "고객센터 1588-0001 로 전화하세요\n",
            "감사합니다.\n"
          ]
        }
      ]
    },
    {
      "cell_type": "markdown",
      "metadata": {
        "id": "96266418"
      },
      "source": [
        "### **대한민국 주민등록번호**\n",
        "\n",
        "일반적으로 주민등록번호를 통해 남/여를 구분하기 위해서는\n",
        "\n",
        "---\n",
        "\n",
        "* 내국인\n",
        "\n",
        "\n",
        "- 1900년대, 뒷 첫번째 1개 가지고 와서 \n",
        "\n",
        "  1 : 남자, 2 : 여자\n",
        "\n",
        "\n",
        "- 2000년대, 뒷 첫번째 1개 가지고 와서 \n",
        "\n",
        "  3 : 남자, 4 : 여자\n",
        "\n",
        "\n",
        "---\n",
        "\n",
        "* 귀화 외국인 <br>\n",
        "\n",
        "- 1900년대, 뒷 첫번째 1개 가지고 와서 \n",
        "\n",
        "  5 : 남자, 6 : 여자\n",
        "\n",
        "- 2000년대, 뒷 첫번째 1개 가지고 와서 \n",
        "\n",
        "  7 : 남자, 8 : 여자\n",
        "\n",
        "---\n",
        "\n",
        "* 전체 정리\n",
        "\n",
        "* < 2000 : 2000년대 이전 출생자\n",
        "                 남자          여자\n",
        "   내국인          1             2\n",
        "   귀화 외국인     5             6\n",
        "\n",
        "\n",
        "* >= 2000 : 2000년대 이후 출생자\n",
        "                 남자          여자\n",
        "   내국인          3             4\n",
        "   귀화 외국인     7             8\n",
        "\n",
        "---\n",
        "\n",
        "* 규칙 : 남자는 홀수, 여자는 짝수 \n",
        "\n",
        "---\n",
        "\n",
        "* 필요한 파이썬 문법\n",
        "\n",
        "1. 문자열 슬라이싱 : 주민등록번호 뒤에서 첫 번째 자리\n",
        "\n",
        "2. % 연산자 : 주민등록번호 뒤에서 첫 번째 자리 % 2\n",
        "   나머지가 0이면 : 짝수, 여자\n",
        "   나머지가 1이면 : 홀수, 남자"
      ],
      "id": "96266418"
    },
    {
      "cell_type": "code",
      "metadata": {
        "scrolled": false,
        "id": "2f0f8f87",
        "outputId": "fc1d2f48-8eb0-4afb-f09a-e83a0f95839f"
      },
      "source": [
        "# 1단계\n",
        "# jumin_num : 주민등록번호 변수\n",
        "# input() 함수\n",
        "\n",
        "# 2단계\n",
        "# 주민등록 번호는 800101-1234567\n",
        "# 앞 6자리 : 800101\n",
        "# 뒤 7자리 : 1234567\n",
        "\n",
        "jumin_num = input(\"당신의 주민등록번호를 입력하세요 : \")\n",
        "print(jumin_num)"
      ],
      "id": "2f0f8f87",
      "execution_count": null,
      "outputs": [
        {
          "name": "stdout",
          "output_type": "stream",
          "text": [
            "당신의 주민등록번호를 입력하세요 : 8001011234567\n",
            "8001011234567\n"
          ]
        }
      ]
    },
    {
      "cell_type": "code",
      "metadata": {
        "id": "a958e6b4",
        "outputId": "e869e9b7-c83c-4ce7-bbd0-07ab5f0367ba"
      },
      "source": [
        "# in 연산자\n",
        "# 고객이 주민등록번호의 -를 입력하는 경우 : 800101-1234567\n",
        "# 고객이 주민등록번호의 -를 입력하지 않는 경우 : 8001011234567\n",
        "\n",
        "# 뒤에서 첫째자리 숫자 추출\n",
        "# 고객이 주민등록번호의 -를 있는 경우 : jumin_num[7]\n",
        "# 고객이 주민등록번호의 -를 입력하지 않는 경우 : jumin_num[6]\n",
        "\n",
        "# 주민번호 뒤에서 첫 자리 숫자 추출\n",
        "if \"-\" in jumin_num:\n",
        "    print(jumin_num[7]) # 1\n",
        "else:\n",
        "    print(jumin_num[6]) # 1"
      ],
      "id": "a958e6b4",
      "execution_count": null,
      "outputs": [
        {
          "name": "stdout",
          "output_type": "stream",
          "text": [
            "2\n"
          ]
        }
      ]
    },
    {
      "cell_type": "code",
      "metadata": {
        "id": "9e8c4cb3",
        "outputId": "f2a3df39-3ac0-4c1c-fa64-5999ca820403"
      },
      "source": [
        "# 남/여 구분 (% 연산자)\n",
        "\n",
        "# 뒤에서 첫째 자리를 % 연산자 2로 나눈 나머지 0이면 : 여자\n",
        "# 뒤에서 첫째 자리를 % 연산자 2로 나눈 나머지 1이면 : 남자\n",
        "\n",
        "# 주민번호 뒤에서 첫 자리 숫자 추출\n",
        "if \"-\" in jumin_num:\n",
        "    if jumin_num[7] % 2 == 0:\n",
        "        print(\"여자\")\n",
        "    else:\n",
        "        print(\"남자\")\n",
        "else:\n",
        "    if jumin_num[6] % 2 == 0:\n",
        "        print(\"여자\")\n",
        "    else:\n",
        "        print(\"남자\")"
      ],
      "id": "9e8c4cb3",
      "execution_count": null,
      "outputs": [
        {
          "ename": "TypeError",
          "evalue": "not all arguments converted during string formatting",
          "output_type": "error",
          "traceback": [
            "\u001b[1;31m---------------------------------------------------------------------------\u001b[0m",
            "\u001b[1;31mTypeError\u001b[0m                                 Traceback (most recent call last)",
            "\u001b[1;32m<ipython-input-31-73176b17573c>\u001b[0m in \u001b[0;36m<module>\u001b[1;34m\u001b[0m\n\u001b[0;32m      6\u001b[0m         \u001b[0mprint\u001b[0m\u001b[1;33m(\u001b[0m\u001b[1;34m\"남자\"\u001b[0m\u001b[1;33m)\u001b[0m\u001b[1;33m\u001b[0m\u001b[1;33m\u001b[0m\u001b[0m\n\u001b[0;32m      7\u001b[0m \u001b[1;32melse\u001b[0m\u001b[1;33m:\u001b[0m\u001b[1;33m\u001b[0m\u001b[1;33m\u001b[0m\u001b[0m\n\u001b[1;32m----> 8\u001b[1;33m     \u001b[1;32mif\u001b[0m \u001b[0mjumin_num\u001b[0m\u001b[1;33m[\u001b[0m\u001b[1;36m6\u001b[0m\u001b[1;33m]\u001b[0m \u001b[1;33m%\u001b[0m \u001b[1;36m2\u001b[0m \u001b[1;33m==\u001b[0m \u001b[1;36m0\u001b[0m\u001b[1;33m:\u001b[0m\u001b[1;33m\u001b[0m\u001b[1;33m\u001b[0m\u001b[0m\n\u001b[0m\u001b[0;32m      9\u001b[0m         \u001b[0mprint\u001b[0m\u001b[1;33m(\u001b[0m\u001b[1;34m\"여자\"\u001b[0m\u001b[1;33m)\u001b[0m\u001b[1;33m\u001b[0m\u001b[1;33m\u001b[0m\u001b[0m\n\u001b[0;32m     10\u001b[0m     \u001b[1;32melse\u001b[0m\u001b[1;33m:\u001b[0m\u001b[1;33m\u001b[0m\u001b[1;33m\u001b[0m\u001b[0m\n",
            "\u001b[1;31mTypeError\u001b[0m: not all arguments converted during string formatting"
          ]
        }
      ]
    },
    {
      "cell_type": "code",
      "metadata": {
        "id": "54a77365",
        "outputId": "6c108d2a-1889-4344-9f5e-6404e03a4e94"
      },
      "source": [
        "# input 함수로 받은 값은 항상 문자열형 데이터\n",
        "\n",
        "# %연산을 위해 숫자(정수) 형 변환 : int()\n",
        "\n",
        "if \"-\" in jumin_num:\n",
        "    if int(jumin_num[7]) % 2 == 0:\n",
        "        print(\"여자\")\n",
        "    else:\n",
        "        print(\"남자\")\n",
        "else:\n",
        "    if int(jumin_num[6]) % 2 == 0:\n",
        "        print(\"여자\")\n",
        "    else:\n",
        "        print(\"남자\")"
      ],
      "id": "54a77365",
      "execution_count": null,
      "outputs": [
        {
          "name": "stdout",
          "output_type": "stream",
          "text": [
            "남자\n"
          ]
        }
      ]
    },
    {
      "cell_type": "code",
      "metadata": {
        "id": "6db1690e"
      },
      "source": [
        "# 전체 코드\n",
        "\n",
        "jumin_num = input(\"당신의 주민등록번호를 입력하세요 : \")\n",
        "print(jumin_num)\n",
        "\n",
        "# 주민번호 뒤에서 첫 자리 숫자 추출\n",
        "if \"-\" in jumin_num:\n",
        "    if int(jumin_num[7]) % 2 == 0:\n",
        "        print(\"여자\")\n",
        "    else:\n",
        "        print(\"남자\")\n",
        "else:\n",
        "    if int(jumin_num[6]) % 2 == 0:\n",
        "        print(\"여자\")\n",
        "    else:\n",
        "        print(\"남자\")"
      ],
      "id": "6db1690e",
      "execution_count": null,
      "outputs": []
    },
    {
      "cell_type": "markdown",
      "metadata": {
        "id": "7484c8ef"
      },
      "source": [
        "### 2_14_function_1"
      ],
      "id": "7484c8ef"
    },
    {
      "cell_type": "code",
      "metadata": {
        "id": "f3342354"
      },
      "source": [
        "def cal_modulo(a, b): # 함수 선언, 매개변수 a = 5, b = 3\n",
        "    temp = a % b # 5 % 3, 나머지 : 2\n",
        "    return temp # 2, return, 함수 호출한 곳으로 값을 가져감"
      ],
      "id": "f3342354",
      "execution_count": null,
      "outputs": []
    },
    {
      "cell_type": "code",
      "metadata": {
        "scrolled": true,
        "id": "1761a7d1",
        "outputId": "3f91d8a4-1a6f-4a2f-c28a-935437fe59e3"
      },
      "source": [
        "cal_modulo(5, 3) # 함수 호출"
      ],
      "id": "1761a7d1",
      "execution_count": null,
      "outputs": [
        {
          "data": {
            "text/plain": [
              "2"
            ]
          },
          "execution_count": 23,
          "metadata": {},
          "output_type": "execute_result"
        }
      ]
    },
    {
      "cell_type": "code",
      "metadata": {
        "id": "ee1db984",
        "outputId": "a34e073e-9fe4-4a74-f989-c25e9ba8c815"
      },
      "source": [
        "modulo = cal_modulo(10, 3)\n",
        "print(modulo)"
      ],
      "id": "ee1db984",
      "execution_count": null,
      "outputs": [
        {
          "name": "stdout",
          "output_type": "stream",
          "text": [
            "1\n"
          ]
        }
      ]
    },
    {
      "cell_type": "code",
      "metadata": {
        "id": "33827fea",
        "outputId": "57c842e3-3e0e-4554-dbbe-a04ad7df2a37"
      },
      "source": [
        "num_pairs = [(5,3),(2,2),(10,3)]\n",
        "\n",
        "for a, b in num_pairs:\n",
        "    modulo = cal_modulo(a, b)\n",
        "    print(modulo)"
      ],
      "id": "33827fea",
      "execution_count": null,
      "outputs": [
        {
          "name": "stdout",
          "output_type": "stream",
          "text": [
            "2\n",
            "0\n",
            "1\n"
          ]
        }
      ]
    },
    {
      "cell_type": "code",
      "metadata": {
        "id": "cda19570",
        "outputId": "5916ae93-24be-4328-860f-f2d66de544c4"
      },
      "source": [
        "num_pairs = [(5,3),(2,2),(10,3)]\n",
        "\n",
        "def cal_pairs_modulo(num_pair_list):\n",
        "    result = {}\n",
        "    \n",
        "    for a,b in num_pairs:\n",
        "        modulo = a % b\n",
        "        result[(a,b)] = modulo\n",
        "    return result\n",
        "\n",
        "mod_pairs = cal_pairs_modulo(num_pairs)\n",
        "mod_pairs"
      ],
      "id": "cda19570",
      "execution_count": null,
      "outputs": [
        {
          "data": {
            "text/plain": [
              "{(5, 3): 2, (2, 2): 0, (10, 3): 1}"
            ]
          },
          "execution_count": 35,
          "metadata": {},
          "output_type": "execute_result"
        }
      ]
    },
    {
      "cell_type": "code",
      "metadata": {
        "id": "ce80c0a3",
        "outputId": "3c893241-1379-4547-c1fa-d9d4a206d82c"
      },
      "source": [
        "def print_mod_pairs():\n",
        "    print(cal_pairs_modulo(num_pairs))\n",
        "    \n",
        "print_mod_pairs()"
      ],
      "id": "ce80c0a3",
      "execution_count": null,
      "outputs": [
        {
          "name": "stdout",
          "output_type": "stream",
          "text": [
            "{(5, 3): 2, (2, 2): 0, (10, 3): 1}\n"
          ]
        }
      ]
    },
    {
      "cell_type": "code",
      "metadata": {
        "id": "dc5c9415",
        "outputId": "03249a4c-1770-4c5f-cbaa-464e5d379af4"
      },
      "source": [
        "result"
      ],
      "id": "dc5c9415",
      "execution_count": null,
      "outputs": [
        {
          "ename": "NameError",
          "evalue": "name 'result' is not defined",
          "output_type": "error",
          "traceback": [
            "\u001b[1;31m---------------------------------------------------------------------------\u001b[0m",
            "\u001b[1;31mNameError\u001b[0m                                 Traceback (most recent call last)",
            "\u001b[1;32m<ipython-input-37-0ac921c19f1a>\u001b[0m in \u001b[0;36m<module>\u001b[1;34m\u001b[0m\n\u001b[1;32m----> 1\u001b[1;33m \u001b[0mresult\u001b[0m\u001b[1;33m\u001b[0m\u001b[1;33m\u001b[0m\u001b[0m\n\u001b[0m",
            "\u001b[1;31mNameError\u001b[0m: name 'result' is not defined"
          ]
        }
      ]
    },
    {
      "cell_type": "markdown",
      "metadata": {
        "id": "f83892cf"
      },
      "source": [
        "### 2.15_function_2"
      ],
      "id": "f83892cf"
    },
    {
      "cell_type": "code",
      "metadata": {
        "id": "f7b2c614",
        "outputId": "e7c1a1f2-fc1f-4bd7-f3ed-03c23ed094c0"
      },
      "source": [
        "def add_one(num):\n",
        "    return num + 1\n",
        "\n",
        "answer = add_one(1)\n",
        "print(answer)"
      ],
      "id": "f7b2c614",
      "execution_count": null,
      "outputs": [
        {
          "name": "stdout",
          "output_type": "stream",
          "text": [
            "2\n"
          ]
        }
      ]
    },
    {
      "cell_type": "code",
      "metadata": {
        "id": "54b9e988",
        "outputId": "b8fea9ce-7336-4fd4-b2c8-31a26711a0b8"
      },
      "source": [
        "add_one_list = []\n",
        "\n",
        "for x in [1,2,3]:\n",
        "    y = add_one(x)\n",
        "    add_one_list.append(y)\n",
        "    \n",
        "print(add_one_list)"
      ],
      "id": "54b9e988",
      "execution_count": null,
      "outputs": [
        {
          "name": "stdout",
          "output_type": "stream",
          "text": [
            "[2, 3, 4]\n"
          ]
        }
      ]
    },
    {
      "cell_type": "code",
      "metadata": {
        "id": "baa5a68c",
        "outputId": "16665041-f243-46c6-c82e-0634ca0b6fcf"
      },
      "source": [
        "add_one_lambda = []\n",
        "\n",
        "add_func = lambda x: add_one_lambda.append(x+1)\n",
        "\n",
        "for x in [1,2,3]:\n",
        "    add_func(x)\n",
        "    \n",
        "print(add_one_lambda)"
      ],
      "id": "baa5a68c",
      "execution_count": null,
      "outputs": [
        {
          "name": "stdout",
          "output_type": "stream",
          "text": [
            "[2, 3, 4]\n"
          ]
        }
      ]
    },
    {
      "cell_type": "code",
      "metadata": {
        "id": "20ad9076",
        "outputId": "1afaa098-e9a6-4b1a-bb2e-051fd16b3403"
      },
      "source": [
        "new_add_func = lambda x, y:x+y\n",
        "answer = new_add_func(2,3)\n",
        "print(answer)"
      ],
      "id": "20ad9076",
      "execution_count": null,
      "outputs": [
        {
          "name": "stdout",
          "output_type": "stream",
          "text": [
            "5\n"
          ]
        }
      ]
    },
    {
      "cell_type": "markdown",
      "metadata": {
        "id": "cdc12235"
      },
      "source": [
        "### 2.16_function_3"
      ],
      "id": "cdc12235"
    },
    {
      "cell_type": "code",
      "metadata": {
        "id": "8867d106",
        "outputId": "ea8ffa31-a74c-46f4-c218-07b4e860e396"
      },
      "source": [
        "numbers = [1,2,3,4,5,6,7,8,9,10]\n",
        "sum(numbers)"
      ],
      "id": "8867d106",
      "execution_count": null,
      "outputs": [
        {
          "data": {
            "text/plain": [
              "55"
            ]
          },
          "execution_count": 44,
          "metadata": {},
          "output_type": "execute_result"
        }
      ]
    },
    {
      "cell_type": "code",
      "metadata": {
        "id": "201cd0d3",
        "outputId": "d8cb712c-7783-4f45-bfc0-6d201fd53b39"
      },
      "source": [
        "max(numbers)"
      ],
      "id": "201cd0d3",
      "execution_count": null,
      "outputs": [
        {
          "data": {
            "text/plain": [
              "10"
            ]
          },
          "execution_count": 45,
          "metadata": {},
          "output_type": "execute_result"
        }
      ]
    },
    {
      "cell_type": "code",
      "metadata": {
        "id": "dabec0d7",
        "outputId": "127afd43-cce9-45e1-d4c7-949adeb8adb5"
      },
      "source": [
        "min(numbers)"
      ],
      "id": "dabec0d7",
      "execution_count": null,
      "outputs": [
        {
          "data": {
            "text/plain": [
              "1"
            ]
          },
          "execution_count": 46,
          "metadata": {},
          "output_type": "execute_result"
        }
      ]
    },
    {
      "cell_type": "code",
      "metadata": {
        "id": "73e8cae9",
        "outputId": "79aaf569-2717-4bbe-fae4-108b5ea6901e"
      },
      "source": [
        "len(numbers)"
      ],
      "id": "73e8cae9",
      "execution_count": null,
      "outputs": [
        {
          "data": {
            "text/plain": [
              "10"
            ]
          },
          "execution_count": 47,
          "metadata": {},
          "output_type": "execute_result"
        }
      ]
    },
    {
      "cell_type": "code",
      "metadata": {
        "id": "0f792efa",
        "outputId": "14128fbe-33eb-48f6-c5f1-d74b11806cd7"
      },
      "source": [
        "# for in range(len()) # 초급코드\n",
        "\n",
        "numbers = [1,2,3,4,5,6,7,8,9,10]\n",
        "\n",
        "for i, num in enumerate(numbers): # index을 항상 가지고 있음\n",
        "    print(i, num)"
      ],
      "id": "0f792efa",
      "execution_count": null,
      "outputs": [
        {
          "name": "stdout",
          "output_type": "stream",
          "text": [
            "0 1\n",
            "1 2\n",
            "2 3\n",
            "3 4\n",
            "4 5\n",
            "5 6\n",
            "6 7\n",
            "7 8\n",
            "8 9\n",
            "9 10\n"
          ]
        }
      ]
    },
    {
      "cell_type": "code",
      "metadata": {
        "id": "409e39b7",
        "outputId": "94346fbe-8908-4c14-daa9-556ee9054a3e"
      },
      "source": [
        "range(10)"
      ],
      "id": "409e39b7",
      "execution_count": null,
      "outputs": [
        {
          "data": {
            "text/plain": [
              "range(0, 10)"
            ]
          },
          "execution_count": 50,
          "metadata": {},
          "output_type": "execute_result"
        }
      ]
    },
    {
      "cell_type": "code",
      "metadata": {
        "id": "e3f9409c",
        "outputId": "f911cd6f-e42c-4372-c1a6-7565b2939431"
      },
      "source": [
        "list(range(1,10))"
      ],
      "id": "e3f9409c",
      "execution_count": null,
      "outputs": [
        {
          "data": {
            "text/plain": [
              "[1, 2, 3, 4, 5, 6, 7, 8, 9]"
            ]
          },
          "execution_count": 51,
          "metadata": {},
          "output_type": "execute_result"
        }
      ]
    },
    {
      "cell_type": "code",
      "metadata": {
        "id": "1f6ddc2f",
        "outputId": "d32d5a8f-3730-4326-d15e-648f34cfd87e"
      },
      "source": [
        "print(list(range(1,10)))"
      ],
      "id": "1f6ddc2f",
      "execution_count": null,
      "outputs": [
        {
          "name": "stdout",
          "output_type": "stream",
          "text": [
            "[1, 2, 3, 4, 5, 6, 7, 8, 9]\n"
          ]
        }
      ]
    },
    {
      "cell_type": "code",
      "metadata": {
        "id": "0e7c4544",
        "outputId": "c30f5620-6631-4321-a12d-a0d14c704f29"
      },
      "source": [
        "print(numbers)"
      ],
      "id": "0e7c4544",
      "execution_count": null,
      "outputs": [
        {
          "name": "stdout",
          "output_type": "stream",
          "text": [
            "[1, 2, 3, 4, 5, 6, 7, 8, 9, 10]\n"
          ]
        }
      ]
    },
    {
      "cell_type": "code",
      "metadata": {
        "id": "b675f25a",
        "outputId": "02d8ecf6-f4ab-40fe-de02-b7bce9092711"
      },
      "source": [
        "print('print(numbers)')"
      ],
      "id": "b675f25a",
      "execution_count": null,
      "outputs": [
        {
          "name": "stdout",
          "output_type": "stream",
          "text": [
            "print(numbers)\n"
          ]
        }
      ]
    },
    {
      "cell_type": "code",
      "metadata": {
        "id": "7060a3a1",
        "outputId": "74d50d40-e7c7-4a51-d336-1141061def06"
      },
      "source": [
        "eval('print(numbers)')"
      ],
      "id": "7060a3a1",
      "execution_count": null,
      "outputs": [
        {
          "name": "stdout",
          "output_type": "stream",
          "text": [
            "[1, 2, 3, 4, 5, 6, 7, 8, 9, 10]\n"
          ]
        }
      ]
    },
    {
      "cell_type": "code",
      "metadata": {
        "id": "2034c87a",
        "outputId": "f74bad50-585f-4a95-82f5-c2955764877e"
      },
      "source": [
        "add_one = lambda x:x+1\n",
        "results = map(add_one, numbers)\n",
        "\n",
        "print(list(results))"
      ],
      "id": "2034c87a",
      "execution_count": null,
      "outputs": [
        {
          "name": "stdout",
          "output_type": "stream",
          "text": [
            "[2, 3, 4, 5, 6, 7, 8, 9, 10, 11]\n"
          ]
        }
      ]
    },
    {
      "cell_type": "code",
      "metadata": {
        "id": "68395e25",
        "outputId": "6b37bdc7-3fea-4f77-9223-3300e59b2781"
      },
      "source": [
        "a, b = input('숫자 두 개를 입력하세요: ').split()\n",
        "print(a)\n",
        "print(b)\n",
        "\n",
        "print(type(b))\n",
        "\n",
        "print(a + b)\n",
        "\n",
        "print(int(a) + int(b))"
      ],
      "id": "68395e25",
      "execution_count": null,
      "outputs": [
        {
          "name": "stdout",
          "output_type": "stream",
          "text": [
            "숫자 두 개를 입력하세요: 1 2\n",
            "1\n",
            "2\n",
            "<class 'str'>\n",
            "12\n",
            "3\n"
          ]
        }
      ]
    },
    {
      "cell_type": "code",
      "metadata": {
        "id": "8c7d1cc9",
        "outputId": "ba9495ce-205f-44b0-da57-b40593bc2f1a"
      },
      "source": [
        "# https://dojang.io/mod/page/view.php?id=2179\n",
        "\n",
        "a, b = map(int, input('숫자 두 개를 입력하세요: ').split())\n",
        "\n",
        "print(a + b)"
      ],
      "id": "8c7d1cc9",
      "execution_count": null,
      "outputs": [
        {
          "name": "stdout",
          "output_type": "stream",
          "text": [
            "숫자 두 개를 입력하세요: 1 2\n",
            "3\n"
          ]
        }
      ]
    },
    {
      "cell_type": "code",
      "metadata": {
        "id": "319c5faf",
        "outputId": "b750d042-dcd2-4b66-86be-1ca18cf984f3"
      },
      "source": [
        "even_num = lambda x:x%2==0\n",
        "\n",
        "results = filter(even_num, numbers)\n",
        "\n",
        "print(list(results))"
      ],
      "id": "319c5faf",
      "execution_count": null,
      "outputs": [
        {
          "name": "stdout",
          "output_type": "stream",
          "text": [
            "[2, 4, 6, 8, 10]\n"
          ]
        }
      ]
    },
    {
      "cell_type": "code",
      "metadata": {
        "id": "556b436f",
        "outputId": "b4fa5889-c37a-474a-d62a-262bffc9b84b"
      },
      "source": [
        "int(3.14)"
      ],
      "id": "556b436f",
      "execution_count": null,
      "outputs": [
        {
          "data": {
            "text/plain": [
              "3"
            ]
          },
          "execution_count": 63,
          "metadata": {},
          "output_type": "execute_result"
        }
      ]
    },
    {
      "cell_type": "code",
      "metadata": {
        "id": "c7325729",
        "outputId": "7f8ba77d-ddc6-44bf-9c3d-ec838e980a54"
      },
      "source": [
        "str(3.14)"
      ],
      "id": "c7325729",
      "execution_count": null,
      "outputs": [
        {
          "data": {
            "text/plain": [
              "'3.14'"
            ]
          },
          "execution_count": 64,
          "metadata": {},
          "output_type": "execute_result"
        }
      ]
    },
    {
      "cell_type": "code",
      "metadata": {
        "id": "ebd70dcf",
        "outputId": "0a7884b7-662d-4283-cd8d-6a44cbd3d2b1"
      },
      "source": [
        "round(3.54)"
      ],
      "id": "ebd70dcf",
      "execution_count": null,
      "outputs": [
        {
          "data": {
            "text/plain": [
              "4"
            ]
          },
          "execution_count": 66,
          "metadata": {},
          "output_type": "execute_result"
        }
      ]
    },
    {
      "cell_type": "code",
      "metadata": {
        "id": "5e864f87",
        "outputId": "7326f358-2ea2-4e0c-b002-1ffe50549516"
      },
      "source": [
        "print(numbers)\n",
        "\n",
        "numbers_reversed = reversed(numbers)\n",
        "print(list(numbers_reversed))"
      ],
      "id": "5e864f87",
      "execution_count": null,
      "outputs": [
        {
          "name": "stdout",
          "output_type": "stream",
          "text": [
            "[1, 2, 3, 4, 5, 6, 7, 8, 9, 10]\n",
            "[10, 9, 8, 7, 6, 5, 4, 3, 2, 1]\n"
          ]
        }
      ]
    },
    {
      "cell_type": "code",
      "metadata": {
        "id": "6f173995",
        "outputId": "c7181c44-58ae-4dd0-c120-865dfc7ac8a2"
      },
      "source": [
        "sorted([3,2,1])"
      ],
      "id": "6f173995",
      "execution_count": null,
      "outputs": [
        {
          "data": {
            "text/plain": [
              "[1, 2, 3]"
            ]
          },
          "execution_count": 68,
          "metadata": {},
          "output_type": "execute_result"
        }
      ]
    },
    {
      "cell_type": "code",
      "metadata": {
        "id": "6549a573",
        "outputId": "0edf116a-5028-4469-bc5c-28b4c90c8855"
      },
      "source": [
        "sorted([2,3,1])"
      ],
      "id": "6549a573",
      "execution_count": null,
      "outputs": [
        {
          "data": {
            "text/plain": [
              "[1, 2, 3]"
            ]
          },
          "execution_count": 69,
          "metadata": {},
          "output_type": "execute_result"
        }
      ]
    },
    {
      "cell_type": "code",
      "metadata": {
        "id": "82e20757",
        "outputId": "5b14d730-d1c3-4e19-9f7b-a635cf0280e8"
      },
      "source": [
        "# https://vision-ai.tistory.com/entry/%ED%8C%8C%EC%9D%B4%EC%8D%AC-%EB%A6%AC%EC%8A%A4%ED%8A%B8-%ED%95%AD%EB%AA%A9-%EC%A0%95%EB%A0%AC%ED%95%98%EA%B8%B0-sorted-sort-reverse\n",
        "\n",
        "sorted([2,3,1], reverse=True)"
      ],
      "id": "82e20757",
      "execution_count": null,
      "outputs": [
        {
          "data": {
            "text/plain": [
              "[3, 2, 1]"
            ]
          },
          "execution_count": 70,
          "metadata": {},
          "output_type": "execute_result"
        }
      ]
    },
    {
      "cell_type": "code",
      "metadata": {
        "id": "d1997b17",
        "outputId": "d6a21103-38a7-4a58-b5fc-b594485d084b"
      },
      "source": [
        "chars = ['a','b','c']\n",
        "nums = [1,2,3]\n",
        "pairs = zip(chars, nums)\n",
        "\n",
        "print(list(pairs))"
      ],
      "id": "d1997b17",
      "execution_count": null,
      "outputs": [
        {
          "name": "stdout",
          "output_type": "stream",
          "text": [
            "[('a', 1), ('b', 2), ('c', 3)]\n"
          ]
        }
      ]
    },
    {
      "cell_type": "code",
      "metadata": {
        "id": "980433d0"
      },
      "source": [
        ""
      ],
      "id": "980433d0",
      "execution_count": null,
      "outputs": []
    }
  ]
}