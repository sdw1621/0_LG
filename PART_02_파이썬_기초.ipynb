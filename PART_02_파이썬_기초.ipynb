{
  "nbformat": 4,
  "nbformat_minor": 5,
  "metadata": {
    "kernelspec": {
      "display_name": "Python 3",
      "language": "python",
      "name": "python3"
    },
    "language_info": {
      "codemirror_mode": {
        "name": "ipython",
        "version": 3
      },
      "file_extension": ".py",
      "mimetype": "text/x-python",
      "name": "python",
      "nbconvert_exporter": "python",
      "pygments_lexer": "ipython3",
      "version": "3.8.8"
    },
    "toc": {
      "base_numbering": 1,
      "nav_menu": {},
      "number_sections": true,
      "sideBar": true,
      "skip_h1_title": false,
      "title_cell": "Table of Contents",
      "title_sidebar": "Contents",
      "toc_cell": false,
      "toc_position": {},
      "toc_section_display": true,
      "toc_window_display": false
    },
    "varInspector": {
      "cols": {
        "lenName": 16,
        "lenType": 16,
        "lenVar": 40
      },
      "kernels_config": {
        "python": {
          "delete_cmd_postfix": "",
          "delete_cmd_prefix": "del ",
          "library": "var_list.py",
          "varRefreshCmd": "print(var_dic_list())"
        },
        "r": {
          "delete_cmd_postfix": ") ",
          "delete_cmd_prefix": "rm(",
          "library": "var_list.r",
          "varRefreshCmd": "cat(var_dic_list()) "
        }
      },
      "types_to_exclude": [
        "module",
        "function",
        "builtin_function_or_method",
        "instance",
        "_Feature"
      ],
      "window_display": false
    },
    "colab": {
      "name": "PART 02 파이썬 기초.ipynb",
      "provenance": [],
      "include_colab_link": true
    }
  },
  "cells": [
    {
      "cell_type": "markdown",
      "metadata": {
        "id": "view-in-github",
        "colab_type": "text"
      },
      "source": [
        "<a href=\"https://colab.research.google.com/github/sdw1621/0_LG/blob/main/PART_02_%ED%8C%8C%EC%9D%B4%EC%8D%AC_%EA%B8%B0%EC%B4%88.ipynb\" target=\"_parent\"><img src=\"https://colab.research.google.com/assets/colab-badge.svg\" alt=\"Open In Colab\"/></a>"
      ]
    },
    {
      "cell_type": "markdown",
      "metadata": {
        "id": "33a3dcb3"
      },
      "source": [
        "### <소스> 2_1_input_processing_output.ipynb"
      ],
      "id": "33a3dcb3"
    },
    {
      "cell_type": "code",
      "metadata": {
        "id": "aeddd219",
        "outputId": "8a42c3fd-a1f3-4501-dc39-c9654b1644cf"
      },
      "source": [
        "1+2"
      ],
      "id": "aeddd219",
      "execution_count": null,
      "outputs": [
        {
          "data": {
            "text/plain": [
              "3"
            ]
          },
          "execution_count": 1,
          "metadata": {},
          "output_type": "execute_result"
        }
      ]
    },
    {
      "cell_type": "code",
      "metadata": {
        "id": "b256b401"
      },
      "source": [
        "var1 = 5"
      ],
      "id": "b256b401",
      "execution_count": null,
      "outputs": []
    },
    {
      "cell_type": "code",
      "metadata": {
        "id": "e310c0db",
        "outputId": "d22bbc1d-981a-4184-904e-ced0b8652334"
      },
      "source": [
        "print(var1)"
      ],
      "id": "e310c0db",
      "execution_count": null,
      "outputs": [
        {
          "name": "stdout",
          "output_type": "stream",
          "text": [
            "5\n"
          ]
        }
      ]
    },
    {
      "cell_type": "code",
      "metadata": {
        "id": "7bc79eed"
      },
      "source": [
        "var1 = 10"
      ],
      "id": "7bc79eed",
      "execution_count": null,
      "outputs": []
    },
    {
      "cell_type": "code",
      "metadata": {
        "id": "9c6844bb",
        "outputId": "22f68d0c-9792-4f34-df0b-55a57f3f50f9"
      },
      "source": [
        "var1"
      ],
      "id": "9c6844bb",
      "execution_count": null,
      "outputs": [
        {
          "data": {
            "text/plain": [
              "10"
            ]
          },
          "execution_count": 8,
          "metadata": {},
          "output_type": "execute_result"
        }
      ]
    },
    {
      "cell_type": "code",
      "metadata": {
        "id": "58970586",
        "outputId": "275114ef-8345-4bdc-afea-8abbe9e702fa"
      },
      "source": [
        "var2 = 20\n",
        "var2"
      ],
      "id": "58970586",
      "execution_count": null,
      "outputs": [
        {
          "data": {
            "text/plain": [
              "20"
            ]
          },
          "execution_count": 9,
          "metadata": {},
          "output_type": "execute_result"
        }
      ]
    },
    {
      "cell_type": "code",
      "metadata": {
        "id": "c09f0905",
        "outputId": "576999ae-d465-4067-e64e-4055c32f58b6"
      },
      "source": [
        "var3 = var1 + var2\n",
        "var3"
      ],
      "id": "c09f0905",
      "execution_count": null,
      "outputs": [
        {
          "data": {
            "text/plain": [
              "30"
            ]
          },
          "execution_count": 10,
          "metadata": {},
          "output_type": "execute_result"
        }
      ]
    },
    {
      "cell_type": "code",
      "metadata": {
        "id": "e3e49d29",
        "outputId": "c25f0640-0d87-4a50-e637-6c532d05d0a7"
      },
      "source": [
        "print(var1, var2)"
      ],
      "id": "e3e49d29",
      "execution_count": null,
      "outputs": [
        {
          "name": "stdout",
          "output_type": "stream",
          "text": [
            "10 20\n"
          ]
        }
      ]
    },
    {
      "cell_type": "code",
      "metadata": {
        "id": "88df946b",
        "outputId": "b610730d-85e2-4102-b7ed-e739583f0bf7"
      },
      "source": [
        "print(\"신동욱\", \"교수님\")"
      ],
      "id": "88df946b",
      "execution_count": null,
      "outputs": [
        {
          "name": "stdout",
          "output_type": "stream",
          "text": [
            "신동욱 교수님\n"
          ]
        }
      ]
    },
    {
      "cell_type": "code",
      "metadata": {
        "id": "58604a78",
        "outputId": "e4c87a8f-1c49-4199-92c9-70f709e9073a"
      },
      "source": [
        "print(\"본인이름\", \"직급\")"
      ],
      "id": "58604a78",
      "execution_count": null,
      "outputs": [
        {
          "name": "stdout",
          "output_type": "stream",
          "text": [
            "본인이름 직급\n"
          ]
        }
      ]
    },
    {
      "cell_type": "code",
      "metadata": {
        "id": "e8eff9ba",
        "outputId": "eb7c050c-536f-4c51-8067-9470d3dbeeaf"
      },
      "source": [
        "print(\"신동욱\", \"님\")"
      ],
      "id": "e8eff9ba",
      "execution_count": null,
      "outputs": [
        {
          "name": "stdout",
          "output_type": "stream",
          "text": [
            "신동욱 님\n"
          ]
        }
      ]
    },
    {
      "cell_type": "code",
      "metadata": {
        "id": "6e934137",
        "outputId": "5a132a08-70d5-4bdf-c9e1-d7278a4e70d4"
      },
      "source": [
        "print(\"신동욱\"+\"님\") # 문자열 연결 연산자"
      ],
      "id": "6e934137",
      "execution_count": null,
      "outputs": [
        {
          "name": "stdout",
          "output_type": "stream",
          "text": [
            "신동욱님\n"
          ]
        }
      ]
    },
    {
      "cell_type": "code",
      "metadata": {
        "id": "dcf5d1f5",
        "outputId": "1ea027cd-cf1c-4a62-f6fc-524cf1be44ca"
      },
      "source": [
        "print(\"뎃셈:\", var1+var2) # + : 산술 연산자"
      ],
      "id": "dcf5d1f5",
      "execution_count": null,
      "outputs": [
        {
          "name": "stdout",
          "output_type": "stream",
          "text": [
            "뎃셈: 30\n"
          ]
        }
      ]
    },
    {
      "cell_type": "markdown",
      "metadata": {
        "id": "25de903b"
      },
      "source": [
        "1. 문자+문자 : 연결\n",
        "2. 숫자+숫자 : 산술\n",
        "3. 문자+숫자 : error => 형 변환!(input), int(), float(), str()"
      ],
      "id": "25de903b"
    },
    {
      "cell_type": "markdown",
      "metadata": {
        "id": "853f6a38"
      },
      "source": [
        "### <소스> 2.2_data_types_1"
      ],
      "id": "853f6a38"
    },
    {
      "cell_type": "code",
      "metadata": {
        "id": "a311bcba",
        "outputId": "4579e0d2-6c28-42ff-d713-de61e5a6123c"
      },
      "source": [
        "var1 = 10.2\n",
        "type(var1) # 데이터형을 확인할 때 사용, input()함수 사용시"
      ],
      "id": "a311bcba",
      "execution_count": null,
      "outputs": [
        {
          "data": {
            "text/plain": [
              "float"
            ]
          },
          "execution_count": 20,
          "metadata": {},
          "output_type": "execute_result"
        }
      ]
    },
    {
      "cell_type": "code",
      "metadata": {
        "id": "a2cba65c"
      },
      "source": [
        "# 자바와 C언어에서는 자료형을 처음부터 제한함\n",
        "int var1 = 10\n",
        "float var2 = 10.2"
      ],
      "id": "a2cba65c",
      "execution_count": null,
      "outputs": []
    },
    {
      "cell_type": "code",
      "metadata": {
        "id": "5e3d5fb4",
        "outputId": "0d174dac-cb34-41b0-e695-db6c4a0a9032"
      },
      "source": [
        "var3 = 1 + 2 # 3\n",
        "var4 = 3 + 0.14 # 3.0(자동 형변환) + 0.14 = 3.14\n",
        "\n",
        "print(type(var3)) # int\n",
        "print(type(var4)) # float"
      ],
      "id": "5e3d5fb4",
      "execution_count": null,
      "outputs": [
        {
          "name": "stdout",
          "output_type": "stream",
          "text": [
            "<class 'int'>\n",
            "<class 'float'>\n"
          ]
        }
      ]
    },
    {
      "cell_type": "markdown",
      "metadata": {
        "id": "17e92084"
      },
      "source": [
        "### <소스> 2.3_data_types_2"
      ],
      "id": "17e92084"
    },
    {
      "cell_type": "code",
      "metadata": {
        "scrolled": true,
        "id": "d877c4e5",
        "outputId": "e679fecb-7a13-42d4-920f-6f2c61949ccc"
      },
      "source": [
        "str1 = \"Easy\"\n",
        "str1"
      ],
      "id": "d877c4e5",
      "execution_count": null,
      "outputs": [
        {
          "data": {
            "text/plain": [
              "'Easy'"
            ]
          },
          "execution_count": 23,
          "metadata": {},
          "output_type": "execute_result"
        }
      ]
    },
    {
      "cell_type": "code",
      "metadata": {
        "id": "11e394b4",
        "outputId": "8c48c851-f967-4aeb-8f10-9ef20f6c9664"
      },
      "source": [
        "print(type(str1))"
      ],
      "id": "11e394b4",
      "execution_count": null,
      "outputs": [
        {
          "name": "stdout",
          "output_type": "stream",
          "text": [
            "<class 'str'>\n"
          ]
        }
      ]
    },
    {
      "cell_type": "code",
      "metadata": {
        "id": "e3f92dd6",
        "outputId": "86a14061-d588-411a-e28a-0221d340e574"
      },
      "source": [
        "str2 = \"파이썬 딥러닝\"\n",
        "str2"
      ],
      "id": "e3f92dd6",
      "execution_count": null,
      "outputs": [
        {
          "data": {
            "text/plain": [
              "'파이썬 딥러닝'"
            ]
          },
          "execution_count": 25,
          "metadata": {},
          "output_type": "execute_result"
        }
      ]
    },
    {
      "cell_type": "code",
      "metadata": {
        "id": "ec0ce918",
        "outputId": "4bd5f59c-03e0-46bf-8988-575b0e373112"
      },
      "source": [
        "str3 = 'ver1.0'\n",
        "print(type(str3))"
      ],
      "id": "ec0ce918",
      "execution_count": null,
      "outputs": [
        {
          "name": "stdout",
          "output_type": "stream",
          "text": [
            "<class 'str'>\n"
          ]
        }
      ]
    },
    {
      "cell_type": "code",
      "metadata": {
        "id": "c902ff8f",
        "outputId": "eb139b63-9892-4d3c-d08d-ee4d0cf3679b"
      },
      "source": [
        "len(str1) # for 구문, 크롤링할 떄 많이 쓰임"
      ],
      "id": "c902ff8f",
      "execution_count": null,
      "outputs": [
        {
          "data": {
            "text/plain": [
              "4"
            ]
          },
          "execution_count": 28,
          "metadata": {},
          "output_type": "execute_result"
        }
      ]
    },
    {
      "cell_type": "code",
      "metadata": {
        "id": "722deb23",
        "outputId": "be061109-1fe1-4857-ff87-899714e38d1a"
      },
      "source": [
        "str1[0:2]"
      ],
      "id": "722deb23",
      "execution_count": null,
      "outputs": [
        {
          "data": {
            "text/plain": [
              "'Ea'"
            ]
          },
          "execution_count": 31,
          "metadata": {},
          "output_type": "execute_result"
        }
      ]
    },
    {
      "cell_type": "markdown",
      "metadata": {
        "id": "d185a858"
      },
      "source": [
        ""
      ],
      "id": "d185a858"
    },
    {
      "cell_type": "code",
      "metadata": {
        "id": "26ede506",
        "outputId": "9840fd16-b18d-4d67-fd6f-07524a1f29e8"
      },
      "source": [
        "print(\"I'm a boy\")"
      ],
      "id": "26ede506",
      "execution_count": null,
      "outputs": [
        {
          "name": "stdout",
          "output_type": "stream",
          "text": [
            "I'm a boy\n"
          ]
        }
      ]
    },
    {
      "cell_type": "code",
      "metadata": {
        "id": "9cc78762",
        "outputId": "5fc1a0f1-c543-41ed-d10b-0167804ab164"
      },
      "source": [
        "print(' \"I say hello\" ')"
      ],
      "id": "9cc78762",
      "execution_count": null,
      "outputs": [
        {
          "name": "stdout",
          "output_type": "stream",
          "text": [
            " \"I say hello\" \n"
          ]
        }
      ]
    },
    {
      "cell_type": "markdown",
      "metadata": {
        "id": "4d93e60f"
      },
      "source": [
        "' ', \" \" : 한 줄 문자열<br>\n",
        "'''\n",
        "\n",
        "''', \n",
        "\n",
        "\"\"\"\n",
        "\n",
        "\"\"\" : 여러 줄 문자열"
      ],
      "id": "4d93e60f"
    },
    {
      "cell_type": "code",
      "metadata": {
        "id": "b37d47e1",
        "outputId": "7990c69f-dbbc-4ba8-9e5b-d36f95f7e451"
      },
      "source": [
        "# Easy 중에서 as만 뽑아보세요!(단 양수 인덱스로)\n",
        "print(str1[1:3])\n",
        "\n",
        "# Easy 중에서 as만 뽑아보세요!(단 음수 인덱스로)\n",
        "print(str1[-3:-1])"
      ],
      "id": "b37d47e1",
      "execution_count": null,
      "outputs": [
        {
          "name": "stdout",
          "output_type": "stream",
          "text": [
            "as\n",
            "as\n"
          ]
        }
      ]
    },
    {
      "cell_type": "code",
      "metadata": {
        "id": "62a4935b",
        "outputId": "521349f2-5dc7-4dc3-9ae2-59cc0057c79a"
      },
      "source": [
        "# Easy 중에서 asy까지 뽑아보세요!(단 음수 인덱스로)\n",
        "print(str1[-3:]) # 뒷쪽을 비웠다 : 끝까지"
      ],
      "id": "62a4935b",
      "execution_count": null,
      "outputs": [
        {
          "name": "stdout",
          "output_type": "stream",
          "text": [
            "asy\n"
          ]
        }
      ]
    },
    {
      "cell_type": "code",
      "metadata": {
        "id": "ff432eb3",
        "outputId": "f626eecc-1f39-44da-ee68-6624abb93ace"
      },
      "source": [
        "# Easy 중에서 Ea까지 뽑아보세요!(단 음수 인덱스로)\n",
        "print(str1[:-2]) # 앞을 비우고 : 0이 생략 "
      ],
      "id": "ff432eb3",
      "execution_count": null,
      "outputs": [
        {
          "name": "stdout",
          "output_type": "stream",
          "text": [
            "Ea\n"
          ]
        }
      ]
    },
    {
      "cell_type": "code",
      "metadata": {
        "id": "85e53a67",
        "outputId": "4eb962ed-3bc1-442b-9197-b4a4a8add1ef"
      },
      "source": [
        "str1"
      ],
      "id": "85e53a67",
      "execution_count": null,
      "outputs": [
        {
          "data": {
            "text/plain": [
              "'Easy'"
            ]
          },
          "execution_count": 45,
          "metadata": {},
          "output_type": "execute_result"
        }
      ]
    },
    {
      "cell_type": "code",
      "metadata": {
        "id": "49644143",
        "outputId": "92aebc45-a158-418b-c0c9-ed8cb198c7b7"
      },
      "source": [
        "str4 = \"%s 파이썬 딥러닝\" %str1 # %s : 문자열을 받을 때 사용\n",
        "str4"
      ],
      "id": "49644143",
      "execution_count": null,
      "outputs": [
        {
          "data": {
            "text/plain": [
              "'Easy 파이썬 딥러닝'"
            ]
          },
          "execution_count": 46,
          "metadata": {},
          "output_type": "execute_result"
        }
      ]
    },
    {
      "cell_type": "code",
      "metadata": {
        "id": "df8dc9c4",
        "outputId": "642b829f-5ad6-45e5-e89d-daff67c13e0c"
      },
      "source": [
        "str5 = 100\n",
        "str6 = \"%d 파이썬 딥러닝\" %str5 # %d : 숫자 받을 때 사용\n",
        "str6"
      ],
      "id": "df8dc9c4",
      "execution_count": null,
      "outputs": [
        {
          "data": {
            "text/plain": [
              "'100 파이썬 딥러닝'"
            ]
          },
          "execution_count": 49,
          "metadata": {},
          "output_type": "execute_result"
        }
      ]
    },
    {
      "cell_type": "code",
      "metadata": {
        "id": "6a6a32e1",
        "outputId": "80a0de68-b4c8-4bf0-df26-9cb70d610cd4"
      },
      "source": [
        "str7 = 100.5\n",
        "str8 = \"%f 파이썬 딥러닝\" %str5 # %d : 숫자 받을 때 사용\n",
        "str8"
      ],
      "id": "6a6a32e1",
      "execution_count": null,
      "outputs": [
        {
          "data": {
            "text/plain": [
              "'100.000000 파이썬 딥러닝'"
            ]
          },
          "execution_count": 50,
          "metadata": {},
          "output_type": "execute_result"
        }
      ]
    },
    {
      "cell_type": "markdown",
      "metadata": {
        "id": "602a57b8"
      },
      "source": [
        "### <소스> 2_4_data_types_3"
      ],
      "id": "602a57b8"
    },
    {
      "cell_type": "code",
      "metadata": {
        "id": "67b7c21f",
        "outputId": "dfc31e63-c0d1-4f33-ca77-ef5794636c23"
      },
      "source": [
        "list1 = [1,2,3,4,5]\n",
        "list1"
      ],
      "id": "67b7c21f",
      "execution_count": null,
      "outputs": [
        {
          "data": {
            "text/plain": [
              "[1, 2, 3, 4, 5]"
            ]
          },
          "execution_count": 51,
          "metadata": {},
          "output_type": "execute_result"
        }
      ]
    },
    {
      "cell_type": "code",
      "metadata": {
        "id": "3e627b3d",
        "outputId": "e0820fd8-8998-4faf-b37b-34c1c9523079"
      },
      "source": [
        "type(list1)"
      ],
      "id": "3e627b3d",
      "execution_count": null,
      "outputs": [
        {
          "data": {
            "text/plain": [
              "list"
            ]
          },
          "execution_count": 52,
          "metadata": {},
          "output_type": "execute_result"
        }
      ]
    },
    {
      "cell_type": "code",
      "metadata": {
        "id": "8aa758db",
        "outputId": "03ed992a-d015-4654-b448-2bf11b456f4d"
      },
      "source": [
        "list2 = [10]\n",
        "print(list2)\n",
        "print(type(list2))"
      ],
      "id": "8aa758db",
      "execution_count": null,
      "outputs": [
        {
          "name": "stdout",
          "output_type": "stream",
          "text": [
            "[10]\n",
            "<class 'list'>\n"
          ]
        }
      ]
    },
    {
      "cell_type": "code",
      "metadata": {
        "id": "ffc53016",
        "outputId": "161b42bd-3632-4920-a92a-fcd3c26a8ac2"
      },
      "source": [
        "# list 초기화\n",
        "\n",
        "list3 = list()\n",
        "print(list3)"
      ],
      "id": "ffc53016",
      "execution_count": null,
      "outputs": [
        {
          "name": "stdout",
          "output_type": "stream",
          "text": [
            "[]\n"
          ]
        }
      ]
    },
    {
      "cell_type": "code",
      "metadata": {
        "id": "4c179e8f",
        "outputId": "212a3591-a1fe-4b1f-c17e-f1bde4c0a229"
      },
      "source": [
        "list4 = []\n",
        "print(list4) # 빈 리스트와 append 함수 : 같이 자주 씀"
      ],
      "id": "4c179e8f",
      "execution_count": null,
      "outputs": [
        {
          "name": "stdout",
          "output_type": "stream",
          "text": [
            "[]\n"
          ]
        }
      ]
    },
    {
      "cell_type": "code",
      "metadata": {
        "id": "ce40a79b",
        "outputId": "2fea0de2-ceeb-40d1-c65f-19d74ccc8f42"
      },
      "source": [
        "list_of_list = [list1, list2, list3] # 각각은 list1, list2, list3 : 1차원\n",
        "list_of_list # 2차원(텐서 : 머신러닝)"
      ],
      "id": "ce40a79b",
      "execution_count": null,
      "outputs": [
        {
          "data": {
            "text/plain": [
              "[[1, 2, 3, 4, 5], [10], []]"
            ]
          },
          "execution_count": 57,
          "metadata": {},
          "output_type": "execute_result"
        }
      ]
    },
    {
      "cell_type": "code",
      "metadata": {
        "id": "95c5acf5",
        "outputId": "534fe3f1-fdf6-4e74-bfe0-ce81dfbdab59"
      },
      "source": [
        "type(list_of_list)"
      ],
      "id": "95c5acf5",
      "execution_count": null,
      "outputs": [
        {
          "data": {
            "text/plain": [
              "list"
            ]
          },
          "execution_count": 58,
          "metadata": {},
          "output_type": "execute_result"
        }
      ]
    },
    {
      "cell_type": "code",
      "metadata": {
        "id": "495d1ab7",
        "outputId": "076baae3-5734-4d68-a651-1a2c9144799a"
      },
      "source": [
        "list_of_list[0]"
      ],
      "id": "495d1ab7",
      "execution_count": null,
      "outputs": [
        {
          "data": {
            "text/plain": [
              "[1, 2, 3, 4, 5]"
            ]
          },
          "execution_count": 59,
          "metadata": {},
          "output_type": "execute_result"
        }
      ]
    },
    {
      "cell_type": "code",
      "metadata": {
        "id": "81373837",
        "outputId": "93922712-1343-4fb7-a019-d3a8e5053c7f"
      },
      "source": [
        "list_of_list[1]"
      ],
      "id": "81373837",
      "execution_count": null,
      "outputs": [
        {
          "data": {
            "text/plain": [
              "[10]"
            ]
          },
          "execution_count": 60,
          "metadata": {},
          "output_type": "execute_result"
        }
      ]
    },
    {
      "cell_type": "code",
      "metadata": {
        "id": "e9b2078e",
        "outputId": "7791eb29-0abc-4323-ad60-d3ff4a4e37b5"
      },
      "source": [
        "list_of_list[2]\n",
        "list_of_list[-1]"
      ],
      "id": "e9b2078e",
      "execution_count": null,
      "outputs": [
        {
          "data": {
            "text/plain": [
              "[]"
            ]
          },
          "execution_count": 61,
          "metadata": {},
          "output_type": "execute_result"
        }
      ]
    },
    {
      "cell_type": "code",
      "metadata": {
        "id": "93f38207",
        "outputId": "a1cbada7-a57e-48d1-a13a-1ed3414feb5f"
      },
      "source": [
        "list_of_list[0][1]"
      ],
      "id": "93f38207",
      "execution_count": null,
      "outputs": [
        {
          "data": {
            "text/plain": [
              "2"
            ]
          },
          "execution_count": 62,
          "metadata": {},
          "output_type": "execute_result"
        }
      ]
    },
    {
      "cell_type": "code",
      "metadata": {
        "id": "99730738",
        "outputId": "e27fd6ef-0770-4675-f18a-5309a9340283"
      },
      "source": [
        "list1.append(100)\n",
        "list1"
      ],
      "id": "99730738",
      "execution_count": null,
      "outputs": [
        {
          "data": {
            "text/plain": [
              "[1, 2, 3, 4, 5, 100, 100, 100, 100]"
            ]
          },
          "execution_count": 92,
          "metadata": {},
          "output_type": "execute_result"
        }
      ]
    },
    {
      "cell_type": "code",
      "metadata": {
        "id": "6572f4d9"
      },
      "source": [
        "list3 = []"
      ],
      "id": "6572f4d9",
      "execution_count": null,
      "outputs": []
    },
    {
      "cell_type": "code",
      "metadata": {
        "id": "297877ea"
      },
      "source": [
        "list3.append(7)"
      ],
      "id": "297877ea",
      "execution_count": null,
      "outputs": []
    },
    {
      "cell_type": "code",
      "metadata": {
        "id": "025a9f35",
        "outputId": "f133276b-ad43-436f-fd57-395e0c7c392d"
      },
      "source": [
        "list3.append(7)\n",
        "list3.append(8)\n",
        "list3.append(9)\n",
        "list3"
      ],
      "id": "025a9f35",
      "execution_count": null,
      "outputs": [
        {
          "data": {
            "text/plain": [
              "[7, 8, 9, 7, 8, 9, 7, 8, 9]"
            ]
          },
          "execution_count": 90,
          "metadata": {},
          "output_type": "execute_result"
        }
      ]
    },
    {
      "cell_type": "markdown",
      "metadata": {
        "id": "903f1d41"
      },
      "source": [
        "### 2.5_data_types_4"
      ],
      "id": "903f1d41"
    },
    {
      "cell_type": "code",
      "metadata": {
        "id": "72ce965d",
        "outputId": "6797307f-ce88-4741-9fb1-eb2ee6685155"
      },
      "source": [
        "tuple1 = (1,2)\n",
        "tuple1"
      ],
      "id": "72ce965d",
      "execution_count": null,
      "outputs": [
        {
          "data": {
            "text/plain": [
              "(1, 2)"
            ]
          },
          "execution_count": 70,
          "metadata": {},
          "output_type": "execute_result"
        }
      ]
    },
    {
      "cell_type": "code",
      "metadata": {
        "id": "337c9b72",
        "outputId": "8a27b425-a137-4ae1-84b8-5f4f6554ed73"
      },
      "source": [
        "type(tuple1)"
      ],
      "id": "337c9b72",
      "execution_count": null,
      "outputs": [
        {
          "data": {
            "text/plain": [
              "tuple"
            ]
          },
          "execution_count": 71,
          "metadata": {},
          "output_type": "execute_result"
        }
      ]
    },
    {
      "cell_type": "code",
      "metadata": {
        "id": "cade1cf4",
        "outputId": "7965eb1c-1f66-40fa-996c-c0960d0b4ffd"
      },
      "source": [
        "tuple2 = (\"a\",\"b\",100)\n",
        "tuple2"
      ],
      "id": "cade1cf4",
      "execution_count": null,
      "outputs": [
        {
          "data": {
            "text/plain": [
              "('a', 'b', 100)"
            ]
          },
          "execution_count": 72,
          "metadata": {},
          "output_type": "execute_result"
        }
      ]
    },
    {
      "cell_type": "code",
      "metadata": {
        "id": "1308f981",
        "outputId": "fb5707f6-1b57-4068-d2b7-713025c43371"
      },
      "source": [
        "tuple3 = tuple()\n",
        "tuple4 = ()\n",
        "print(tuple3)\n",
        "print(tuple4)"
      ],
      "id": "1308f981",
      "execution_count": null,
      "outputs": [
        {
          "name": "stdout",
          "output_type": "stream",
          "text": [
            "()\n",
            "()\n"
          ]
        }
      ]
    },
    {
      "cell_type": "code",
      "metadata": {
        "id": "eaefa078",
        "outputId": "5c513bad-432d-40dd-d332-e9cdc0675ad6"
      },
      "source": [
        "tuple2[0]"
      ],
      "id": "eaefa078",
      "execution_count": null,
      "outputs": [
        {
          "data": {
            "text/plain": [
              "'a'"
            ]
          },
          "execution_count": 75,
          "metadata": {},
          "output_type": "execute_result"
        }
      ]
    },
    {
      "cell_type": "code",
      "metadata": {
        "id": "bcbde9a3",
        "outputId": "40ac1228-de3b-4b68-c772-a7d69d16c259"
      },
      "source": [
        "tuple2[1:]"
      ],
      "id": "bcbde9a3",
      "execution_count": null,
      "outputs": [
        {
          "data": {
            "text/plain": [
              "('b', 100)"
            ]
          },
          "execution_count": 76,
          "metadata": {},
          "output_type": "execute_result"
        }
      ]
    },
    {
      "cell_type": "markdown",
      "metadata": {
        "id": "88f679b6"
      },
      "source": [
        "### 2.6_data_types_5"
      ],
      "id": "88f679b6"
    },
    {
      "cell_type": "code",
      "metadata": {
        "id": "ed3a88dc",
        "outputId": "051bdaa1-d694-4200-92b4-127b5e69da2b"
      },
      "source": [
        "dict1 = { 'name':\"Jay\", 'age': 20 }\n",
        "dict1\n",
        "# name = \"Jay\"\n",
        "# age = 20"
      ],
      "id": "ed3a88dc",
      "execution_count": null,
      "outputs": [
        {
          "data": {
            "text/plain": [
              "{'name': 'Jay', 'age': 20}"
            ]
          },
          "execution_count": 77,
          "metadata": {},
          "output_type": "execute_result"
        }
      ]
    },
    {
      "cell_type": "code",
      "metadata": {
        "id": "f5a52b84",
        "outputId": "0c3c6e05-0789-4631-a287-e18122e581c2"
      },
      "source": [
        "type(dict1)"
      ],
      "id": "f5a52b84",
      "execution_count": null,
      "outputs": [
        {
          "data": {
            "text/plain": [
              "dict"
            ]
          },
          "execution_count": 78,
          "metadata": {},
          "output_type": "execute_result"
        }
      ]
    },
    {
      "cell_type": "code",
      "metadata": {
        "id": "61a401a1",
        "outputId": "5da037f6-e5c1-4f6d-8beb-908996bc7f98"
      },
      "source": [
        "dict1['name']"
      ],
      "id": "61a401a1",
      "execution_count": null,
      "outputs": [
        {
          "data": {
            "text/plain": [
              "'Jay'"
            ]
          },
          "execution_count": 79,
          "metadata": {},
          "output_type": "execute_result"
        }
      ]
    },
    {
      "cell_type": "code",
      "metadata": {
        "id": "fe4bde2c",
        "outputId": "74804acb-b3ea-4fd4-8416-ec8cfd4ec4b1"
      },
      "source": [
        "dict1['age']"
      ],
      "id": "fe4bde2c",
      "execution_count": null,
      "outputs": [
        {
          "data": {
            "text/plain": [
              "20"
            ]
          },
          "execution_count": 80,
          "metadata": {},
          "output_type": "execute_result"
        }
      ]
    },
    {
      "cell_type": "code",
      "metadata": {
        "id": "065bb108",
        "outputId": "cf75e9f4-07e3-41c9-eb48-b9bf28fa571f"
      },
      "source": [
        "dict1['grade'] = [3.0, 4.0, 3.5, 4.2]\n",
        "dict1"
      ],
      "id": "065bb108",
      "execution_count": null,
      "outputs": [
        {
          "data": {
            "text/plain": [
              "{'name': 'Jay', 'age': 20, 'grade': [3.0, 4.0, 3.5, 4.2]}"
            ]
          },
          "execution_count": 81,
          "metadata": {},
          "output_type": "execute_result"
        }
      ]
    },
    {
      "cell_type": "code",
      "metadata": {
        "id": "8d14dc1a",
        "outputId": "770237de-37dc-4568-cf74-0a37386636ec"
      },
      "source": [
        "dict1.keys()"
      ],
      "id": "8d14dc1a",
      "execution_count": null,
      "outputs": [
        {
          "data": {
            "text/plain": [
              "dict_keys(['name', 'age', 'grade'])"
            ]
          },
          "execution_count": 82,
          "metadata": {},
          "output_type": "execute_result"
        }
      ]
    },
    {
      "cell_type": "code",
      "metadata": {
        "id": "4047f46e",
        "outputId": "e88fc006-541f-49de-ab7c-d5d47612d307"
      },
      "source": [
        "dict1.values()"
      ],
      "id": "4047f46e",
      "execution_count": null,
      "outputs": [
        {
          "data": {
            "text/plain": [
              "dict_values(['Jay', 20, [3.0, 4.0, 3.5, 4.2]])"
            ]
          },
          "execution_count": 83,
          "metadata": {},
          "output_type": "execute_result"
        }
      ]
    },
    {
      "cell_type": "code",
      "metadata": {
        "id": "4089159a",
        "outputId": "cce634c7-839f-4bb5-bdb7-772d90553ce8"
      },
      "source": [
        "dict1.items()"
      ],
      "id": "4089159a",
      "execution_count": null,
      "outputs": [
        {
          "data": {
            "text/plain": [
              "dict_items([('name', 'Jay'), ('age', 20), ('grade', [3.0, 4.0, 3.5, 4.2])])"
            ]
          },
          "execution_count": 84,
          "metadata": {},
          "output_type": "execute_result"
        }
      ]
    },
    {
      "cell_type": "markdown",
      "metadata": {
        "id": "0054e367"
      },
      "source": [
        "### 2.7_operators_1"
      ],
      "id": "0054e367"
    },
    {
      "cell_type": "code",
      "metadata": {
        "id": "44cb46d4",
        "outputId": "6ef717a2-1efb-4452-f96e-86f1730634e0"
      },
      "source": [
        "1+2"
      ],
      "id": "44cb46d4",
      "execution_count": null,
      "outputs": [
        {
          "data": {
            "text/plain": [
              "3"
            ]
          },
          "execution_count": 93,
          "metadata": {},
          "output_type": "execute_result"
        }
      ]
    },
    {
      "cell_type": "code",
      "metadata": {
        "id": "ee07825a",
        "outputId": "ea478040-0a86-417d-dc7b-4cbca9969099"
      },
      "source": [
        "new_str = \"Good\" + \" \" + \"Morning\"\n",
        "new_str"
      ],
      "id": "ee07825a",
      "execution_count": null,
      "outputs": [
        {
          "data": {
            "text/plain": [
              "'Good Morning'"
            ]
          },
          "execution_count": 94,
          "metadata": {},
          "output_type": "execute_result"
        }
      ]
    },
    {
      "cell_type": "code",
      "metadata": {
        "id": "b970e13b",
        "outputId": "761ee7c7-d113-40e5-8008-9472d0872013"
      },
      "source": [
        "print(\"Good\", \"Morning\")"
      ],
      "id": "b970e13b",
      "execution_count": null,
      "outputs": [
        {
          "name": "stdout",
          "output_type": "stream",
          "text": [
            "Good Morning\n"
          ]
        }
      ]
    },
    {
      "cell_type": "code",
      "metadata": {
        "id": "fa100633",
        "outputId": "8df79f03-ba1b-4f3e-81b9-fe67d5804c5a"
      },
      "source": [
        "\"a\" * 3 # 문자 * 숫자 : 반복(횟수, 파이썬 특수!)"
      ],
      "id": "fa100633",
      "execution_count": null,
      "outputs": [
        {
          "data": {
            "text/plain": [
              "'aaa'"
            ]
          },
          "execution_count": 97,
          "metadata": {},
          "output_type": "execute_result"
        }
      ]
    },
    {
      "cell_type": "code",
      "metadata": {
        "id": "0380f172",
        "outputId": "084e9278-0b19-4686-af1e-00af2a6e1eb5"
      },
      "source": [
        "print(\"=\"*30)\n",
        "print(\"이름\")\n",
        "print(\"=\"*30)"
      ],
      "id": "0380f172",
      "execution_count": null,
      "outputs": [
        {
          "name": "stdout",
          "output_type": "stream",
          "text": [
            "==============================\n",
            "이름\n",
            "==============================\n"
          ]
        }
      ]
    },
    {
      "cell_type": "code",
      "metadata": {
        "id": "cc3a57b3",
        "outputId": "989a2e95-f017-4e62-82f6-adc02676e4c2"
      },
      "source": [
        "print(5/3)"
      ],
      "id": "cc3a57b3",
      "execution_count": null,
      "outputs": [
        {
          "name": "stdout",
          "output_type": "stream",
          "text": [
            "1.6666666666666667\n"
          ]
        }
      ]
    },
    {
      "cell_type": "code",
      "metadata": {
        "id": "53c59d2d",
        "outputId": "42efffd6-3042-4860-960c-b2f04d787af5"
      },
      "source": [
        "5 // 3"
      ],
      "id": "53c59d2d",
      "execution_count": null,
      "outputs": [
        {
          "data": {
            "text/plain": [
              "1"
            ]
          },
          "execution_count": 101,
          "metadata": {},
          "output_type": "execute_result"
        }
      ]
    },
    {
      "cell_type": "code",
      "metadata": {
        "id": "0a9ff404",
        "outputId": "e2f383a8-e8b7-4dd5-af40-08129279a5cc"
      },
      "source": [
        "5 % 3"
      ],
      "id": "0a9ff404",
      "execution_count": null,
      "outputs": [
        {
          "data": {
            "text/plain": [
              "2"
            ]
          },
          "execution_count": 102,
          "metadata": {},
          "output_type": "execute_result"
        }
      ]
    },
    {
      "cell_type": "code",
      "metadata": {
        "id": "f99fedd9",
        "outputId": "22ddcdbd-c512-4303-f5c4-ebaa5ed5aff9"
      },
      "source": [
        "3 ** 2"
      ],
      "id": "f99fedd9",
      "execution_count": null,
      "outputs": [
        {
          "data": {
            "text/plain": [
              "9"
            ]
          },
          "execution_count": 103,
          "metadata": {},
          "output_type": "execute_result"
        }
      ]
    },
    {
      "cell_type": "markdown",
      "metadata": {
        "id": "9e219834"
      },
      "source": [
        "### 2.8_operators_2"
      ],
      "id": "9e219834"
    },
    {
      "cell_type": "code",
      "metadata": {
        "id": "6715e57c",
        "outputId": "2c81a2ee-7144-4d44-98d8-456643aeae8d"
      },
      "source": [
        "True # 파이썬의 예약어(파이썬에서 쓰는 단어)"
      ],
      "id": "6715e57c",
      "execution_count": null,
      "outputs": [
        {
          "data": {
            "text/plain": [
              "True"
            ]
          },
          "execution_count": 104,
          "metadata": {},
          "output_type": "execute_result"
        }
      ]
    },
    {
      "cell_type": "code",
      "metadata": {
        "id": "1dd17712",
        "outputId": "2aab4bf2-ca83-4a5f-d133-a34129bde27e"
      },
      "source": [
        "true"
      ],
      "id": "1dd17712",
      "execution_count": null,
      "outputs": [
        {
          "ename": "NameError",
          "evalue": "name 'true' is not defined",
          "output_type": "error",
          "traceback": [
            "\u001b[1;31m---------------------------------------------------------------------------\u001b[0m",
            "\u001b[1;31mNameError\u001b[0m                                 Traceback (most recent call last)",
            "\u001b[1;32m<ipython-input-105-724ba28f4a9a>\u001b[0m in \u001b[0;36m<module>\u001b[1;34m\u001b[0m\n\u001b[1;32m----> 1\u001b[1;33m \u001b[0mtrue\u001b[0m\u001b[1;33m\u001b[0m\u001b[1;33m\u001b[0m\u001b[0m\n\u001b[0m",
            "\u001b[1;31mNameError\u001b[0m: name 'true' is not defined"
          ]
        }
      ]
    },
    {
      "cell_type": "code",
      "metadata": {
        "id": "38be7389",
        "outputId": "bdf38840-c5c2-45da-b9d7-48df367dd7e0"
      },
      "source": [
        "TRUE"
      ],
      "id": "38be7389",
      "execution_count": null,
      "outputs": [
        {
          "ename": "NameError",
          "evalue": "name 'TRUE' is not defined",
          "output_type": "error",
          "traceback": [
            "\u001b[1;31m---------------------------------------------------------------------------\u001b[0m",
            "\u001b[1;31mNameError\u001b[0m                                 Traceback (most recent call last)",
            "\u001b[1;32m<ipython-input-106-425fdcbd1209>\u001b[0m in \u001b[0;36m<module>\u001b[1;34m\u001b[0m\n\u001b[1;32m----> 1\u001b[1;33m \u001b[0mTRUE\u001b[0m\u001b[1;33m\u001b[0m\u001b[1;33m\u001b[0m\u001b[0m\n\u001b[0m",
            "\u001b[1;31mNameError\u001b[0m: name 'TRUE' is not defined"
          ]
        }
      ]
    },
    {
      "cell_type": "code",
      "metadata": {
        "id": "644a9f9d",
        "outputId": "c3a842b4-a8bf-41a2-e396-2b22a85c57ca"
      },
      "source": [
        "not True # OS( Win10, Mac ) : 폴더 있으면 그대로 사용, 없으면 새로 만들기"
      ],
      "id": "644a9f9d",
      "execution_count": null,
      "outputs": [
        {
          "data": {
            "text/plain": [
              "False"
            ]
          },
          "execution_count": 107,
          "metadata": {},
          "output_type": "execute_result"
        }
      ]
    },
    {
      "cell_type": "code",
      "metadata": {
        "id": "1766d485",
        "outputId": "c018e5e3-5b56-44ff-caa9-dc50eec32729"
      },
      "source": [
        "type(False)"
      ],
      "id": "1766d485",
      "execution_count": null,
      "outputs": [
        {
          "data": {
            "text/plain": [
              "bool"
            ]
          },
          "execution_count": 108,
          "metadata": {},
          "output_type": "execute_result"
        }
      ]
    },
    {
      "cell_type": "code",
      "metadata": {
        "id": "cb6891ce",
        "outputId": "7afce49b-27d2-408b-8b93-5beef7e95411"
      },
      "source": [
        "print(True and True)\n",
        "print(True and False)\n",
        "print(False and False)"
      ],
      "id": "cb6891ce",
      "execution_count": null,
      "outputs": [
        {
          "name": "stdout",
          "output_type": "stream",
          "text": [
            "True\n",
            "False\n",
            "False\n"
          ]
        }
      ]
    },
    {
      "cell_type": "code",
      "metadata": {
        "id": "c2fd1a83"
      },
      "source": [
        "print(\"돈 있음\" and \"먹고싶음\") # 먹음\n",
        "print(\"돈 없음\" and \"먹고싶음\") # 못 먹음\n",
        "print(\"돈 있음\" and \"먹고싶지 않음\") # 안 먹음\n",
        "print(\"돈 없음\" and \"먹고싶지 않음\") # 못 먹음"
      ],
      "id": "c2fd1a83",
      "execution_count": null,
      "outputs": []
    },
    {
      "cell_type": "code",
      "metadata": {
        "id": "605d3a0f"
      },
      "source": [
        "print(\"김치찌게\" or \"된장찌게\") # 먹기 (가게에 들어감)\n",
        "print(\"김치찌게\" or \"된장찌게 X\") # 김치찌게 먹기 (가게에 들어감)\n",
        "print(\"김치찌게 X\" or \"된장찌게\") # 된장찌게 먹기 (가게에 들어감)\n",
        "print(\"김치찌게 X\" or \"된장찌게 X\") # 다른 가게 감"
      ],
      "id": "605d3a0f",
      "execution_count": null,
      "outputs": []
    },
    {
      "cell_type": "code",
      "metadata": {
        "id": "2f452ac8",
        "outputId": "fc5feefc-bfc5-453c-ef7e-b815914ed6a7"
      },
      "source": [
        "\"신동욱\" == \"신동욱\""
      ],
      "id": "2f452ac8",
      "execution_count": null,
      "outputs": [
        {
          "data": {
            "text/plain": [
              "True"
            ]
          },
          "execution_count": 110,
          "metadata": {},
          "output_type": "execute_result"
        }
      ]
    },
    {
      "cell_type": "code",
      "metadata": {
        "id": "87628754",
        "outputId": "816e7532-677d-4114-d62b-c51d0e1b82ea"
      },
      "source": [
        "\"신동욱\" != \"신동욱\""
      ],
      "id": "87628754",
      "execution_count": null,
      "outputs": [
        {
          "data": {
            "text/plain": [
              "False"
            ]
          },
          "execution_count": 111,
          "metadata": {},
          "output_type": "execute_result"
        }
      ]
    },
    {
      "cell_type": "code",
      "metadata": {
        "id": "2165a3bb",
        "outputId": "bb2134b9-97a0-46d0-ad43-7459fcb8cf5a"
      },
      "source": [
        "var1 = 'a' # DB에 저장된 아이디\n",
        "var2 = 'a' # 사용자 아이디\n",
        "var1 == var2\n",
        "\n",
        "# True : 회원 => 웰컴 페이지 xxx님 환영합니다.\n",
        "# False : 회원이 아님 => 신규가입 페이지로 유도"
      ],
      "id": "2165a3bb",
      "execution_count": null,
      "outputs": [
        {
          "data": {
            "text/plain": [
              "True"
            ]
          },
          "execution_count": 112,
          "metadata": {},
          "output_type": "execute_result"
        }
      ]
    },
    {
      "cell_type": "markdown",
      "metadata": {
        "id": "720c6935"
      },
      "source": [
        "### 2.10_control_1"
      ],
      "id": "720c6935"
    },
    {
      "cell_type": "code",
      "metadata": {
        "id": "f18691c5",
        "outputId": "485826aa-53bb-4d7e-bff1-b399464f672b"
      },
      "source": [
        "a = 4\n",
        "\n",
        "if a % 2 == 0:\n",
        "    print(\"a는 짝수\")\n",
        "    print(\"a는 2의 배수\")"
      ],
      "id": "f18691c5",
      "execution_count": null,
      "outputs": [
        {
          "name": "stdout",
          "output_type": "stream",
          "text": [
            "a는 짝수\n",
            "a는 2의 배수\n"
          ]
        }
      ]
    },
    {
      "cell_type": "code",
      "metadata": {
        "id": "35214252"
      },
      "source": [
        "if a % 2 !=0: # False\n",
        "    print(\"a는 홀수\")"
      ],
      "id": "35214252",
      "execution_count": null,
      "outputs": []
    },
    {
      "cell_type": "code",
      "metadata": {
        "id": "bf030873",
        "outputId": "239cb7c9-3bb6-4243-e258-8e66e277fd66"
      },
      "source": [
        "b = 7\n",
        "if b % 2 == 0:\n",
        "    print('b는 짝수')\n",
        "else:\n",
        "    print(\"b는 홀수\")"
      ],
      "id": "bf030873",
      "execution_count": null,
      "outputs": [
        {
          "name": "stdout",
          "output_type": "stream",
          "text": [
            "b는 홀수\n"
          ]
        }
      ]
    },
    {
      "cell_type": "code",
      "metadata": {
        "id": "837ea1f0",
        "outputId": "8453e85e-51b1-4c6b-95c3-114989655cc4"
      },
      "source": [
        "c = -1\n",
        "if c > 0:\n",
        "    print(\"c는 양수\")\n",
        "elif c < 0:\n",
        "    print(\"c는 음수\")\n",
        "else:\n",
        "    print(\"c는 0\")"
      ],
      "id": "837ea1f0",
      "execution_count": null,
      "outputs": [
        {
          "name": "stdout",
          "output_type": "stream",
          "text": [
            "c는 음수\n"
          ]
        }
      ]
    },
    {
      "cell_type": "markdown",
      "metadata": {
        "id": "5798d0d1"
      },
      "source": [
        "### 2.11_control_2"
      ],
      "id": "5798d0d1"
    },
    {
      "cell_type": "code",
      "metadata": {
        "id": "6e534b2b",
        "outputId": "2d33b063-58e4-42c1-8d5a-80f2495355b9"
      },
      "source": [
        "num_list = [1,2,3]\n",
        "\n",
        "for num in num_list:\n",
        "    print(num)"
      ],
      "id": "6e534b2b",
      "execution_count": null,
      "outputs": [
        {
          "name": "stdout",
          "output_type": "stream",
          "text": [
            "1\n",
            "2\n",
            "3\n"
          ]
        }
      ]
    },
    {
      "cell_type": "code",
      "metadata": {
        "id": "b8f54303",
        "outputId": "ea29cf27-8728-4232-b409-a6dcb2bcc0ff"
      },
      "source": [
        "team_list = [\"신동욱\",\"박상석\",\"최선욱\"]\n",
        "address = ['서울', \"대전\", \"인천\"]\n",
        "\n",
        "for one in team_list:\n",
        "    for add in address:\n",
        "        # print(one + \"님\")\n",
        "        print(one, \"님\") # 택배 송장\n",
        "        print(add)"
      ],
      "id": "b8f54303",
      "execution_count": null,
      "outputs": [
        {
          "ename": "ValueError",
          "evalue": "too many values to unpack (expected 2)",
          "output_type": "error",
          "traceback": [
            "\u001b[1;31m---------------------------------------------------------------------------\u001b[0m",
            "\u001b[1;31mValueError\u001b[0m                                Traceback (most recent call last)",
            "\u001b[1;32m<ipython-input-144-96d1e53c9c8c>\u001b[0m in \u001b[0;36m<module>\u001b[1;34m\u001b[0m\n\u001b[0;32m      2\u001b[0m \u001b[0maddress\u001b[0m \u001b[1;33m=\u001b[0m \u001b[1;33m[\u001b[0m\u001b[1;34m'서울'\u001b[0m\u001b[1;33m,\u001b[0m \u001b[1;34m\"대전\"\u001b[0m\u001b[1;33m,\u001b[0m \u001b[1;34m\"인천\"\u001b[0m\u001b[1;33m]\u001b[0m\u001b[1;33m\u001b[0m\u001b[1;33m\u001b[0m\u001b[0m\n\u001b[0;32m      3\u001b[0m \u001b[1;33m\u001b[0m\u001b[0m\n\u001b[1;32m----> 4\u001b[1;33m \u001b[1;32mfor\u001b[0m \u001b[0mone\u001b[0m\u001b[1;33m,\u001b[0m \u001b[0madd\u001b[0m \u001b[1;32min\u001b[0m \u001b[0mteam_list\u001b[0m\u001b[1;33m,\u001b[0m \u001b[0maddress\u001b[0m\u001b[1;33m:\u001b[0m\u001b[1;33m\u001b[0m\u001b[1;33m\u001b[0m\u001b[0m\n\u001b[0m\u001b[0;32m      5\u001b[0m     \u001b[0mprint\u001b[0m\u001b[1;33m(\u001b[0m\u001b[0mone\u001b[0m\u001b[1;33m,\u001b[0m \u001b[1;34m\"님\"\u001b[0m\u001b[1;33m,\u001b[0m \u001b[0madd\u001b[0m \u001b[1;33m+\u001b[0m \u001b[1;34m\"삽니다.\"\u001b[0m\u001b[1;33m)\u001b[0m\u001b[1;33m\u001b[0m\u001b[1;33m\u001b[0m\u001b[0m\n",
            "\u001b[1;31mValueError\u001b[0m: too many values to unpack (expected 2)"
          ]
        }
      ]
    },
    {
      "cell_type": "code",
      "metadata": {
        "id": "f5c697fa",
        "outputId": "d3f09213-cbfc-45f4-e2f7-ec3170bf6d50"
      },
      "source": [
        "for num in [1,2,3]:\n",
        "    print(\"기존:\", num)\n",
        "    print(\"2 배:\", num*2, \"\\n\")"
      ],
      "id": "f5c697fa",
      "execution_count": null,
      "outputs": [
        {
          "name": "stdout",
          "output_type": "stream",
          "text": [
            "기존: 1\n",
            "2 배: 2 \n",
            "\n",
            "기존: 2\n",
            "2 배: 4 \n",
            "\n",
            "기존: 3\n",
            "2 배: 6 \n",
            "\n"
          ]
        }
      ]
    },
    {
      "cell_type": "code",
      "metadata": {
        "id": "24fdfe32",
        "outputId": "c65c3669-59f5-409e-c7a3-d2062b3765ad"
      },
      "source": [
        "double = [] # 리스트(값 여러개 저장) 초기화\n",
        "\n",
        "for num in [1,2,3]: # 반복\n",
        "    double.append(num * 2) # 저장할공간.append(기존, 수식)\n",
        "    \n",
        "print(double)"
      ],
      "id": "24fdfe32",
      "execution_count": null,
      "outputs": [
        {
          "name": "stdout",
          "output_type": "stream",
          "text": [
            "[2, 4, 6]\n"
          ]
        }
      ]
    },
    {
      "cell_type": "code",
      "metadata": {
        "id": "7f854b26",
        "outputId": "28477609-8bee-48fc-aed0-fd51a9fe8082"
      },
      "source": [
        "num = 1\n",
        "\n",
        "while num < 4:\n",
        "    print(num)\n",
        "    break\n",
        "    num = num + 1"
      ],
      "id": "7f854b26",
      "execution_count": null,
      "outputs": [
        {
          "name": "stdout",
          "output_type": "stream",
          "text": [
            "1\n"
          ]
        }
      ]
    },
    {
      "cell_type": "code",
      "metadata": {
        "id": "f32f9bfa",
        "outputId": "3d84e224-fd46-4973-8d7c-43bc57b59dfe"
      },
      "source": [
        "num = 1\n",
        "\n",
        "double = []\n",
        "\n",
        "while True:\n",
        "    double.append(num * 2)\n",
        "    if len(double) == 3:\n",
        "        break\n",
        "    num = num + 1\n",
        "\n",
        "print(double)"
      ],
      "id": "f32f9bfa",
      "execution_count": null,
      "outputs": [
        {
          "name": "stdout",
          "output_type": "stream",
          "text": [
            "[2, 4, 6]\n"
          ]
        }
      ]
    },
    {
      "cell_type": "code",
      "metadata": {
        "id": "4de3b91d",
        "outputId": "294d114d-a6d6-4c88-f5ed-562718d26389"
      },
      "source": [
        "num_range = range(1, 46)\n",
        "\n",
        "num_list = list(num_range)\n",
        "\n",
        "print(num_list)"
      ],
      "id": "4de3b91d",
      "execution_count": null,
      "outputs": [
        {
          "name": "stdout",
          "output_type": "stream",
          "text": [
            "[1, 2, 3, 4, 5, 6, 7, 8, 9, 10, 11, 12, 13, 14, 15, 16, 17, 18, 19, 20, 21, 22, 23, 24, 25, 26, 27, 28, 29, 30, 31, 32, 33, 34, 35, 36, 37, 38, 39, 40, 41, 42, 43, 44, 45]\n"
          ]
        }
      ]
    },
    {
      "cell_type": "code",
      "metadata": {
        "id": "84056a0b",
        "outputId": "d43e30ca-3a38-4e51-aa9f-c133a7f3e2e8"
      },
      "source": [
        "import random\n",
        "\n",
        "random.shuffle(num_list)\n",
        "\n",
        "print(num_list)"
      ],
      "id": "84056a0b",
      "execution_count": null,
      "outputs": [
        {
          "name": "stdout",
          "output_type": "stream",
          "text": [
            "[33, 29, 2, 24, 45, 7, 18, 34, 8, 22, 36, 25, 44, 3, 14, 4, 40, 28, 10, 41, 23, 31, 19, 6, 39, 38, 15, 27, 5, 11, 26, 12, 42, 16, 43, 17, 37, 1, 20, 32, 21, 30, 9, 13, 35]\n"
          ]
        }
      ]
    },
    {
      "cell_type": "code",
      "metadata": {
        "id": "cf1696f0",
        "outputId": "1f13213e-bde9-47a2-9284-90e1bf1a66d3"
      },
      "source": [
        "lotto = [] # 6개 숫자를 저장하는 공간\n",
        "\n",
        "while len(lotto) < 6:\n",
        "    random.shuffle(num_list)\n",
        "    num_selected = num_list[0]\n",
        "    \n",
        "    if num_selected in lotto: # 비복원, lotto(로또 번호 저장공간)\n",
        "        continue\n",
        "    lotto.append(num_selected) # lotto 공간에 저장\n",
        "    print(num_selected) # 선택된 번호 출력\n",
        "    \n",
        "print(lotto) # 전체 모아진 숫자 출력"
      ],
      "id": "cf1696f0",
      "execution_count": null,
      "outputs": [
        {
          "name": "stdout",
          "output_type": "stream",
          "text": [
            "10\n",
            "40\n",
            "26\n",
            "19\n",
            "17\n",
            "14\n",
            "[10, 40, 26, 19, 17, 14]\n"
          ]
        }
      ]
    },
    {
      "cell_type": "code",
      "metadata": {
        "id": "a7ee08d2",
        "outputId": "872080db-d034-4d82-9744-b32252b6745b"
      },
      "source": [
        "# 주사위 (복원)\n",
        "dice_range = range(1, 7) # 1~6\n",
        "\n",
        "dice_list = list(dice_range)\n",
        "\n",
        "print(dice_list)"
      ],
      "id": "a7ee08d2",
      "execution_count": null,
      "outputs": [
        {
          "name": "stdout",
          "output_type": "stream",
          "text": [
            "[1, 2, 3, 4, 5, 6]\n"
          ]
        }
      ]
    },
    {
      "cell_type": "code",
      "metadata": {
        "id": "faa4dde1",
        "outputId": "ea0417d6-6a38-40a9-973b-0251c6cdaf82"
      },
      "source": [
        "dice_total = [] # 5개 숫자를 저장하는 공간\n",
        "\n",
        "while len(dice_total) < 5: # 5번 주사위를 던짐\n",
        "    random.shuffle(dice_list)\n",
        "    num_selected = dice_list[0]\n",
        "\n",
        "    dice_total.append(num_selected) # 주사위 출력 저장\n",
        "    print(num_selected) # 선택된 번호 출력\n",
        "    \n",
        "print(dice_total) # 전체 모아진 숫자 출력"
      ],
      "id": "faa4dde1",
      "execution_count": null,
      "outputs": [
        {
          "name": "stdout",
          "output_type": "stream",
          "text": [
            "5\n",
            "2\n",
            "4\n",
            "5\n",
            "5\n",
            "[5, 2, 4, 5, 5]\n"
          ]
        }
      ]
    },
    {
      "cell_type": "markdown",
      "metadata": {
        "id": "79b7937b"
      },
      "source": [
        "### 2.13_control_4"
      ],
      "id": "79b7937b"
    },
    {
      "cell_type": "code",
      "metadata": {
        "id": "6a1e0d3a",
        "outputId": "93bec00a-622f-4677-f64f-aeb86aed1874"
      },
      "source": [
        "data = {'name' : 'Jay', 'age':20, 'grade':[3.0, 4.0, 3.5, 4.2]}\n",
        "data"
      ],
      "id": "6a1e0d3a",
      "execution_count": null,
      "outputs": [
        {
          "data": {
            "text/plain": [
              "{'name': 'Jay', 'age': 20, 'grade': [3.0, 4.0, 3.5, 4.2]}"
            ]
          },
          "execution_count": 12,
          "metadata": {},
          "output_type": "execute_result"
        }
      ]
    },
    {
      "cell_type": "code",
      "metadata": {
        "id": "b61a5750",
        "outputId": "360ff3c6-7cf8-4609-dba4-e7abfc28d62e"
      },
      "source": [
        "data['address']"
      ],
      "id": "b61a5750",
      "execution_count": null,
      "outputs": [
        {
          "ename": "KeyError",
          "evalue": "'address'",
          "output_type": "error",
          "traceback": [
            "\u001b[1;31m---------------------------------------------------------------------------\u001b[0m",
            "\u001b[1;31mKeyError\u001b[0m                                  Traceback (most recent call last)",
            "\u001b[1;32m<ipython-input-15-2f613a4f5ebc>\u001b[0m in \u001b[0;36m<module>\u001b[1;34m\u001b[0m\n\u001b[1;32m----> 1\u001b[1;33m \u001b[0mdata\u001b[0m\u001b[1;33m[\u001b[0m\u001b[1;34m'address'\u001b[0m\u001b[1;33m]\u001b[0m\u001b[1;33m\u001b[0m\u001b[1;33m\u001b[0m\u001b[0m\n\u001b[0m",
            "\u001b[1;31mKeyError\u001b[0m: 'address'"
          ]
        }
      ]
    },
    {
      "cell_type": "code",
      "metadata": {
        "id": "b810f7f1",
        "outputId": "3c86470f-10bf-4fbd-9c82-10a9766874d6"
      },
      "source": [
        "data = {'name' : 'Jay', 'age':20, 'grade':[3.0, 4.0, 3.5, 4.2]}\n",
        "\n",
        "try :\n",
        "    print(\"주소 :\", data['address'])\n",
        "except:\n",
        "    # print(\"주소 정보가 없습니다.\")\n",
        "    print(\"고객센터 1588-0001 로 전화하세요\")"
      ],
      "id": "b810f7f1",
      "execution_count": null,
      "outputs": [
        {
          "name": "stdout",
          "output_type": "stream",
          "text": [
            "고객센터 1588-0001 로 전화하세요\n"
          ]
        }
      ]
    },
    {
      "cell_type": "code",
      "metadata": {
        "id": "56eaf8e9",
        "outputId": "d9140e4f-a6ba-4864-8715-59d0881ea130"
      },
      "source": [
        "data = {'name' : 'Jay', 'age':20, 'grade':[3.0, 4.0, 3.5, 4.2]}\n",
        "\n",
        "try :\n",
        "    print(\"주소 :\", data['address'])\n",
        "except:\n",
        "    # print(\"주소 정보가 없습니다.\")\n",
        "    print(\"고객센터 1588-0001 로 전화하세요\")\n",
        "finally:\n",
        "    print(\"감사합니다.\")"
      ],
      "id": "56eaf8e9",
      "execution_count": null,
      "outputs": [
        {
          "name": "stdout",
          "output_type": "stream",
          "text": [
            "고객센터 1588-0001 로 전화하세요\n",
            "감사합니다.\n"
          ]
        }
      ]
    },
    {
      "cell_type": "markdown",
      "metadata": {
        "id": "8186056e"
      },
      "source": [
        ""
      ],
      "id": "8186056e"
    },
    {
      "cell_type": "code",
      "metadata": {
        "scrolled": false,
        "id": "540c0c29",
        "outputId": "cc5406bd-697c-4ef5-85b0-6b3a8dc31d02"
      },
      "source": [
        ""
      ],
      "id": "540c0c29",
      "execution_count": null,
      "outputs": [
        {
          "name": "stdout",
          "output_type": "stream",
          "text": [
            "당신의 주민등록번호를 입력하세요 : 8001011234567\n",
            "8001011234567\n"
          ]
        }
      ]
    },
    {
      "cell_type": "code",
      "metadata": {
        "id": "f10334c5",
        "outputId": "6451ce6c-cd00-4b34-cece-04012f2e654a"
      },
      "source": [
        ""
      ],
      "id": "f10334c5",
      "execution_count": null,
      "outputs": [
        {
          "name": "stdout",
          "output_type": "stream",
          "text": [
            "2\n"
          ]
        }
      ]
    },
    {
      "cell_type": "code",
      "metadata": {
        "id": "e4dca70b",
        "outputId": "968e9136-4294-497a-d6d8-3a1c6c3305be"
      },
      "source": [
        ""
      ],
      "id": "e4dca70b",
      "execution_count": null,
      "outputs": [
        {
          "ename": "TypeError",
          "evalue": "not all arguments converted during string formatting",
          "output_type": "error",
          "traceback": [
            "\u001b[1;31m---------------------------------------------------------------------------\u001b[0m",
            "\u001b[1;31mTypeError\u001b[0m                                 Traceback (most recent call last)",
            "\u001b[1;32m<ipython-input-31-73176b17573c>\u001b[0m in \u001b[0;36m<module>\u001b[1;34m\u001b[0m\n\u001b[0;32m      6\u001b[0m         \u001b[0mprint\u001b[0m\u001b[1;33m(\u001b[0m\u001b[1;34m\"남자\"\u001b[0m\u001b[1;33m)\u001b[0m\u001b[1;33m\u001b[0m\u001b[1;33m\u001b[0m\u001b[0m\n\u001b[0;32m      7\u001b[0m \u001b[1;32melse\u001b[0m\u001b[1;33m:\u001b[0m\u001b[1;33m\u001b[0m\u001b[1;33m\u001b[0m\u001b[0m\n\u001b[1;32m----> 8\u001b[1;33m     \u001b[1;32mif\u001b[0m \u001b[0mjumin_num\u001b[0m\u001b[1;33m[\u001b[0m\u001b[1;36m6\u001b[0m\u001b[1;33m]\u001b[0m \u001b[1;33m%\u001b[0m \u001b[1;36m2\u001b[0m \u001b[1;33m==\u001b[0m \u001b[1;36m0\u001b[0m\u001b[1;33m:\u001b[0m\u001b[1;33m\u001b[0m\u001b[1;33m\u001b[0m\u001b[0m\n\u001b[0m\u001b[0;32m      9\u001b[0m         \u001b[0mprint\u001b[0m\u001b[1;33m(\u001b[0m\u001b[1;34m\"여자\"\u001b[0m\u001b[1;33m)\u001b[0m\u001b[1;33m\u001b[0m\u001b[1;33m\u001b[0m\u001b[0m\n\u001b[0;32m     10\u001b[0m     \u001b[1;32melse\u001b[0m\u001b[1;33m:\u001b[0m\u001b[1;33m\u001b[0m\u001b[1;33m\u001b[0m\u001b[0m\n",
            "\u001b[1;31mTypeError\u001b[0m: not all arguments converted during string formatting"
          ]
        }
      ]
    },
    {
      "cell_type": "code",
      "metadata": {
        "id": "11134bfb",
        "outputId": "1cfc7072-9b3c-41fb-cf76-109b263efc1c"
      },
      "source": [
        ""
      ],
      "id": "11134bfb",
      "execution_count": null,
      "outputs": [
        {
          "name": "stdout",
          "output_type": "stream",
          "text": [
            "남자\n"
          ]
        }
      ]
    },
    {
      "cell_type": "code",
      "metadata": {
        "id": "474decd4"
      },
      "source": [
        ""
      ],
      "id": "474decd4",
      "execution_count": null,
      "outputs": []
    },
    {
      "cell_type": "markdown",
      "metadata": {
        "id": "d34967ab"
      },
      "source": [
        "### 2_14_function_1"
      ],
      "id": "d34967ab"
    },
    {
      "cell_type": "code",
      "metadata": {
        "id": "397115b1"
      },
      "source": [
        "def cal_modulo(a, b): # 함수 선언, 매개변수 a = 5, b = 3\n",
        "    temp = a % b # 5 % 3, 나머지 : 2\n",
        "    return temp # 2, return, 함수 호출한 곳으로 값을 가져감"
      ],
      "id": "397115b1",
      "execution_count": null,
      "outputs": []
    },
    {
      "cell_type": "code",
      "metadata": {
        "scrolled": true,
        "id": "f6a63958",
        "outputId": "5b1205a8-0cd7-4bbe-8927-4a464180b422"
      },
      "source": [
        "cal_modulo(5, 3) # 함수 호출"
      ],
      "id": "f6a63958",
      "execution_count": null,
      "outputs": [
        {
          "data": {
            "text/plain": [
              "2"
            ]
          },
          "execution_count": 23,
          "metadata": {},
          "output_type": "execute_result"
        }
      ]
    },
    {
      "cell_type": "code",
      "metadata": {
        "id": "ad54b886",
        "outputId": "3c858cbd-71e5-43bc-e53d-b27c293f846c"
      },
      "source": [
        "modulo = cal_modulo(10, 3)\n",
        "print(modulo)"
      ],
      "id": "ad54b886",
      "execution_count": null,
      "outputs": [
        {
          "name": "stdout",
          "output_type": "stream",
          "text": [
            "1\n"
          ]
        }
      ]
    },
    {
      "cell_type": "code",
      "metadata": {
        "id": "fcad4d3f",
        "outputId": "25da1b81-8fd1-4528-df6f-a43cb476623a"
      },
      "source": [
        "num_pairs = [(5,3),(2,2),(10,3)]\n",
        "\n",
        "for a, b in num_pairs:\n",
        "    modulo = cal_modulo(a, b)\n",
        "    print(modulo)"
      ],
      "id": "fcad4d3f",
      "execution_count": null,
      "outputs": [
        {
          "name": "stdout",
          "output_type": "stream",
          "text": [
            "2\n",
            "0\n",
            "1\n"
          ]
        }
      ]
    },
    {
      "cell_type": "code",
      "metadata": {
        "id": "dcbe6809",
        "outputId": "7d491d94-71f3-4c58-cdcb-396d108e7234"
      },
      "source": [
        "num_pairs = [(5,3),(2,2),(10,3)]\n",
        "\n",
        "def cal_pairs_modulo(num_pair_list):\n",
        "    result = {}\n",
        "    \n",
        "    for a,b in num_pairs:\n",
        "        modulo = a % b\n",
        "        result[(a,b)] = modulo\n",
        "    return result\n",
        "\n",
        "mod_pairs = cal_pairs_modulo(num_pairs)\n",
        "mod_pairs"
      ],
      "id": "dcbe6809",
      "execution_count": null,
      "outputs": [
        {
          "data": {
            "text/plain": [
              "{(5, 3): 2, (2, 2): 0, (10, 3): 1}"
            ]
          },
          "execution_count": 35,
          "metadata": {},
          "output_type": "execute_result"
        }
      ]
    },
    {
      "cell_type": "code",
      "metadata": {
        "id": "b22e70ae",
        "outputId": "624c39a9-0b64-470e-928d-1579069207aa"
      },
      "source": [
        "def print_mod_pairs():\n",
        "    print(cal_pairs_modulo(num_pairs))\n",
        "    \n",
        "print_mod_pairs()"
      ],
      "id": "b22e70ae",
      "execution_count": null,
      "outputs": [
        {
          "name": "stdout",
          "output_type": "stream",
          "text": [
            "{(5, 3): 2, (2, 2): 0, (10, 3): 1}\n"
          ]
        }
      ]
    },
    {
      "cell_type": "code",
      "metadata": {
        "id": "0fd0f825",
        "outputId": "0ab39970-4725-49a3-f5cd-747843ee5f86"
      },
      "source": [
        "result"
      ],
      "id": "0fd0f825",
      "execution_count": null,
      "outputs": [
        {
          "ename": "NameError",
          "evalue": "name 'result' is not defined",
          "output_type": "error",
          "traceback": [
            "\u001b[1;31m---------------------------------------------------------------------------\u001b[0m",
            "\u001b[1;31mNameError\u001b[0m                                 Traceback (most recent call last)",
            "\u001b[1;32m<ipython-input-37-0ac921c19f1a>\u001b[0m in \u001b[0;36m<module>\u001b[1;34m\u001b[0m\n\u001b[1;32m----> 1\u001b[1;33m \u001b[0mresult\u001b[0m\u001b[1;33m\u001b[0m\u001b[1;33m\u001b[0m\u001b[0m\n\u001b[0m",
            "\u001b[1;31mNameError\u001b[0m: name 'result' is not defined"
          ]
        }
      ]
    },
    {
      "cell_type": "markdown",
      "metadata": {
        "id": "04c483d1"
      },
      "source": [
        "### 2.15_function_2"
      ],
      "id": "04c483d1"
    },
    {
      "cell_type": "code",
      "metadata": {
        "id": "36bc1fd6",
        "outputId": "5e601fa8-82d0-440a-ef53-a4482473ab9b"
      },
      "source": [
        "def add_one(num):\n",
        "    return num + 1\n",
        "\n",
        "answer = add_one(1)\n",
        "print(answer)"
      ],
      "id": "36bc1fd6",
      "execution_count": null,
      "outputs": [
        {
          "name": "stdout",
          "output_type": "stream",
          "text": [
            "2\n"
          ]
        }
      ]
    },
    {
      "cell_type": "code",
      "metadata": {
        "id": "d59f3b74",
        "outputId": "5f746344-2827-4dd5-a35a-fd770c4dcef6"
      },
      "source": [
        "add_one_list = []\n",
        "\n",
        "for x in [1,2,3]:\n",
        "    y = add_one(x)\n",
        "    add_one_list.append(y)\n",
        "    \n",
        "print(add_one_list)"
      ],
      "id": "d59f3b74",
      "execution_count": null,
      "outputs": [
        {
          "name": "stdout",
          "output_type": "stream",
          "text": [
            "[2, 3, 4]\n"
          ]
        }
      ]
    },
    {
      "cell_type": "code",
      "metadata": {
        "id": "094c8e85",
        "outputId": "f71eef2a-a292-497f-a3ca-68b44f68856c"
      },
      "source": [
        "add_one_lambda = []\n",
        "\n",
        "add_func = lambda x: add_one_lambda.append(x+1)\n",
        "\n",
        "for x in [1,2,3]:\n",
        "    add_func(x)\n",
        "    \n",
        "print(add_one_lambda)"
      ],
      "id": "094c8e85",
      "execution_count": null,
      "outputs": [
        {
          "name": "stdout",
          "output_type": "stream",
          "text": [
            "[2, 3, 4]\n"
          ]
        }
      ]
    },
    {
      "cell_type": "code",
      "metadata": {
        "id": "f6ea402f",
        "outputId": "527a0877-bff9-478c-8718-569f058d5050"
      },
      "source": [
        "new_add_func = lambda x, y:x+y\n",
        "answer = new_add_func(2,3)\n",
        "print(answer)"
      ],
      "id": "f6ea402f",
      "execution_count": null,
      "outputs": [
        {
          "name": "stdout",
          "output_type": "stream",
          "text": [
            "5\n"
          ]
        }
      ]
    },
    {
      "cell_type": "markdown",
      "metadata": {
        "id": "c56b9fcc"
      },
      "source": [
        "### 2.16_function_3"
      ],
      "id": "c56b9fcc"
    },
    {
      "cell_type": "code",
      "metadata": {
        "id": "9695d7ea",
        "outputId": "993a9488-0e3c-4ad1-8689-6f718f8532b4"
      },
      "source": [
        "numbers = [1,2,3,4,5,6,7,8,9,10]\n",
        "sum(numbers)"
      ],
      "id": "9695d7ea",
      "execution_count": null,
      "outputs": [
        {
          "data": {
            "text/plain": [
              "55"
            ]
          },
          "execution_count": 44,
          "metadata": {},
          "output_type": "execute_result"
        }
      ]
    },
    {
      "cell_type": "code",
      "metadata": {
        "id": "4529db0f",
        "outputId": "568e63ef-f1e7-4b36-ea48-2f7a78d94965"
      },
      "source": [
        "max(numbers)"
      ],
      "id": "4529db0f",
      "execution_count": null,
      "outputs": [
        {
          "data": {
            "text/plain": [
              "10"
            ]
          },
          "execution_count": 45,
          "metadata": {},
          "output_type": "execute_result"
        }
      ]
    },
    {
      "cell_type": "code",
      "metadata": {
        "id": "68375484",
        "outputId": "63fcd4f8-59bc-48c4-d64c-233eaaff4bda"
      },
      "source": [
        "min(numbers)"
      ],
      "id": "68375484",
      "execution_count": null,
      "outputs": [
        {
          "data": {
            "text/plain": [
              "1"
            ]
          },
          "execution_count": 46,
          "metadata": {},
          "output_type": "execute_result"
        }
      ]
    },
    {
      "cell_type": "code",
      "metadata": {
        "id": "59206ef3",
        "outputId": "5e029538-1969-496f-e26e-815def200ae7"
      },
      "source": [
        "len(numbers)"
      ],
      "id": "59206ef3",
      "execution_count": null,
      "outputs": [
        {
          "data": {
            "text/plain": [
              "10"
            ]
          },
          "execution_count": 47,
          "metadata": {},
          "output_type": "execute_result"
        }
      ]
    },
    {
      "cell_type": "code",
      "metadata": {
        "id": "8033fd9f",
        "outputId": "cde7413b-5ceb-466c-9192-26d5832c8578"
      },
      "source": [
        "# for in range(len()) # 초급코드\n",
        "\n",
        "numbers = [1,2,3,4,5,6,7,8,9,10]\n",
        "\n",
        "for i, num in enumerate(numbers): # index을 항상 가지고 있음\n",
        "    print(i, num)"
      ],
      "id": "8033fd9f",
      "execution_count": null,
      "outputs": [
        {
          "name": "stdout",
          "output_type": "stream",
          "text": [
            "0 1\n",
            "1 2\n",
            "2 3\n",
            "3 4\n",
            "4 5\n",
            "5 6\n",
            "6 7\n",
            "7 8\n",
            "8 9\n",
            "9 10\n"
          ]
        }
      ]
    },
    {
      "cell_type": "code",
      "metadata": {
        "id": "1f6335f5",
        "outputId": "0a8fa82c-3973-4a6a-a410-2a8849fd7148"
      },
      "source": [
        "range(10)"
      ],
      "id": "1f6335f5",
      "execution_count": null,
      "outputs": [
        {
          "data": {
            "text/plain": [
              "range(0, 10)"
            ]
          },
          "execution_count": 50,
          "metadata": {},
          "output_type": "execute_result"
        }
      ]
    },
    {
      "cell_type": "code",
      "metadata": {
        "id": "ccd096ae",
        "outputId": "239eb1b2-be87-4272-8870-8fc0d624cba7"
      },
      "source": [
        "list(range(1,10))"
      ],
      "id": "ccd096ae",
      "execution_count": null,
      "outputs": [
        {
          "data": {
            "text/plain": [
              "[1, 2, 3, 4, 5, 6, 7, 8, 9]"
            ]
          },
          "execution_count": 51,
          "metadata": {},
          "output_type": "execute_result"
        }
      ]
    },
    {
      "cell_type": "code",
      "metadata": {
        "id": "d2fe6b98",
        "outputId": "0c00edfe-a449-474c-c5ba-cf0cf0bb7405"
      },
      "source": [
        "print(list(range(1,10)))"
      ],
      "id": "d2fe6b98",
      "execution_count": null,
      "outputs": [
        {
          "name": "stdout",
          "output_type": "stream",
          "text": [
            "[1, 2, 3, 4, 5, 6, 7, 8, 9]\n"
          ]
        }
      ]
    },
    {
      "cell_type": "code",
      "metadata": {
        "id": "308d8297",
        "outputId": "14d69f76-8aa6-4b50-da65-bc772885b23a"
      },
      "source": [
        "print(numbers)"
      ],
      "id": "308d8297",
      "execution_count": null,
      "outputs": [
        {
          "name": "stdout",
          "output_type": "stream",
          "text": [
            "[1, 2, 3, 4, 5, 6, 7, 8, 9, 10]\n"
          ]
        }
      ]
    },
    {
      "cell_type": "code",
      "metadata": {
        "id": "5a7da875",
        "outputId": "35825627-876f-437d-a28f-494a91f25725"
      },
      "source": [
        "print('print(numbers)')"
      ],
      "id": "5a7da875",
      "execution_count": null,
      "outputs": [
        {
          "name": "stdout",
          "output_type": "stream",
          "text": [
            "print(numbers)\n"
          ]
        }
      ]
    },
    {
      "cell_type": "code",
      "metadata": {
        "id": "2f324017",
        "outputId": "d5a36b35-2a65-47a5-b716-cb7c71121189"
      },
      "source": [
        "eval('print(numbers)')"
      ],
      "id": "2f324017",
      "execution_count": null,
      "outputs": [
        {
          "name": "stdout",
          "output_type": "stream",
          "text": [
            "[1, 2, 3, 4, 5, 6, 7, 8, 9, 10]\n"
          ]
        }
      ]
    },
    {
      "cell_type": "code",
      "metadata": {
        "id": "c44ef82e",
        "outputId": "0aaee740-4152-48e0-fd6c-8710d0a4576a"
      },
      "source": [
        "add_one = lambda x:x+1\n",
        "results = map(add_one, numbers)\n",
        "\n",
        "print(list(results))"
      ],
      "id": "c44ef82e",
      "execution_count": null,
      "outputs": [
        {
          "name": "stdout",
          "output_type": "stream",
          "text": [
            "[2, 3, 4, 5, 6, 7, 8, 9, 10, 11]\n"
          ]
        }
      ]
    },
    {
      "cell_type": "code",
      "metadata": {
        "id": "b7109b1d",
        "outputId": "935eb8a4-57bf-48fa-b116-90609875e1dc"
      },
      "source": [
        "a, b = input('숫자 두 개를 입력하세요: ').split()\n",
        "print(a)\n",
        "print(b)\n",
        "\n",
        "print(type(b))\n",
        "\n",
        "print(a + b)\n",
        "\n",
        "print(int(a) + int(b))"
      ],
      "id": "b7109b1d",
      "execution_count": null,
      "outputs": [
        {
          "name": "stdout",
          "output_type": "stream",
          "text": [
            "숫자 두 개를 입력하세요: 1 2\n",
            "1\n",
            "2\n",
            "<class 'str'>\n",
            "12\n",
            "3\n"
          ]
        }
      ]
    },
    {
      "cell_type": "code",
      "metadata": {
        "id": "7697b416",
        "outputId": "6b3ee06a-49d2-48a4-94be-0f1a501273f3"
      },
      "source": [
        "# https://dojang.io/mod/page/view.php?id=2179\n",
        "\n",
        "a, b = map(int, input('숫자 두 개를 입력하세요: ').split())\n",
        "\n",
        "print(a + b)"
      ],
      "id": "7697b416",
      "execution_count": null,
      "outputs": [
        {
          "name": "stdout",
          "output_type": "stream",
          "text": [
            "숫자 두 개를 입력하세요: 1 2\n",
            "3\n"
          ]
        }
      ]
    },
    {
      "cell_type": "code",
      "metadata": {
        "id": "4212d8bf",
        "outputId": "88a4b722-ad84-4ba7-9869-92caeecdad77"
      },
      "source": [
        "even_num = lambda x:x%2==0\n",
        "\n",
        "results = filter(even_num, numbers)\n",
        "\n",
        "print(list(results))"
      ],
      "id": "4212d8bf",
      "execution_count": null,
      "outputs": [
        {
          "name": "stdout",
          "output_type": "stream",
          "text": [
            "[2, 4, 6, 8, 10]\n"
          ]
        }
      ]
    },
    {
      "cell_type": "code",
      "metadata": {
        "id": "eb0d4f7b",
        "outputId": "93716052-cef9-4cd0-ac29-c6bed4496738"
      },
      "source": [
        "int(3.14)"
      ],
      "id": "eb0d4f7b",
      "execution_count": null,
      "outputs": [
        {
          "data": {
            "text/plain": [
              "3"
            ]
          },
          "execution_count": 63,
          "metadata": {},
          "output_type": "execute_result"
        }
      ]
    },
    {
      "cell_type": "code",
      "metadata": {
        "id": "1201f895",
        "outputId": "aef531ec-694b-46a8-8d65-dd04e38d09dd"
      },
      "source": [
        "str(3.14)"
      ],
      "id": "1201f895",
      "execution_count": null,
      "outputs": [
        {
          "data": {
            "text/plain": [
              "'3.14'"
            ]
          },
          "execution_count": 64,
          "metadata": {},
          "output_type": "execute_result"
        }
      ]
    },
    {
      "cell_type": "code",
      "metadata": {
        "id": "349a1da9",
        "outputId": "1f120981-24b4-46eb-a03b-f4e3261a5f23"
      },
      "source": [
        "round(3.54)"
      ],
      "id": "349a1da9",
      "execution_count": null,
      "outputs": [
        {
          "data": {
            "text/plain": [
              "4"
            ]
          },
          "execution_count": 66,
          "metadata": {},
          "output_type": "execute_result"
        }
      ]
    },
    {
      "cell_type": "code",
      "metadata": {
        "id": "48e91f34",
        "outputId": "e085e328-7146-4fa2-fd1a-7f96c6f0fe21"
      },
      "source": [
        "print(numbers)\n",
        "\n",
        "numbers_reversed = reversed(numbers)\n",
        "print(list(numbers_reversed))"
      ],
      "id": "48e91f34",
      "execution_count": null,
      "outputs": [
        {
          "name": "stdout",
          "output_type": "stream",
          "text": [
            "[1, 2, 3, 4, 5, 6, 7, 8, 9, 10]\n",
            "[10, 9, 8, 7, 6, 5, 4, 3, 2, 1]\n"
          ]
        }
      ]
    },
    {
      "cell_type": "code",
      "metadata": {
        "id": "5e27878a",
        "outputId": "81bd6fd9-05bd-4b1a-f78d-35f573a44420"
      },
      "source": [
        "sorted([3,2,1])"
      ],
      "id": "5e27878a",
      "execution_count": null,
      "outputs": [
        {
          "data": {
            "text/plain": [
              "[1, 2, 3]"
            ]
          },
          "execution_count": 68,
          "metadata": {},
          "output_type": "execute_result"
        }
      ]
    },
    {
      "cell_type": "code",
      "metadata": {
        "id": "554243bb",
        "outputId": "4da7fa9d-e221-4645-c6bc-64508593776c"
      },
      "source": [
        "sorted([2,3,1])"
      ],
      "id": "554243bb",
      "execution_count": null,
      "outputs": [
        {
          "data": {
            "text/plain": [
              "[1, 2, 3]"
            ]
          },
          "execution_count": 69,
          "metadata": {},
          "output_type": "execute_result"
        }
      ]
    },
    {
      "cell_type": "code",
      "metadata": {
        "id": "96a17931",
        "outputId": "48de8f41-bfdb-43e9-b519-46a6b3b31617"
      },
      "source": [
        "# https://vision-ai.tistory.com/entry/%ED%8C%8C%EC%9D%B4%EC%8D%AC-%EB%A6%AC%EC%8A%A4%ED%8A%B8-%ED%95%AD%EB%AA%A9-%EC%A0%95%EB%A0%AC%ED%95%98%EA%B8%B0-sorted-sort-reverse\n",
        "\n",
        "sorted([2,3,1], reverse=True)"
      ],
      "id": "96a17931",
      "execution_count": null,
      "outputs": [
        {
          "data": {
            "text/plain": [
              "[3, 2, 1]"
            ]
          },
          "execution_count": 70,
          "metadata": {},
          "output_type": "execute_result"
        }
      ]
    },
    {
      "cell_type": "code",
      "metadata": {
        "id": "49fa56ce",
        "outputId": "58731c14-ca7d-4fef-b929-3539a76c3b7e"
      },
      "source": [
        "chars = ['a','b','c']\n",
        "nums = [1,2,3]\n",
        "pairs = zip(chars, nums)\n",
        "\n",
        "print(list(pairs))"
      ],
      "id": "49fa56ce",
      "execution_count": null,
      "outputs": [
        {
          "name": "stdout",
          "output_type": "stream",
          "text": [
            "[('a', 1), ('b', 2), ('c', 3)]\n"
          ]
        }
      ]
    },
    {
      "cell_type": "markdown",
      "metadata": {
        "id": "9fd65af2"
      },
      "source": [
        "### 2.17_class_1"
      ],
      "id": "9fd65af2"
    },
    {
      "cell_type": "code",
      "metadata": {
        "id": "3bfff372",
        "outputId": "2c39bcf7-cbd1-4d49-867a-4bbbc6d892fb"
      },
      "source": [
        "def add(num1, num2):\n",
        "    return num1 + num2\n",
        "\n",
        "add(1, 2)"
      ],
      "id": "3bfff372",
      "execution_count": null,
      "outputs": [
        {
          "data": {
            "text/plain": [
              "3"
            ]
          },
          "execution_count": 72,
          "metadata": {},
          "output_type": "execute_result"
        }
      ]
    },
    {
      "cell_type": "code",
      "metadata": {
        "id": "4e8155be",
        "outputId": "7746c3b2-fcd8-410d-cd80-676000ec7e96"
      },
      "source": [
        "class Calculator:\n",
        "    \n",
        "    def __init__(self, num1, num2):\n",
        "        self.num1 = num1\n",
        "        self.num2 = num2\n",
        "        self.result = 0\n",
        "        \n",
        "    def add(self):\n",
        "        self.result = self.num1 + self.num2\n",
        "        return self.result\n",
        "    \n",
        "cal = Calculator(1, 2)\n",
        "print(cal.num1, cal.num2, cal.result)"
      ],
      "id": "4e8155be",
      "execution_count": null,
      "outputs": [
        {
          "name": "stdout",
          "output_type": "stream",
          "text": [
            "1 2 0\n"
          ]
        }
      ]
    },
    {
      "cell_type": "code",
      "metadata": {
        "id": "0ad30dec",
        "outputId": "cd0cc855-7339-43d8-b77d-97ac6d54b876"
      },
      "source": [
        "cal.add()"
      ],
      "id": "0ad30dec",
      "execution_count": null,
      "outputs": [
        {
          "data": {
            "text/plain": [
              "3"
            ]
          },
          "execution_count": 76,
          "metadata": {},
          "output_type": "execute_result"
        }
      ]
    },
    {
      "cell_type": "code",
      "metadata": {
        "id": "1198229d",
        "outputId": "5218a3ca-6814-4ea8-eb57-a97e83dec4f0"
      },
      "source": [
        "cal.result"
      ],
      "id": "1198229d",
      "execution_count": null,
      "outputs": [
        {
          "data": {
            "text/plain": [
              "3"
            ]
          },
          "execution_count": 77,
          "metadata": {},
          "output_type": "execute_result"
        }
      ]
    },
    {
      "cell_type": "code",
      "metadata": {
        "id": "7f85f512",
        "outputId": "e6341f44-988a-4104-855c-011fb560c2f7"
      },
      "source": [
        "class Calculator:\n",
        "    \n",
        "    def __init__(self, num1, num2):\n",
        "        self.num1 = num1\n",
        "        self.num2 = num2\n",
        "        self.result = 0\n",
        "        \n",
        "    def add(self):\n",
        "        self.result = self.num1 + self.num2\n",
        "        return self.result\n",
        "    \n",
        "    def subtract(self):\n",
        "        self.result = self.num1 - self.num2\n",
        "        return self.result\n",
        "    \n",
        "    def multiply(self):\n",
        "        self.result = self.num1 * self.num2\n",
        "        return self.result\n",
        "    \n",
        "    def divide(self):\n",
        "        self.result = self.num1 / self.num2\n",
        "        return self.result\n",
        "    \n",
        "    def change(self, num1, num2):\n",
        "        self.num1 = num1\n",
        "        self.num2 = num2\n",
        "        print(\"num1:\", self.num1)\n",
        "        print(\"num2:\", self.num2)\n",
        "        \n",
        "cal2 = Calculator(1,2)\n",
        "print(cal2.num1, cal2.num2)"
      ],
      "id": "7f85f512",
      "execution_count": null,
      "outputs": [
        {
          "name": "stdout",
          "output_type": "stream",
          "text": [
            "1 2\n"
          ]
        }
      ]
    },
    {
      "cell_type": "code",
      "metadata": {
        "id": "34caf227",
        "outputId": "87c2fc06-c573-48df-a729-8901103c48e0"
      },
      "source": [
        "print(cal2.add())\n",
        "print(cal2.subtract())\n",
        "print(cal2.multiply())\n",
        "print(cal2.divide())"
      ],
      "id": "34caf227",
      "execution_count": null,
      "outputs": [
        {
          "name": "stdout",
          "output_type": "stream",
          "text": [
            "3\n",
            "-1\n",
            "2\n",
            "0.5\n"
          ]
        }
      ]
    },
    {
      "cell_type": "code",
      "metadata": {
        "id": "aeba16c2",
        "outputId": "1e1e8bde-9fcd-4471-c606-4bc0297af49b"
      },
      "source": [
        "cal2.change(3,2)"
      ],
      "id": "aeba16c2",
      "execution_count": null,
      "outputs": [
        {
          "name": "stdout",
          "output_type": "stream",
          "text": [
            "num1: 3\n",
            "num2: 2\n"
          ]
        }
      ]
    },
    {
      "cell_type": "code",
      "metadata": {
        "id": "b841d940",
        "outputId": "56a59381-1619-4744-aadf-f983e71756e4"
      },
      "source": [
        "cal2.add()"
      ],
      "id": "b841d940",
      "execution_count": null,
      "outputs": [
        {
          "data": {
            "text/plain": [
              "5"
            ]
          },
          "execution_count": 82,
          "metadata": {},
          "output_type": "execute_result"
        }
      ]
    }
  ]
}