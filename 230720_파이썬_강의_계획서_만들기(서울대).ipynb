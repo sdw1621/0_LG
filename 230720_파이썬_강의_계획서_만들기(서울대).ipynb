{
  "nbformat": 4,
  "nbformat_minor": 0,
  "metadata": {
    "colab": {
      "provenance": [],
      "authorship_tag": "ABX9TyOvSNYvX2Qvz4ulBU1k51HX",
      "include_colab_link": true
    },
    "kernelspec": {
      "name": "python3",
      "display_name": "Python 3"
    },
    "language_info": {
      "name": "python"
    }
  },
  "cells": [
    {
      "cell_type": "markdown",
      "metadata": {
        "id": "view-in-github",
        "colab_type": "text"
      },
      "source": [
        "<a href=\"https://colab.research.google.com/github/sdw1621/0_LG/blob/main/230720_%ED%8C%8C%EC%9D%B4%EC%8D%AC_%EA%B0%95%EC%9D%98_%EA%B3%84%ED%9A%8D%EC%84%9C_%EB%A7%8C%EB%93%A4%EA%B8%B0(%EC%84%9C%EC%9A%B8%EB%8C%80).ipynb\" target=\"_parent\"><img src=\"https://colab.research.google.com/assets/colab-badge.svg\" alt=\"Open In Colab\"/></a>"
      ]
    },
    {
      "cell_type": "code",
      "execution_count": null,
      "metadata": {
        "id": "BWy-6ZrFnV7V"
      },
      "outputs": [],
      "source": []
    }
  ]
}