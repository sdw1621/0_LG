{
  "nbformat": 4,
  "nbformat_minor": 0,
  "metadata": {
    "colab": {
      "provenance": [],
      "toc_visible": true,
      "authorship_tag": "ABX9TyPn7r68hg5bAtlkfnCxHUGl",
      "include_colab_link": true
    },
    "kernelspec": {
      "name": "python3",
      "display_name": "Python 3"
    },
    "language_info": {
      "name": "python"
    }
  },
  "cells": [
    {
      "cell_type": "markdown",
      "metadata": {
        "id": "view-in-github",
        "colab_type": "text"
      },
      "source": [
        "<a href=\"https://colab.research.google.com/github/sdw1621/0_LG/blob/main/230626_%ED%8C%8C%EC%9D%B4%EC%8D%AC_%EC%88%98%EC%9A%94_%EC%98%88%EC%B8%A1.ipynb\" target=\"_parent\"><img src=\"https://colab.research.google.com/assets/colab-badge.svg\" alt=\"Open In Colab\"/></a>"
      ]
    },
    {
      "cell_type": "code",
      "execution_count": 1,
      "metadata": {
        "id": "dZPLejoOIT5P"
      },
      "outputs": [],
      "source": [
        "# 한 줄 주석\n",
        "\n",
        "# IDE (통합개발도구), 코랩(클라우드), 아나콘다(로컬), VSCODE(로컬), 파이참(로컬)\n",
        "# 코랩( CO(함께) + Labotory(실험하자)) : 파이썬 개발 + 구글 드라이브 연동\n",
        "# 마크다운 기능이 제공\n",
        "# 깃허브 기능 제공\n",
        "# 인터넷만 되면 내가 현재 코딩을 짜고 있는 컴퓨터가 아니라도\n",
        "# 다른 컴퓨터에서 이어서 코딩을 할 수 있다.\n",
        "\n",
        "# 실행 단축키\n",
        "# 1. Ctrl + Enter : 실행 후 커서가 현재 코드셀에 위치\n",
        "# 2. Shift + Enter : 실행 후 커서가 다음 코드셀에 위치\n",
        "\n",
        "# 주석은 실제 코드와 관련 없음\n",
        "# 인간이 해당 코드를 이해하기 쉽게 하기 위한 용도"
      ]
    },
    {
      "cell_type": "code",
      "source": [
        "print(\"신동욱\")\n",
        "\n",
        "# 코드의 결과를 보여주는 영역 : 아웃풋(출력창)\n",
        "# 아웃풋의 내용이 많을 때는\n",
        "# 아웃풋 창에 왼쪽 뺏어나는 아이콘에 커서를 올리면\n",
        "# X 라고 뜰 때 클릭"
      ],
      "metadata": {
        "id": "IU5h3iyYKZJC"
      },
      "execution_count": null,
      "outputs": []
    },
    {
      "cell_type": "code",
      "source": [
        "# 변수\n",
        "# = : 대입연산자\n",
        "# 좌변 = 우변\n",
        "\n",
        "# 순서\n",
        "# 우변의 값을 좌변의 변수에 대입\n",
        "# 우변에는 값(1, \"신동욱\"), 연산(1+2), 변수, 함수 등, 모든 것\n",
        "# 좌변에는 변수만 올 수 있음\n",
        "\n",
        "# 조건구문\n",
        "# 조건이 맞으면 실행구문 동작\n",
        "# 조건이 틀리면 Skip\n",
        "# if~else : 실행구문이 2개 일때\n",
        "# if~elif~else : 실행구문이 3개 이상일 때\n",
        "\n",
        "# True or False ( bool 데이터형 )\n",
        "# 조건구문에는 항상 True or False의 결과\n",
        "\n",
        "# print(\"문자열\")\n",
        "# 문자열 앞뒤에는 홀따옴표 or 쌍따옴표를 써야 됨\n",
        "\n",
        "a = 1\n",
        "\n",
        "if a > 2: # True or False\n",
        "  print(\"크다.\")\n",
        "else:\n",
        "  print(\"작다.\")"
      ],
      "metadata": {
        "id": "pkdM6AnPK7fB"
      },
      "execution_count": 4,
      "outputs": []
    },
    {
      "cell_type": "code",
      "source": [
        "if a > 2{\n",
        "  print(\"크다.\")\n",
        "}\n",
        "else{\n",
        "  print(\"작다.\")\n",
        "}\n",
        "\n",
        "sum(if(round()))"
      ],
      "metadata": {
        "id": "B51Oa9YkPv4W"
      },
      "execution_count": null,
      "outputs": []
    }
  ]
}