{
  "nbformat": 4,
  "nbformat_minor": 0,
  "metadata": {
    "colab": {
      "provenance": [],
      "authorship_tag": "ABX9TyNe5JozTXInoCOKUCtcRJt5",
      "include_colab_link": true
    },
    "kernelspec": {
      "name": "python3",
      "display_name": "Python 3"
    },
    "language_info": {
      "name": "python"
    }
  },
  "cells": [
    {
      "cell_type": "markdown",
      "metadata": {
        "id": "view-in-github",
        "colab_type": "text"
      },
      "source": [
        "<a href=\"https://colab.research.google.com/github/sdw1621/0_LG/blob/main/230611_CH01_%ED%8C%8C%EC%9D%B4%EC%8D%AC_%EC%96%B8%EC%96%B4%EC%97%90_%EB%8C%80%ED%95%9C_%EC%9D%B4%ED%95%B4.ipynb\" target=\"_parent\"><img src=\"https://colab.research.google.com/assets/colab-badge.svg\" alt=\"Open In Colab\"/></a>"
      ]
    },
    {
      "cell_type": "markdown",
      "source": [
        "# **학습 내용**"
      ],
      "metadata": {
        "id": "tNCtuPcfG7Gg"
      }
    },
    {
      "cell_type": "markdown",
      "source": [
        "##**1.2 파이썬의 특징**"
      ],
      "metadata": {
        "id": "IYvbyb_UHZB9"
      }
    },
    {
      "cell_type": "code",
      "execution_count": null,
      "metadata": {
        "colab": {
          "base_uri": "https://localhost:8080/"
        },
        "id": "7afVWcLrDfVn",
        "outputId": "389490ca-7e60-4321-f3d2-f3c271febbd4"
      },
      "outputs": [
        {
          "output_type": "stream",
          "name": "stdout",
          "text": [
            "안녕하세요, 신동욱 강사입니다.\n"
          ]
        }
      ],
      "source": [
        "print(\"안녕하세요, 신동욱 강사입니다.\")"
      ]
    },
    {
      "cell_type": "code",
      "source": [
        "today_temp = 40\n",
        "\n",
        "if today_temp < 30:\n",
        "  print(\"괜찮은 날씨예요\")\n",
        "else:\n",
        "  print(\"더운 날씨예요\")"
      ],
      "metadata": {
        "colab": {
          "base_uri": "https://localhost:8080/"
        },
        "id": "Xp7L65MGGyRU",
        "outputId": "229ada05-6d95-4d2a-b08a-c18c4a55abbb"
      },
      "execution_count": null,
      "outputs": [
        {
          "output_type": "stream",
          "name": "stdout",
          "text": [
            "더운 날씨예요\n"
          ]
        }
      ]
    },
    {
      "cell_type": "code",
      "source": [],
      "metadata": {
        "id": "jmdDKuYmJfJD"
      },
      "execution_count": null,
      "outputs": []
    }
  ]
}