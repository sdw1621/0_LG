{
  "nbformat": 4,
  "nbformat_minor": 5,
  "metadata": {
    "kernelspec": {
      "display_name": "Python 3",
      "language": "python",
      "name": "python3"
    },
    "language_info": {
      "codemirror_mode": {
        "name": "ipython",
        "version": 3
      },
      "file_extension": ".py",
      "mimetype": "text/x-python",
      "name": "python",
      "nbconvert_exporter": "python",
      "pygments_lexer": "ipython3",
      "version": "3.8.8"
    },
    "toc": {
      "base_numbering": 1,
      "nav_menu": {},
      "number_sections": true,
      "sideBar": true,
      "skip_h1_title": false,
      "title_cell": "Table of Contents",
      "title_sidebar": "Contents",
      "toc_cell": false,
      "toc_position": {},
      "toc_section_display": true,
      "toc_window_display": false
    },
    "varInspector": {
      "cols": {
        "lenName": 16,
        "lenType": 16,
        "lenVar": 40
      },
      "kernels_config": {
        "python": {
          "delete_cmd_postfix": "",
          "delete_cmd_prefix": "del ",
          "library": "var_list.py",
          "varRefreshCmd": "print(var_dic_list())"
        },
        "r": {
          "delete_cmd_postfix": ") ",
          "delete_cmd_prefix": "rm(",
          "library": "var_list.r",
          "varRefreshCmd": "cat(var_dic_list()) "
        }
      },
      "types_to_exclude": [
        "module",
        "function",
        "builtin_function_or_method",
        "instance",
        "_Feature"
      ],
      "window_display": false
    },
    "colab": {
      "name": "210928_파이썬 문법 실전코드.ipynb",
      "provenance": [],
      "include_colab_link": true
    }
  },
  "cells": [
    {
      "cell_type": "markdown",
      "metadata": {
        "id": "view-in-github",
        "colab_type": "text"
      },
      "source": [
        "<a href=\"https://colab.research.google.com/github/sdw1621/0_LG/blob/main/210928_%ED%8C%8C%EC%9D%B4%EC%8D%AC_%EB%AC%B8%EB%B2%95_%EC%8B%A4%EC%A0%84%EC%BD%94%EB%93%9C.ipynb\" target=\"_parent\"><img src=\"https://colab.research.google.com/assets/colab-badge.svg\" alt=\"Open In Colab\"/></a>"
      ]
    },
    {
      "cell_type": "markdown",
      "metadata": {
        "id": "b7d092aa"
      },
      "source": [
        "### **대한민국 주민등록번호**\n",
        "\n",
        "일반적으로 주민등록번호를 통해 남/여를 구분하기 위해서는\n",
        "\n",
        "---\n",
        "\n",
        "* 내국인\n",
        "\n",
        "\n",
        "- 1900년대, 뒷 첫번째 1개 가지고 와서 \n",
        "\n",
        "  1 : 남자, 2 : 여자\n",
        "\n",
        "\n",
        "- 2000년대, 뒷 첫번째 1개 가지고 와서 \n",
        "\n",
        "  3 : 남자, 4 : 여자\n",
        "\n",
        "\n",
        "---\n",
        "\n",
        "* 귀화 외국인 <br>\n",
        "\n",
        "- 1900년대, 뒷 첫번째 1개 가지고 와서 \n",
        "\n",
        "  5 : 남자, 6 : 여자\n",
        "\n",
        "- 2000년대, 뒷 첫번째 1개 가지고 와서 \n",
        "\n",
        "  7 : 남자, 8 : 여자\n",
        "\n",
        "---\n",
        "\n",
        "* 전체 정리\n",
        "\n",
        "* < 2000 : 2000년대 이전 출생자\n",
        "                 남자          여자\n",
        "   내국인          1             2\n",
        "   귀화 외국인     5             6\n",
        "\n",
        "\n",
        "* >= 2000 : 2000년대 이후 출생자\n",
        "                 남자          여자\n",
        "   내국인          3             4\n",
        "   귀화 외국인     7             8\n",
        "\n",
        "---\n",
        "\n",
        "* 규칙 : 남자는 홀수, 여자는 짝수 \n",
        "\n",
        "---\n",
        "\n",
        "* 필요한 파이썬 문법\n",
        "\n",
        "1. 문자열 슬라이싱 : 주민등록번호 뒤에서 첫 번째 자리\n",
        "\n",
        "2. % 연산자 : 주민등록번호 뒤에서 첫 번째 자리 % 2\n",
        "   나머지가 0이면 : 짝수, 여자\n",
        "   나머지가 1이면 : 홀수, 남자"
      ],
      "id": "b7d092aa"
    },
    {
      "cell_type": "code",
      "metadata": {
        "id": "6e1f21e9",
        "outputId": "4c816765-4131-46c6-9680-f48b7d4b446c"
      },
      "source": [
        "# 1단계\n",
        "# jumin_num : 주민등록번호 변수\n",
        "# input() 함수\n",
        "\n",
        "# 2단계\n",
        "# 주민등록 번호는 800101-1234567\n",
        "# 앞 6자리 : 800101\n",
        "# 뒤 7자리 : 1234567\n",
        "\n",
        "jumin_num = input(\"당신의 주민등록번호를 입력하세요 : \")\n",
        "print(jumin_num)"
      ],
      "id": "6e1f21e9",
      "execution_count": null,
      "outputs": [
        {
          "name": "stdout",
          "output_type": "stream",
          "text": [
            "당신의 주민등록번호를 입력하세요 : 800101-1234567\n",
            "800101-1234567\n"
          ]
        }
      ]
    },
    {
      "cell_type": "code",
      "metadata": {
        "id": "0e9ee66e",
        "outputId": "47b7deae-638e-4b72-ae91-add0314b2604"
      },
      "source": [
        "# in 연산자\n",
        "# 고객이 주민등록번호의 -를 입력하는 경우 : 800101-1234567\n",
        "# 고객이 주민등록번호의 -를 입력하지 않는 경우 : 8001011234567\n",
        "\n",
        "# 뒤에서 첫째자리 숫자 추출\n",
        "# 고객이 주민등록번호의 -를 있는 경우 : jumin_num[7]\n",
        "# 고객이 주민등록번호의 -를 입력하지 않는 경우 : jumin_num[6]\n",
        "\n",
        "# 주민번호 뒤에서 첫 자리 숫자 추출\n",
        "if \"-\" in jumin_num:\n",
        "    print(jumin_num[7]) # 1\n",
        "else:\n",
        "    print(jumin_num[6]) # 1"
      ],
      "id": "0e9ee66e",
      "execution_count": null,
      "outputs": [
        {
          "name": "stdout",
          "output_type": "stream",
          "text": [
            "1\n"
          ]
        }
      ]
    },
    {
      "cell_type": "code",
      "metadata": {
        "id": "97831bdf",
        "outputId": "aa9b54f0-39a9-4b07-8a1a-2846b80058f3"
      },
      "source": [
        "# 남/여 구분 (% 연산자)\n",
        "\n",
        "# 뒤에서 첫째 자리를 % 연산자 2로 나눈 나머지 0이면 : 여자\n",
        "# 뒤에서 첫째 자리를 % 연산자 2로 나눈 나머지 1이면 : 남자\n",
        "\n",
        "# 주민번호 뒤에서 첫 자리 숫자 추출\n",
        "if \"-\" in jumin_num:\n",
        "    if jumin_num[7] % 2 == 0:\n",
        "        print(\"여자\")\n",
        "    else:\n",
        "        print(\"남자\")\n",
        "else:\n",
        "    if jumin_num[6] % 2 == 0:\n",
        "        print(\"여자\")\n",
        "    else:\n",
        "        print(\"남자\")"
      ],
      "id": "97831bdf",
      "execution_count": null,
      "outputs": [
        {
          "ename": "TypeError",
          "evalue": "not all arguments converted during string formatting",
          "output_type": "error",
          "traceback": [
            "\u001b[1;31m---------------------------------------------------------------------------\u001b[0m",
            "\u001b[1;31mTypeError\u001b[0m                                 Traceback (most recent call last)",
            "\u001b[1;32m<ipython-input-3-21b60b02cb09>\u001b[0m in \u001b[0;36m<module>\u001b[1;34m\u001b[0m\n\u001b[0;32m      6\u001b[0m \u001b[1;31m# 주민번호 뒤에서 첫 자리 숫자 추출\u001b[0m\u001b[1;33m\u001b[0m\u001b[1;33m\u001b[0m\u001b[1;33m\u001b[0m\u001b[0m\n\u001b[0;32m      7\u001b[0m \u001b[1;32mif\u001b[0m \u001b[1;34m\"-\"\u001b[0m \u001b[1;32min\u001b[0m \u001b[0mjumin_num\u001b[0m\u001b[1;33m:\u001b[0m\u001b[1;33m\u001b[0m\u001b[1;33m\u001b[0m\u001b[0m\n\u001b[1;32m----> 8\u001b[1;33m     \u001b[1;32mif\u001b[0m \u001b[0mjumin_num\u001b[0m\u001b[1;33m[\u001b[0m\u001b[1;36m7\u001b[0m\u001b[1;33m]\u001b[0m \u001b[1;33m%\u001b[0m \u001b[1;36m2\u001b[0m \u001b[1;33m==\u001b[0m \u001b[1;36m0\u001b[0m\u001b[1;33m:\u001b[0m\u001b[1;33m\u001b[0m\u001b[1;33m\u001b[0m\u001b[0m\n\u001b[0m\u001b[0;32m      9\u001b[0m         \u001b[0mprint\u001b[0m\u001b[1;33m(\u001b[0m\u001b[1;34m\"여자\"\u001b[0m\u001b[1;33m)\u001b[0m\u001b[1;33m\u001b[0m\u001b[1;33m\u001b[0m\u001b[0m\n\u001b[0;32m     10\u001b[0m     \u001b[1;32melse\u001b[0m\u001b[1;33m:\u001b[0m\u001b[1;33m\u001b[0m\u001b[1;33m\u001b[0m\u001b[0m\n",
            "\u001b[1;31mTypeError\u001b[0m: not all arguments converted during string formatting"
          ]
        }
      ]
    },
    {
      "cell_type": "code",
      "metadata": {
        "id": "559f836b",
        "outputId": "b0b81b5c-0654-485e-bb3d-c1e1ebded241"
      },
      "source": [
        "# input 함수로 받은 값은 항상 문자열형 데이터\n",
        "\n",
        "# %연산을 위해 숫자(정수) 형 변환 : int()\n",
        "\n",
        "if \"-\" in jumin_num:\n",
        "    if int(jumin_num[7]) % 2 == 0:\n",
        "        print(\"여자\")\n",
        "    else:\n",
        "        print(\"남자\")\n",
        "else:\n",
        "    if int(jumin_num[6]) % 2 == 0:\n",
        "        print(\"여자\")\n",
        "    else:\n",
        "        print(\"남자\")"
      ],
      "id": "559f836b",
      "execution_count": null,
      "outputs": [
        {
          "name": "stdout",
          "output_type": "stream",
          "text": [
            "남자\n"
          ]
        }
      ]
    },
    {
      "cell_type": "code",
      "metadata": {
        "id": "ca96cd5d",
        "outputId": "036a627b-b3dd-477b-b739-f2e931b2663c"
      },
      "source": [
        "# 전체 코드\n",
        "\n",
        "jumin_num = input(\"당신의 주민등록번호를 입력하세요 : \")\n",
        "print(jumin_num)\n",
        "\n",
        "# 주민번호 뒤에서 첫 자리 숫자 추출\n",
        "if \"-\" in jumin_num:\n",
        "    if int(jumin_num[7]) % 2 == 0:\n",
        "        print(\"여자\")\n",
        "    else:\n",
        "        print(\"남자\")\n",
        "else:\n",
        "    if int(jumin_num[6]) % 2 == 0:\n",
        "        print(\"여자\")\n",
        "    else:\n",
        "        print(\"남자\")"
      ],
      "id": "ca96cd5d",
      "execution_count": null,
      "outputs": [
        {
          "name": "stdout",
          "output_type": "stream",
          "text": [
            "당신의 주민등록번호를 입력하세요 : 800101-1234567\n",
            "800101-1234567\n",
            "남자\n"
          ]
        }
      ]
    },
    {
      "cell_type": "markdown",
      "metadata": {
        "id": "cbb7b6e9"
      },
      "source": [
        "### 고객명 부르기"
      ],
      "id": "cbb7b6e9"
    },
    {
      "cell_type": "code",
      "metadata": {
        "id": "f8dbd78c",
        "outputId": "1f590565-a1a5-45cd-a15c-d2f3355ce5fa"
      },
      "source": [
        "# name : 이름을 저장하는 변수\n",
        "# position : 직급을 저장하는 변수\n",
        "\n",
        "# input() 함수를 통해서 이름과 직급을 받자!\n",
        "# split()를 사용, 띄어쓰기 기준으로 분리\n",
        "\n",
        "# [결과] : 신동욱 대표이사\n",
        "# name : 신동욱, position : 대표이사\n",
        "# print(name, position)\n",
        "\n",
        "name, position = input(\"본인의 이름과 직급을 띄어쓰기로 구분하여 입력하세요 : \").split()\n",
        "# print(name)\n",
        "# print(position)\n",
        "\n",
        "print(name, position)"
      ],
      "id": "f8dbd78c",
      "execution_count": null,
      "outputs": [
        {
          "name": "stdout",
          "output_type": "stream",
          "text": [
            "본인의 이름과 직급을 띄어쓰기로 구분하여 입력하세요 : 신동욱 대표이사\n",
            "신동욱 대표이사\n"
          ]
        }
      ]
    },
    {
      "cell_type": "markdown",
      "metadata": {
        "id": "a4780041"
      },
      "source": [
        "### 사원 코드 만들기"
      ],
      "id": "a4780041"
    },
    {
      "cell_type": "code",
      "metadata": {
        "id": "fc9d0fb7",
        "outputId": "166b5859-5eee-4cfc-c5e7-294e29fa35bf"
      },
      "source": [
        "# 사원번호 : employee_number\n",
        "\n",
        "# 입력은 input() 함수 사용\n",
        "# 입력하는 사원번호는 '20213318'로 하겠습니다.\n",
        "\n",
        "# 사원코드는 10자리다, 실제 데이터 외에는 0으로 채우자!\n",
        "# [결과] : 0020213318\n",
        "\n",
        "# format() 함수 사용하기\n",
        "\n",
        "# 방법1 : 숫자로 연결하기\n",
        "employee_number = input(\"본인의 사원번호를 입력하세요 : \")\n",
        "# print(\"{:010d}\".format(int(employee_number)))\n",
        "\n",
        "# 방법2 : 문자열로 연결하기\n",
        "print(len(employee_number))\n",
        "\n",
        "if len(employee_number) < 10:\n",
        "    zero_count = 10 - len(employee_number)\n",
        "    zero_count_str = \"0\"* int(zero_count) # 문자열 반복 : 문자 * 숫자 파이썬 특수 기능(반복)\n",
        "    \n",
        "print(zero_count_str+employee_number)"
      ],
      "id": "fc9d0fb7",
      "execution_count": null,
      "outputs": [
        {
          "name": "stdout",
          "output_type": "stream",
          "text": [
            "본인의 사원번호를 입력하세요 : 20213318\n",
            "8\n",
            "0020213318\n"
          ]
        }
      ]
    },
    {
      "cell_type": "code",
      "metadata": {
        "id": "7a652148",
        "outputId": "c5fcf14d-0b6f-4ea0-848e-c3407bd14f7d"
      },
      "source": [
        "# 각오를 적고, 나머지영역은 느낌표(!)로 채우기, \n",
        "# 각오가 왼쪽에 가고(왼쪽 정렬), 빈 공백은 느낌표로 채우기\n",
        "\n",
        "# ex) 나의 각오 : 초심을 끝까지\n",
        "# 전체의 범위가 20개다.\n",
        "\n",
        "# 아래와 같은 결과가 나오게 만들어보세요!\n",
        "# [결과] : 초심을 끝까지!!!!!!!!!!!!!\n",
        "\n",
        "# 각오 : resolution\n",
        "\n",
        "resolution = \"{:!<20}\".format(\"초심을 끝까지\")\n",
        "print(resolution)"
      ],
      "id": "7a652148",
      "execution_count": null,
      "outputs": [
        {
          "name": "stdout",
          "output_type": "stream",
          "text": [
            "초심을 끝까지!!!!!!!!!!!!!\n"
          ]
        }
      ]
    },
    {
      "cell_type": "code",
      "metadata": {
        "id": "bbd7a723"
      },
      "source": [
        ""
      ],
      "id": "bbd7a723",
      "execution_count": null,
      "outputs": []
    }
  ]
}