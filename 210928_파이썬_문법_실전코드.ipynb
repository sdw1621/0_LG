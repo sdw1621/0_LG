{
  "nbformat": 4,
  "nbformat_minor": 5,
  "metadata": {
    "kernelspec": {
      "display_name": "Python 3",
      "language": "python",
      "name": "python3"
    },
    "language_info": {
      "codemirror_mode": {
        "name": "ipython",
        "version": 3
      },
      "file_extension": ".py",
      "mimetype": "text/x-python",
      "name": "python",
      "nbconvert_exporter": "python",
      "pygments_lexer": "ipython3",
      "version": "3.8.8"
    },
    "toc": {
      "base_numbering": 1,
      "nav_menu": {},
      "number_sections": true,
      "sideBar": true,
      "skip_h1_title": false,
      "title_cell": "Table of Contents",
      "title_sidebar": "Contents",
      "toc_cell": false,
      "toc_position": {},
      "toc_section_display": true,
      "toc_window_display": false
    },
    "varInspector": {
      "cols": {
        "lenName": 16,
        "lenType": 16,
        "lenVar": 40
      },
      "kernels_config": {
        "python": {
          "delete_cmd_postfix": "",
          "delete_cmd_prefix": "del ",
          "library": "var_list.py",
          "varRefreshCmd": "print(var_dic_list())"
        },
        "r": {
          "delete_cmd_postfix": ") ",
          "delete_cmd_prefix": "rm(",
          "library": "var_list.r",
          "varRefreshCmd": "cat(var_dic_list()) "
        }
      },
      "types_to_exclude": [
        "module",
        "function",
        "builtin_function_or_method",
        "instance",
        "_Feature"
      ],
      "window_display": false
    },
    "colab": {
      "name": "210928_파이썬 문법 실전코드.ipynb",
      "provenance": [],
      "include_colab_link": true
    }
  },
  "cells": [
    {
      "cell_type": "markdown",
      "metadata": {
        "id": "view-in-github",
        "colab_type": "text"
      },
      "source": [
        "<a href=\"https://colab.research.google.com/github/sdw1621/0_LG/blob/main/210928_%ED%8C%8C%EC%9D%B4%EC%8D%AC_%EB%AC%B8%EB%B2%95_%EC%8B%A4%EC%A0%84%EC%BD%94%EB%93%9C.ipynb\" target=\"_parent\"><img src=\"https://colab.research.google.com/assets/colab-badge.svg\" alt=\"Open In Colab\"/></a>"
      ]
    },
    {
      "cell_type": "markdown",
      "metadata": {
        "id": "fa72583d"
      },
      "source": [
        "### **대한민국 주민등록번호**\n",
        "\n",
        "일반적으로 주민등록번호를 통해 남/여를 구분하기 위해서는\n",
        "\n",
        "---\n",
        "\n",
        "* 내국인\n",
        "\n",
        "\n",
        "- 1900년대, 뒷 첫번째 1개 가지고 와서 \n",
        "\n",
        "  1 : 남자, 2 : 여자\n",
        "\n",
        "\n",
        "- 2000년대, 뒷 첫번째 1개 가지고 와서 \n",
        "\n",
        "  3 : 남자, 4 : 여자\n",
        "\n",
        "\n",
        "---\n",
        "\n",
        "* 귀화 외국인 <br>\n",
        "\n",
        "- 1900년대, 뒷 첫번째 1개 가지고 와서 \n",
        "\n",
        "  5 : 남자, 6 : 여자\n",
        "\n",
        "- 2000년대, 뒷 첫번째 1개 가지고 와서 \n",
        "\n",
        "  7 : 남자, 8 : 여자\n",
        "\n",
        "---\n",
        "\n",
        "* 전체 정리\n",
        "\n",
        "* < 2000 : 2000년대 이전 출생자\n",
        "                 남자          여자\n",
        "   내국인          1             2\n",
        "   귀화 외국인     5             6\n",
        "\n",
        "\n",
        "* >= 2000 : 2000년대 이후 출생자\n",
        "                 남자          여자\n",
        "   내국인          3             4\n",
        "   귀화 외국인     7             8\n",
        "\n",
        "---\n",
        "\n",
        "* 규칙 : 남자는 홀수, 여자는 짝수 \n",
        "\n",
        "---\n",
        "\n",
        "* 필요한 파이썬 문법\n",
        "\n",
        "1. 문자열 슬라이싱 : 주민등록번호 뒤에서 첫 번째 자리\n",
        "\n",
        "2. % 연산자 : 주민등록번호 뒤에서 첫 번째 자리 % 2\n",
        "   나머지가 0이면 : 짝수, 여자\n",
        "   나머지가 1이면 : 홀수, 남자"
      ],
      "id": "fa72583d"
    },
    {
      "cell_type": "code",
      "metadata": {
        "id": "f6af8ed3",
        "outputId": "435e9cb7-7c88-4db5-ac60-153a0088f52a"
      },
      "source": [
        "# 1단계\n",
        "# jumin_num : 주민등록번호 변수\n",
        "# input() 함수\n",
        "\n",
        "# 2단계\n",
        "# 주민등록 번호는 800101-1234567\n",
        "# 앞 6자리 : 800101\n",
        "# 뒤 7자리 : 1234567\n",
        "\n",
        "jumin_num = input(\"당신의 주민등록번호를 입력하세요 : \")\n",
        "print(jumin_num)"
      ],
      "id": "f6af8ed3",
      "execution_count": null,
      "outputs": [
        {
          "name": "stdout",
          "output_type": "stream",
          "text": [
            "당신의 주민등록번호를 입력하세요 : 800101-1234567\n",
            "800101-1234567\n"
          ]
        }
      ]
    },
    {
      "cell_type": "code",
      "metadata": {
        "id": "48f21459",
        "outputId": "282b1a70-25e2-4929-804e-159f4dacd90c"
      },
      "source": [
        "# in 연산자\n",
        "# 고객이 주민등록번호의 -를 입력하는 경우 : 800101-1234567\n",
        "# 고객이 주민등록번호의 -를 입력하지 않는 경우 : 8001011234567\n",
        "\n",
        "# 뒤에서 첫째자리 숫자 추출\n",
        "# 고객이 주민등록번호의 -를 있는 경우 : jumin_num[7]\n",
        "# 고객이 주민등록번호의 -를 입력하지 않는 경우 : jumin_num[6]\n",
        "\n",
        "# 주민번호 뒤에서 첫 자리 숫자 추출\n",
        "if \"-\" in jumin_num:\n",
        "    print(jumin_num[7]) # 1\n",
        "else:\n",
        "    print(jumin_num[6]) # 1"
      ],
      "id": "48f21459",
      "execution_count": null,
      "outputs": [
        {
          "name": "stdout",
          "output_type": "stream",
          "text": [
            "1\n"
          ]
        }
      ]
    },
    {
      "cell_type": "code",
      "metadata": {
        "id": "9e87e391",
        "outputId": "4a9f3740-861c-493f-c6a6-4e9d959d5b1b"
      },
      "source": [
        "# 남/여 구분 (% 연산자)\n",
        "\n",
        "# 뒤에서 첫째 자리를 % 연산자 2로 나눈 나머지 0이면 : 여자\n",
        "# 뒤에서 첫째 자리를 % 연산자 2로 나눈 나머지 1이면 : 남자\n",
        "\n",
        "# 주민번호 뒤에서 첫 자리 숫자 추출\n",
        "if \"-\" in jumin_num:\n",
        "    if jumin_num[7] % 2 == 0:\n",
        "        print(\"여자\")\n",
        "    else:\n",
        "        print(\"남자\")\n",
        "else:\n",
        "    if jumin_num[6] % 2 == 0:\n",
        "        print(\"여자\")\n",
        "    else:\n",
        "        print(\"남자\")"
      ],
      "id": "9e87e391",
      "execution_count": null,
      "outputs": [
        {
          "ename": "TypeError",
          "evalue": "not all arguments converted during string formatting",
          "output_type": "error",
          "traceback": [
            "\u001b[1;31m---------------------------------------------------------------------------\u001b[0m",
            "\u001b[1;31mTypeError\u001b[0m                                 Traceback (most recent call last)",
            "\u001b[1;32m<ipython-input-3-21b60b02cb09>\u001b[0m in \u001b[0;36m<module>\u001b[1;34m\u001b[0m\n\u001b[0;32m      6\u001b[0m \u001b[1;31m# 주민번호 뒤에서 첫 자리 숫자 추출\u001b[0m\u001b[1;33m\u001b[0m\u001b[1;33m\u001b[0m\u001b[1;33m\u001b[0m\u001b[0m\n\u001b[0;32m      7\u001b[0m \u001b[1;32mif\u001b[0m \u001b[1;34m\"-\"\u001b[0m \u001b[1;32min\u001b[0m \u001b[0mjumin_num\u001b[0m\u001b[1;33m:\u001b[0m\u001b[1;33m\u001b[0m\u001b[1;33m\u001b[0m\u001b[0m\n\u001b[1;32m----> 8\u001b[1;33m     \u001b[1;32mif\u001b[0m \u001b[0mjumin_num\u001b[0m\u001b[1;33m[\u001b[0m\u001b[1;36m7\u001b[0m\u001b[1;33m]\u001b[0m \u001b[1;33m%\u001b[0m \u001b[1;36m2\u001b[0m \u001b[1;33m==\u001b[0m \u001b[1;36m0\u001b[0m\u001b[1;33m:\u001b[0m\u001b[1;33m\u001b[0m\u001b[1;33m\u001b[0m\u001b[0m\n\u001b[0m\u001b[0;32m      9\u001b[0m         \u001b[0mprint\u001b[0m\u001b[1;33m(\u001b[0m\u001b[1;34m\"여자\"\u001b[0m\u001b[1;33m)\u001b[0m\u001b[1;33m\u001b[0m\u001b[1;33m\u001b[0m\u001b[0m\n\u001b[0;32m     10\u001b[0m     \u001b[1;32melse\u001b[0m\u001b[1;33m:\u001b[0m\u001b[1;33m\u001b[0m\u001b[1;33m\u001b[0m\u001b[0m\n",
            "\u001b[1;31mTypeError\u001b[0m: not all arguments converted during string formatting"
          ]
        }
      ]
    },
    {
      "cell_type": "code",
      "metadata": {
        "id": "94384a06",
        "outputId": "f30edbe0-9bba-4d04-b3ec-73dd7d2c6a9b"
      },
      "source": [
        "# input 함수로 받은 값은 항상 문자열형 데이터\n",
        "\n",
        "# %연산을 위해 숫자(정수) 형 변환 : int()\n",
        "\n",
        "if \"-\" in jumin_num:\n",
        "    if int(jumin_num[7]) % 2 == 0:\n",
        "        print(\"여자\")\n",
        "    else:\n",
        "        print(\"남자\")\n",
        "else:\n",
        "    if int(jumin_num[6]) % 2 == 0:\n",
        "        print(\"여자\")\n",
        "    else:\n",
        "        print(\"남자\")"
      ],
      "id": "94384a06",
      "execution_count": null,
      "outputs": [
        {
          "name": "stdout",
          "output_type": "stream",
          "text": [
            "남자\n"
          ]
        }
      ]
    },
    {
      "cell_type": "code",
      "metadata": {
        "id": "2218cac4",
        "outputId": "67aa61b0-9a84-4b22-a791-c35b50791ef8"
      },
      "source": [
        "# 전체 코드\n",
        "\n",
        "jumin_num = input(\"당신의 주민등록번호를 입력하세요 : \")\n",
        "print(jumin_num)\n",
        "\n",
        "# 주민번호 뒤에서 첫 자리 숫자 추출\n",
        "if \"-\" in jumin_num:\n",
        "    if int(jumin_num[7]) % 2 == 0:\n",
        "        print(\"여자\")\n",
        "    else:\n",
        "        print(\"남자\")\n",
        "else:\n",
        "    if int(jumin_num[6]) % 2 == 0:\n",
        "        print(\"여자\")\n",
        "    else:\n",
        "        print(\"남자\")"
      ],
      "id": "2218cac4",
      "execution_count": null,
      "outputs": [
        {
          "name": "stdout",
          "output_type": "stream",
          "text": [
            "당신의 주민등록번호를 입력하세요 : 800101-1234567\n",
            "800101-1234567\n",
            "남자\n"
          ]
        }
      ]
    },
    {
      "cell_type": "markdown",
      "metadata": {
        "id": "ede83677"
      },
      "source": [
        "### 고객명 부르기"
      ],
      "id": "ede83677"
    },
    {
      "cell_type": "code",
      "metadata": {
        "id": "d6b119b3",
        "outputId": "153230f6-3d8f-4065-fcbf-18b8572cc960"
      },
      "source": [
        "# name : 이름을 저장하는 변수\n",
        "# position : 직급을 저장하는 변수\n",
        "\n",
        "# input() 함수를 통해서 이름과 직급을 받자!\n",
        "# split()를 사용, 띄어쓰기 기준으로 분리\n",
        "\n",
        "# [결과] : 신동욱 대표이사\n",
        "# name : 신동욱, position : 대표이사\n",
        "# print(name, position)\n",
        "\n",
        "name, position = input(\"본인의 이름과 직급을 띄어쓰기로 구분하여 입력하세요 : \").split()\n",
        "# print(name)\n",
        "# print(position)\n",
        "\n",
        "print(name, position)"
      ],
      "id": "d6b119b3",
      "execution_count": null,
      "outputs": [
        {
          "name": "stdout",
          "output_type": "stream",
          "text": [
            "본인의 이름과 직급을 띄어쓰기로 구분하여 입력하세요 : 신동욱 대표이사\n",
            "신동욱 대표이사\n"
          ]
        }
      ]
    },
    {
      "cell_type": "markdown",
      "metadata": {
        "id": "c7504936"
      },
      "source": [
        "### 사원 코드 만들기"
      ],
      "id": "c7504936"
    },
    {
      "cell_type": "code",
      "metadata": {
        "id": "3efb979a",
        "outputId": "4d4d9b0a-7feb-436a-e99c-779a9397dda0"
      },
      "source": [
        "# 사원번호 : employee_number\n",
        "\n",
        "# 입력은 input() 함수 사용\n",
        "# 입력하는 사원번호는 '20213318'로 하겠습니다.\n",
        "\n",
        "# 사원코드는 10자리다, 실제 데이터 외에는 0으로 채우자!\n",
        "# [결과] : 0020213318\n",
        "\n",
        "# format() 함수 사용하기\n",
        "\n",
        "# 방법1 : 숫자로 연결하기\n",
        "employee_number = input(\"본인의 사원번호를 입력하세요 : \")\n",
        "# print(\"{:010d}\".format(int(employee_number)))\n",
        "\n",
        "# 방법2 : 문자열로 연결하기\n",
        "print(len(employee_number))\n",
        "\n",
        "if len(employee_number) < 10:\n",
        "    zero_count = 10 - len(employee_number)\n",
        "    zero_count_str = \"0\"* int(zero_count) # 문자열 반복 : 문자 * 숫자 파이썬 특수 기능(반복)\n",
        "    \n",
        "print(zero_count_str+employee_number)"
      ],
      "id": "3efb979a",
      "execution_count": null,
      "outputs": [
        {
          "name": "stdout",
          "output_type": "stream",
          "text": [
            "본인의 사원번호를 입력하세요 : 20213318\n",
            "8\n",
            "0020213318\n"
          ]
        }
      ]
    },
    {
      "cell_type": "markdown",
      "metadata": {
        "id": "4aeb4358"
      },
      "source": [
        ""
      ],
      "id": "4aeb4358"
    },
    {
      "cell_type": "code",
      "metadata": {
        "id": "e9da610c",
        "outputId": "4ef506f6-fa85-4f7d-962e-c40e081e104d"
      },
      "source": [
        "# 각오를 적고, 나머지영역은 느낌표(!)로 채우기, \n",
        "# 각오가 왼쪽에 가고(왼쪽 정렬), 빈 공백은 느낌표로 채우기\n",
        "\n",
        "# ex) 나의 각오 : 초심을 끝까지\n",
        "# 전체의 범위가 20개다.\n",
        "\n",
        "# 아래와 같은 결과가 나오게 만들어보세요!\n",
        "# [결과] : 초심을 끝까지!!!!!!!!!!!!!\n",
        "\n",
        "# 각오 : resolution\n",
        "\n",
        "# resolution = \"{:!<20}\".format(\"초심을 끝까지\")\n",
        "resolution = \"{:!<20}\".format(\"초심을 끝까지\")\n",
        "print(resolution)"
      ],
      "id": "e9da610c",
      "execution_count": null,
      "outputs": [
        {
          "name": "stdout",
          "output_type": "stream",
          "text": [
            "초심을 끝까지!!!!!!!!!!!!!\n"
          ]
        }
      ]
    },
    {
      "cell_type": "markdown",
      "metadata": {
        "id": "14553cbb"
      },
      "source": [
        ""
      ],
      "id": "14553cbb"
    },
    {
      "cell_type": "code",
      "metadata": {
        "id": "32e58eed",
        "outputId": "20f14ab9-77b0-4129-e902-0d1cd24cc75f"
      },
      "source": [
        "equal_many = \"=\"*31\n",
        "won = \"원\"\n",
        "\n",
        "# format 함수를 파이썬 3.7버전부터 f-string 문법 추가\n",
        "print(f'''\n",
        "메뉴판\n",
        "{equal_many}\n",
        "{'갈비탕':-<11}{10000:->15}{won} # 앞에 유동, 뒤에는 15칸\n",
        "{'떡볶이':-<11}{7000:->15}{won}\n",
        "{'오뎅':-<12}{5000:->15}{won} # 2개짜리는 12칸, 15칸\n",
        "{'감자탕':-<11}{8000:->15}{won}\n",
        "{'김치찌개':-<10}{8000:->15}{won}\n",
        "{'제육볶음':-<10}{7000:->15}{won}\n",
        "{'김치볶음밥':-<9}{5000:->15}{won}\n",
        "{equal_many}\n",
        "''')"
      ],
      "id": "32e58eed",
      "execution_count": null,
      "outputs": [
        {
          "name": "stdout",
          "output_type": "stream",
          "text": [
            "\n",
            "메뉴판\n",
            "===============================\n",
            "갈비탕------------------10000원 # 앞에 유동, 뒤에는 15칸\n",
            "떡볶이-------------------7000원\n",
            "오뎅---------------------5000원 # 2개짜리는 12칸, 15칸\n",
            "감자탕-------------------8000원\n",
            "김치찌개-----------------8000원\n",
            "제육볶음-----------------7000원\n",
            "김치볶음밥---------------5000원\n",
            "===============================\n",
            "\n"
          ]
        }
      ]
    },
    {
      "cell_type": "markdown",
      "metadata": {
        "id": "3ded235f"
      },
      "source": [
        ""
      ],
      "id": "3ded235f"
    },
    {
      "cell_type": "code",
      "metadata": {
        "id": "600daf54",
        "outputId": "aa841f71-4f91-406d-a3ad-02698861db0d"
      },
      "source": [
        "# 소수점 제어하는 함수를 찾아 보세요! - 구글링\n",
        "# 찾으셨으면 코드에 적용해서 소수점 3번째 자리까지만 출력해보자\n",
        "\n",
        "output_a = \"{:f}\".format(52.273)\n",
        "\n",
        "print(output_a)\n",
        "\n",
        "# print(round(output_a,3)) # TypeError: type str doesn't define __round__ method\n",
        "\n",
        "output_a_float = float(output_a)\n",
        "print(round(output_a_float, 3))\n",
        "print(round(output_a_float, -1))"
      ],
      "id": "600daf54",
      "execution_count": null,
      "outputs": [
        {
          "name": "stdout",
          "output_type": "stream",
          "text": [
            "52.273000\n",
            "52.273\n",
            "50.0\n"
          ]
        }
      ]
    },
    {
      "cell_type": "markdown",
      "metadata": {
        "id": "cf3b0135"
      },
      "source": [
        ""
      ],
      "id": "cf3b0135"
    },
    {
      "cell_type": "code",
      "metadata": {
        "id": "863f8f4f",
        "outputId": "e92d04af-ddaa-43d5-c7c4-8505c7f3b199"
      },
      "source": [
        "# [python] 파이썬 소수점 자리수 제한 방법 3가지\n",
        "# https://blockdmask.tistory.com/534\n",
        "\n",
        "# 파이썬 프로그래밍 - format 함수 사용법, 실습 11가지 (%d, %s, %f )\n",
        "# https://funzozo.tistory.com/7\n",
        "\n",
        "# 절삭\n",
        "\n",
        "# 은행에 왔다. 내 통장에 이자가 붙었다.\n",
        "# 1원, 10원은 은행에 기부했다. => 절삭\n",
        "# 100원 단위까지 받겠다!\n",
        "# 10000원이 출력되게 코드를 작성해보세요\n",
        "\n",
        "money = 10012 # 원금 10000원, 이자 12원\n",
        "print(round(money, -2))"
      ],
      "id": "863f8f4f",
      "execution_count": null,
      "outputs": [
        {
          "name": "stdout",
          "output_type": "stream",
          "text": [
            "10000\n"
          ]
        }
      ]
    },
    {
      "cell_type": "markdown",
      "metadata": {
        "id": "08a123e8"
      },
      "source": [
        ""
      ],
      "id": "08a123e8"
    },
    {
      "cell_type": "code",
      "metadata": {
        "id": "92db7d3b",
        "outputId": "7d95ca4e-6830-4ee9-aea2-93112a2d376c"
      },
      "source": [
        "'-'.join(['010', '2731', '2579'])"
      ],
      "id": "92db7d3b",
      "execution_count": null,
      "outputs": [
        {
          "data": {
            "text/plain": [
              "'010-2731-2579'"
            ]
          },
          "execution_count": 32,
          "metadata": {},
          "output_type": "execute_result"
        }
      ]
    },
    {
      "cell_type": "markdown",
      "metadata": {
        "id": "1c233844"
      },
      "source": [
        ""
      ],
      "id": "1c233844"
    },
    {
      "cell_type": "code",
      "metadata": {
        "id": "883a4851",
        "outputId": "21aaa717-b81b-4599-886f-51d027da1640"
      },
      "source": [
        "# x, 편의점에서 뭘 기준으로 담배를 살 수 있지요?? age\n",
        "# 나이 : age\n",
        "# 담배를 살 수 있는 기준 : 20세\n",
        "# if~else, print, 범위\n",
        "\n",
        "age = input(\"나이를 입력하세요 : \")\n",
        "age = int(age)\n",
        "\n",
        "if age >= 20:\n",
        "  print(\"담배를 살 수 있습니다.\")\n",
        "else:\n",
        "  print(\"담배를 살 수 없습니다.\")"
      ],
      "id": "883a4851",
      "execution_count": null,
      "outputs": [
        {
          "name": "stdout",
          "output_type": "stream",
          "text": [
            "나이를 입력하세요 : 15\n",
            "담배를 살 수 없습니다.\n"
          ]
        }
      ]
    },
    {
      "cell_type": "markdown",
      "metadata": {
        "id": "1cb8f48c"
      },
      "source": [
        ""
      ],
      "id": "1cb8f48c"
    },
    {
      "cell_type": "code",
      "metadata": {
        "id": "cdd3ce48",
        "outputId": "e0c14d9d-6a61-4753-e354-35c4adb0fbe7"
      },
      "source": [
        "# 코로나라서 클럽, 감성주점,\n",
        "# 나이 : age\n",
        "# 클럽, 감성 주점 출입할 수 있는 나이 : 20 세 ~ 35 세\n",
        "# if~elif~else, print\n",
        "# 다중 범위 (예. 10 < x < 30 )\n",
        "# 미성년자 : 비교연산자 20\n",
        "# 출입가능한 나이 : 비교연산자, 범위 20 ~ 35\n",
        "# 믈 흐림 나이 : 범위 35세 이상\n",
        "\n",
        "age = input(\"당신의 나이를 입력하세요 : \")\n",
        "age = int(age)\n",
        "\n",
        "if 20 < age < 35 :\n",
        "  print(\"당신은 클럽에 출입할 수 있습니다.\")\n",
        "elif age < 20 :\n",
        "  print(\"미성년자는 학교에 갑시다.\")\n",
        "else:\n",
        "  print(\"당신은 클럽의 물을 흐립니다.\")\n",
        "\n",
        "# <추천>\n",
        "# if age >= 35 :\n",
        "#   print(\"물 흐림 나이\")\n",
        "# elif age >=20 :\n",
        "#   print(\"출입가능\")\n",
        "# else :\n",
        "#   print(\"출입불가능\")"
      ],
      "id": "cdd3ce48",
      "execution_count": null,
      "outputs": [
        {
          "name": "stdout",
          "output_type": "stream",
          "text": [
            "당신의 나이를 입력하세요 : 38\n",
            "당신은 클럽의 물을 흐립니다.\n"
          ]
        }
      ]
    },
    {
      "cell_type": "markdown",
      "metadata": {
        "id": "e4e64b6b"
      },
      "source": [
        ""
      ],
      "id": "e4e64b6b"
    },
    {
      "cell_type": "code",
      "metadata": {
        "id": "3aa7ac0c",
        "outputId": "9c379847-2480-46bd-c880-c25975399b90"
      },
      "source": [
        "# 데이터로 만들져 있다. (가정) => 큰 값부터 빼내는 방식이 속도가 빨라진다.\n",
        " \n",
        "# 100~90 : A학점\n",
        "  # 96~100 : A+학점\n",
        "  # 93~95  : A0학점\n",
        "  # 90~92  : A-학점\n",
        "# 80~89 : B학점\n",
        "  # 86~89 : B+학점\n",
        "  # 83~85  : B0학점\n",
        "  # 80~82  : B-학점\n",
        "# 그 외 : F학점\n",
        "# 다중 if구문\n",
        "\n",
        "score = input(\"점수를 입력하세요 : \")\n",
        "score = int(score)\n",
        "\n",
        "# 예외에 해당하는 영역도 신경쓰자~!\n",
        "# 고객이 이상한 범위의 데이터를 입력하면 버그가 보인다.\n",
        "if 97 <= score <= 100  :\n",
        "  print(\"A+\")\n",
        "elif 93 <= score <= 96 :\n",
        "  print(\"A0\")\n",
        "elif 90 <= score <= 92 :\n",
        "  print(\"A-\")\n",
        "elif 86 <= score <= 89 :\n",
        "  print(\"B+\")\n",
        "elif 83 <= score <= 85 :\n",
        "  print(\"B0\")\n",
        "elif 80 <= score <= 82 :\n",
        "  print(\"B-\")\n",
        "elif 0 <= score <= 79 :\n",
        "  print(\"F\")\n",
        "else : \n",
        "  print(\"0~100 사이의 숫자를 입력해주세요.\")\n",
        "\n",
        "# hakjum = ['A+', 'A+', 'B+', 'A+', 'F'] # 프로그램 저장\n",
        "\n",
        "# 판다스 패키지 -> 엑셀"
      ],
      "id": "3aa7ac0c",
      "execution_count": null,
      "outputs": [
        {
          "name": "stdout",
          "output_type": "stream",
          "text": [
            "점수를 입력하세요 : 80\n",
            "B-\n"
          ]
        }
      ]
    },
    {
      "cell_type": "markdown",
      "metadata": {
        "id": "27e40529"
      },
      "source": [
        "### **오늘의 요일 추출**"
      ],
      "id": "27e40529"
    },
    {
      "cell_type": "code",
      "metadata": {
        "id": "35e85773",
        "outputId": "a821a72e-2417-4eda-bba2-0190cc3469b5"
      },
      "source": [
        "import datetime\n",
        "\n",
        "a = datetime.date.today()\n",
        "\n",
        "a.weekday() # 요일을 정수로 변환하여 반환\n",
        "\n",
        "if a.weekday() == 0:\n",
        "  print(\"월요일\")\n",
        "elif a.weekday() == 1:\n",
        "  print(\"화요일\")\n",
        "elif a.weekday() == 2:\n",
        "  print(\"수요일\")\n",
        "elif a.weekday() == 3:\n",
        "  print(\"목요일\")\n",
        "elif a.weekday() == 4:\n",
        "  print(\"금요일\")\n",
        "elif a.weekday() == 5:\n",
        "  print(\"토요일\")\n",
        "else:\n",
        "  print(\"일요일\")"
      ],
      "id": "35e85773",
      "execution_count": null,
      "outputs": [
        {
          "name": "stdout",
          "output_type": "stream",
          "text": [
            "화요일\n"
          ]
        }
      ]
    },
    {
      "cell_type": "code",
      "metadata": {
        "id": "0cfbd8b6",
        "outputId": "7e572ac2-83e1-497e-f821-04addbf8c2fd"
      },
      "source": [
        "# http://daplus.net/python-%EC%88%AB%EC%9E%90%EC%97%90%EC%84%9C-%EC%9B%94-%EC%9D%B4%EB%A6%84-%EA%B0%80%EC%A0%B8-%EC%98%A4%EA%B8%B0/\n",
        "# https://m.blog.naver.com/PostView.naver?isHttpsRedirect=true&blogId=dudwo567890&logNo=130165166038\n",
        "\n",
        "day = datetime.date(2021, 8, 20)\n",
        "# print(day)\n",
        "\n",
        "import datetime\n",
        "\n",
        "a = datetime.date.today()\n",
        "\n",
        "a.weekday() # 요일을 정수로 변환하여 반환\n",
        "\n",
        "yoil = ''\n",
        "\n",
        "if a.weekday() == 0:\n",
        "  yoil = \"월요일\"\n",
        "elif a.weekday() == 1:\n",
        "  yoil = \"화요일\"\n",
        "elif a.weekday() == 2:\n",
        "  yoil = \"수요일\"\n",
        "elif a.weekday() == 3:\n",
        "  yoil = \"목요일\"\n",
        "elif a.weekday() == 4:\n",
        "  yoil = \"금요일\"\n",
        "elif a.weekday() == 5:\n",
        "  yoil = \"토요일\"\n",
        "else:\n",
        "  yoil = \"일요일\"\n",
        "\n",
        "# print(day, yoil)\n",
        "day = str(day)\n",
        "print(day + \", \" +yoil)"
      ],
      "id": "0cfbd8b6",
      "execution_count": null,
      "outputs": [
        {
          "name": "stdout",
          "output_type": "stream",
          "text": [
            "2021-08-20, 화요일\n"
          ]
        }
      ]
    },
    {
      "cell_type": "markdown",
      "metadata": {
        "id": "b0506668"
      },
      "source": [
        ""
      ],
      "id": "b0506668"
    },
    {
      "cell_type": "code",
      "metadata": {
        "id": "bb0971b8",
        "outputId": "7d2f3191-0c7c-4728-f427-7fb965636c0e"
      },
      "source": [
        "import datetime\n",
        "\n",
        "now = datetime.datetime.now() # 오늘의 날짜\n",
        "\n",
        "anniversary = input(\"사귀기 시작한 날짜를 yyyy-mm-dd 형식으로입력하세요 : \") # 2021-08-01\n",
        "\n",
        "anniversary = datetime.datetime.strptime(anniversary, '%Y-%m-%d')\n",
        "\n",
        "print(anniversary.year) # 2021\n",
        "print(f'이성친구와 사귀기 시작한 날짜는 {anniversary.year}년 {anniversary.month}월 {anniversary.day}일입니다.')\n",
        "\n",
        "# 날짜끼리 빼기\n",
        "# https://jsikim1.tistory.com/144\n",
        "\n",
        "print(now - anniversary)\n",
        "diff_day = now - anniversary\n",
        "print(\"오늘로부터 이성친구과 사귄 기간은 \", str(diff_day.days) + \"일 입니다.\")"
      ],
      "id": "bb0971b8",
      "execution_count": null,
      "outputs": [
        {
          "name": "stdout",
          "output_type": "stream",
          "text": [
            "사귀기 시작한 날짜를 yyyy-mm-dd 형식으로입력하세요 : 2021-08-20\n",
            "2021\n",
            "이성친구와 사귀기 시작한 날짜는 2021년 8월 20일입니다.\n",
            "39 days, 16:41:27.783290\n",
            "오늘로부터 이성친구과 사귄 기간은  39일 입니다.\n"
          ]
        }
      ]
    },
    {
      "cell_type": "markdown",
      "metadata": {
        "id": "48d4a523"
      },
      "source": [
        "### **스타벅스 쿠폰 당첨 여부 판단 코드**"
      ],
      "id": "48d4a523"
    },
    {
      "cell_type": "code",
      "metadata": {
        "id": "79d52af3",
        "outputId": "41871b09-7ebe-4e2e-df14-a07e2763c36b"
      },
      "source": [
        "event_select = [\"최정원\", \"이득기\", \"오충휴\", \"위해니\", \"박채린\"] # 스타벅스 쿠폰 제공자\n",
        "\n",
        "one_select = input(\"본인 이름을 입력하세요 : \")\n",
        "\n",
        "if one_select in event_select:\n",
        "  print(\"당첨입니다.\")\n",
        "else:\n",
        "  print(\"당첨되지 않았습니다.\") # 판다스(엑셀) 배울 때 추가적으로 배울 예정"
      ],
      "id": "79d52af3",
      "execution_count": null,
      "outputs": [
        {
          "name": "stdout",
          "output_type": "stream",
          "text": [
            "본인 이름을 입력하세요 : 오충휴\n",
            "당첨입니다.\n"
          ]
        }
      ]
    },
    {
      "cell_type": "markdown",
      "metadata": {
        "id": "827bc9f3"
      },
      "source": [
        "### **파이썬 로또 프로그램 짜기**"
      ],
      "id": "827bc9f3"
    },
    {
      "cell_type": "code",
      "metadata": {
        "id": "15896a0a",
        "outputId": "5e15df52-7455-44ed-f577-653b3a9dd6a1"
      },
      "source": [
        "import random\n",
        "\n",
        "# for 반복문,\n",
        "# 몇 번의 게임 : input()\n",
        "\n",
        "num = input(\"몇 번의 게임을 실행하시겠습니까 ? \")\n",
        "\n",
        "for i in range(0,int(num)):\n",
        "  lotto_num_six_pick = random.sample(range(1,46), 6)\n",
        "\n",
        "  # sort 함수 문법 (오름차순, 내림차순)\n",
        "  # https://wikidocs.net/16041\n",
        "  # lotto_num_six_pick.sort() # 코딩용, 실제 로또에서는 적용 X\n",
        "  # lotto_num_six_pick.sort(reverse=True) # 코딩용, 실제 로또에서는 적용 X\n",
        "  print(lotto_num_six_pick)"
      ],
      "id": "15896a0a",
      "execution_count": null,
      "outputs": [
        {
          "name": "stdout",
          "output_type": "stream",
          "text": [
            "몇 번의 게임을 실행하시겠습니까 ? 5\n",
            "[24, 20, 35, 44, 10, 16]\n",
            "[15, 3, 20, 26, 14, 1]\n",
            "[3, 11, 45, 12, 29, 14]\n",
            "[15, 43, 29, 17, 30, 39]\n",
            "[29, 11, 14, 43, 28, 30]\n"
          ]
        }
      ]
    },
    {
      "cell_type": "code",
      "metadata": {
        "id": "6e8ceecb",
        "outputId": "76012351-49c9-4289-966d-79653032b87f"
      },
      "source": [
        "import random\n",
        "\n",
        "cn = 'y'\n",
        "\n",
        "while(cn == 'y'):\n",
        "  num = input(\"몇 번의 게임을 실행하시겠습니까 ? \")\n",
        "\n",
        "  for i in range(0,int(num)):\n",
        "    lotto_num_six_pick = random.sample(range(1,46), 6)\n",
        "    # break : 자기의 부모의 반복문 1개를 빠져나감\n",
        "    print(lotto_num_six_pick)\n",
        "    \n",
        "  # continue # 아래로 실행 X, 부모의 반복문으로 바로 이동, # 비밀번호가 틀렸을 때\n",
        "\n",
        "  cn2 = input(\"끝내려면 대문자 Y를 입력하세요 : \")\n",
        "  if cn2 == 'Y':\n",
        "    # take a break : 휴식을 취하다\n",
        "    break # break : 자기의 부모의 반복문 1개를 빠져나감"
      ],
      "id": "6e8ceecb",
      "execution_count": null,
      "outputs": [
        {
          "name": "stdout",
          "output_type": "stream",
          "text": [
            "몇 번의 게임을 실행하시겠습니까 ? 5\n",
            "[44, 15, 12, 11, 21, 38]\n",
            "[7, 26, 27, 40, 15, 20]\n",
            "[18, 5, 22, 7, 38, 34]\n",
            "[38, 18, 23, 6, 5, 41]\n",
            "[23, 10, 11, 32, 20, 17]\n",
            "끝내려면 대문자 Y를 입력하세요 : Y\n"
          ]
        }
      ]
    },
    {
      "cell_type": "markdown",
      "metadata": {
        "id": "a98233bc"
      },
      "source": [
        "### **은행 비번 물어보기 (while, break, continue)**"
      ],
      "id": "a98233bc"
    },
    {
      "cell_type": "code",
      "metadata": {
        "id": "e3b6c058",
        "outputId": "8123403b-bf92-4f34-9c82-2197832be36a"
      },
      "source": [
        "cnt = 0\n",
        "\n",
        "while(cnt < 5) :\n",
        "\n",
        "  cpw = 1234\n",
        "  pw = input(\"패스워드 4자리를 입력하세요 : \")\n",
        "  pw = int(pw)\n",
        "\n",
        "  if pw == cpw :\n",
        "    print(\"접속되었습니다.\")\n",
        "    break\n",
        "  else :\n",
        "    print(\"비번이 틀렸습니다. 다시 확인해 주세요\")\n",
        "  cnt += 1\n",
        "  print(cnt)\n",
        "    \n",
        "if cnt == 5 :\n",
        "  print(\"비밀번호를 5번이상 틀리셨습니다. 영업점에 문의하여주세요\")\n"
      ],
      "id": "e3b6c058",
      "execution_count": null,
      "outputs": [
        {
          "name": "stdout",
          "output_type": "stream",
          "text": [
            "패스워드 4자리를 입력하세요 : 1111\n",
            "비번이 틀렸습니다. 다시 확인해 주세요\n",
            "1\n",
            "패스워드 4자리를 입력하세요 : 1122\n",
            "비번이 틀렸습니다. 다시 확인해 주세요\n",
            "2\n",
            "패스워드 4자리를 입력하세요 : 1233\n",
            "비번이 틀렸습니다. 다시 확인해 주세요\n",
            "3\n",
            "패스워드 4자리를 입력하세요 : 1111\n",
            "비번이 틀렸습니다. 다시 확인해 주세요\n",
            "4\n",
            "패스워드 4자리를 입력하세요 : 111111\n",
            "비번이 틀렸습니다. 다시 확인해 주세요\n",
            "5\n",
            "비밀번호를 5번이상 틀리셨습니다. 영업점에 문의하여주세요\n"
          ]
        }
      ]
    },
    {
      "cell_type": "markdown",
      "metadata": {
        "id": "86bb7f2a"
      },
      "source": [
        ""
      ],
      "id": "86bb7f2a"
    },
    {
      "cell_type": "code",
      "metadata": {
        "id": "e45fb8cd",
        "outputId": "a96a0ad6-3206-4e6a-dd34-4cef4bdb7b9c"
      },
      "source": [
        "def covid19_step():\n",
        "  yield 1\n",
        "  yield 2\n",
        "  yield 3\n",
        "  yield 4\n",
        "\n",
        "def action(step):\n",
        "  if step == 1:\n",
        "    return \"손을 잘 씻기입니다.\"\n",
        "  elif step == 2:\n",
        "    return \"6인 이상 모임을 금지합니다.\"\n",
        "  elif step == 3:\n",
        "    return \"4인 이상 모임을 금지합니다.\"\n",
        "  elif step == 4:\n",
        "    return \"2인 이상 모임을 금지합니다.\"\n",
        "  else:\n",
        "    return \"잘못 입력함\"\n",
        "\n",
        "output = covid19_step()\n",
        "\n",
        "a = next(output)\n",
        "action_result = action(a)\n",
        "print(str(a) + \"단계 생활수칙은 \", action_result )\n",
        "\n",
        "b = next(output)\n",
        "action_result = action(b)\n",
        "print(str(b) + \"단계 생활수칙은 \", action_result )\n",
        "\n",
        "c = next(output)\n",
        "action_result = action(c)\n",
        "print(str(c) + \"단계 생활수칙은 \", action_result )\n",
        "\n",
        "d = next(output)\n",
        "action_result = action(d)\n",
        "print(str(d) + \"단계 생활수칙은 \", action_result )"
      ],
      "id": "e45fb8cd",
      "execution_count": null,
      "outputs": [
        {
          "name": "stdout",
          "output_type": "stream",
          "text": [
            "1단계 생활수칙은  손을 잘 씻기입니다.\n",
            "2단계 생활수칙은  6인 이상 모임을 금지합니다.\n",
            "3단계 생활수칙은  4인 이상 모임을 금지합니다.\n",
            "4단계 생활수칙은  2인 이상 모임을 금지합니다.\n"
          ]
        }
      ]
    },
    {
      "cell_type": "markdown",
      "metadata": {
        "id": "07931964"
      },
      "source": [
        ""
      ],
      "id": "07931964"
    },
    {
      "cell_type": "code",
      "metadata": {
        "id": "f8107ce2",
        "outputId": "a03b5a6f-7f85-4a19-97af-7bc601920c77"
      },
      "source": [
        "jumin_collect = []\n",
        "\n",
        "people = input(\"인원수 : \")\n",
        "\n",
        "# jumin_collect= input(f\"{people}명의 주민번호를 입력하세요. 각각은 띄어쓰기로 구분하세요 : \").split()\n",
        "# print(jumin_collect)\n",
        "\n",
        "birth_years =[]\n",
        "\n",
        "jumin_collect= input(f\"{people}명의 주민번호를 입력하세요. 각각은 띄어쓰기로 구분하세요 : \").split()\n",
        "\n",
        "for jumin in jumin_collect: \n",
        "   if \"-\" in jumin:\n",
        "     jumin = jumin.replace(\"-\",\"\")\n",
        "     jumin_two = int(jumin[0:2])\n",
        "     # print(jumin)\n",
        "\n",
        "     # 80 => 슬라이싱 기법으로 2개를 따오고\n",
        "     # 80이면 1980으로 변환 # 조건 >= 30 19 / 조건 < 30 20이 붙어서 날짜 데이터가 되게 만들기 : 날짜 데이터 타입으로 형변환 : birth_year\n",
        "     if jumin_two >= 30:\n",
        "       birth_year = \"19\"+str(jumin_two)\n",
        "       birth_years.append(birth_year)\n",
        "     else:\n",
        "       if len(str(jumin_two)) != 13:\n",
        "         birth_year = \"20\" + \"0\" + str(jumin_two)\n",
        "         birth_years.append(birth_year)\n",
        "       else:\n",
        "         birth_year = \"20\"+str(jumin_two)\n",
        "         birth_years.append(birth_year)\n",
        "\n",
        "print(birth_years)\n",
        "print(type(birth_years[0]))\n"
      ],
      "id": "f8107ce2",
      "execution_count": null,
      "outputs": [
        {
          "name": "stdout",
          "output_type": "stream",
          "text": [
            "인원수 : 2\n"
          ]
        }
      ]
    },
    {
      "cell_type": "code",
      "metadata": {
        "id": "d5f88244"
      },
      "source": [
        ""
      ],
      "id": "d5f88244",
      "execution_count": null,
      "outputs": []
    }
  ]
}