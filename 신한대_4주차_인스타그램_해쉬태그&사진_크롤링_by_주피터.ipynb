{
  "nbformat": 4,
  "nbformat_minor": 0,
  "metadata": {
    "colab": {
      "name": "신한대_4주차_인스타그램 해쉬태그&사진 크롤링_by 주피터.ipynb",
      "provenance": [],
      "collapsed_sections": [
        "bmib1TEK4Nzq",
        "SfNJrvLEbZ9n",
        "Y4HEpRBqbrqI",
        "eNkJuacwbzOg",
        "zvIUvXRyb8Md",
        "taLIsQX9cDFH",
        "CsVQjCidcLwz",
        "C9FXm1i_cSB5",
        "j7iQkpO_cbA5",
        "ILg-POBgcfF_",
        "KNz1V4uVcmo_",
        "Mje4N2u9dRHV",
        "nERItphpd2g7",
        "fEg92nLAdr2K",
        "OrGTwr7zd9X9",
        "vUJdczuXedGR",
        "4TuLPO5NeDsR",
        "SwxMyJ-be6h5",
        "0qGmXnWefFcJ"
      ],
      "authorship_tag": "ABX9TyMyUJpN1sre/c46YeUmha5B",
      "include_colab_link": true
    },
    "kernelspec": {
      "name": "python3",
      "display_name": "Python 3"
    },
    "language_info": {
      "name": "python"
    }
  },
  "cells": [
    {
      "cell_type": "markdown",
      "metadata": {
        "id": "view-in-github",
        "colab_type": "text"
      },
      "source": [
        "<a href=\"https://colab.research.google.com/github/sdw1621/0_LG/blob/main/%EC%8B%A0%ED%95%9C%EB%8C%80_4%EC%A3%BC%EC%B0%A8_%EC%9D%B8%EC%8A%A4%ED%83%80%EA%B7%B8%EB%9E%A8_%ED%95%B4%EC%89%AC%ED%83%9C%EA%B7%B8%26%EC%82%AC%EC%A7%84_%ED%81%AC%EB%A1%A4%EB%A7%81_by_%EC%A3%BC%ED%94%BC%ED%84%B0.ipynb\" target=\"_parent\"><img src=\"https://colab.research.google.com/assets/colab-badge.svg\" alt=\"Open In Colab\"/></a>"
      ]
    },
    {
      "cell_type": "markdown",
      "metadata": {
        "id": "bmib1TEK4Nzq"
      },
      "source": [
        "### **1. 해시태그 문자 크롤링**"
      ]
    },
    {
      "cell_type": "markdown",
      "metadata": {
        "id": "SfNJrvLEbZ9n"
      },
      "source": [
        "####**1) 패키지 설치**"
      ]
    },
    {
      "cell_type": "code",
      "metadata": {
        "id": "uxXYQbm24kD6"
      },
      "source": [
        "!pip install selenium"
      ],
      "execution_count": null,
      "outputs": []
    },
    {
      "cell_type": "code",
      "metadata": {
        "id": "Z4yhUUwU5Wxd"
      },
      "source": [
        "!pip install pytagcloud"
      ],
      "execution_count": null,
      "outputs": []
    },
    {
      "cell_type": "code",
      "metadata": {
        "id": "AbDE1svR5YB0"
      },
      "source": [
        "!pip install pygame"
      ],
      "execution_count": null,
      "outputs": []
    },
    {
      "cell_type": "code",
      "metadata": {
        "id": "PGKWTsQZ5ZA9"
      },
      "source": [
        "!pip install simplejson"
      ],
      "execution_count": null,
      "outputs": []
    },
    {
      "cell_type": "code",
      "metadata": {
        "id": "vdAe2kDh5aT_"
      },
      "source": [
        "pip install chromedriver-autoinstaller"
      ],
      "execution_count": null,
      "outputs": []
    },
    {
      "cell_type": "markdown",
      "metadata": {
        "id": "jUJ0tO6PbeW2"
      },
      "source": [
        "####**2) 크롬 드라이브 자동 설치(브라우저 버전에 따라)**"
      ]
    },
    {
      "cell_type": "code",
      "metadata": {
        "id": "n_B_mi9P5bnF"
      },
      "source": [
        "from selenium import webdriver\n",
        "import chromedriver_autoinstaller\n",
        "\n",
        "chrome_ver = chromedriver_autoinstaller.get_chrome_version().split('.')[0]  #크롬드라이버 버전 확인\n",
        "\n",
        "try:\n",
        "    driver = webdriver.Chrome(f'./{chrome_ver}/chromedriver.exe')   \n",
        "except:\n",
        "    chromedriver_autoinstaller.install(True)\n",
        "    driver = webdriver.Chrome(f'./{chrome_ver}/chromedriver.exe')\n",
        "\n",
        "driver.implicitly_wait(10)"
      ],
      "execution_count": null,
      "outputs": []
    },
    {
      "cell_type": "markdown",
      "metadata": {
        "id": "Y4HEpRBqbrqI"
      },
      "source": [
        "####**3) 설치된 패키지 로딩**"
      ]
    },
    {
      "cell_type": "code",
      "metadata": {
        "id": "BBFIn5bf5ctp"
      },
      "source": [
        "import requests\n",
        "from selenium import webdriver as wd\n",
        "import time\n",
        "import re\n",
        "import pytagcloud"
      ],
      "execution_count": null,
      "outputs": []
    },
    {
      "cell_type": "markdown",
      "metadata": {
        "id": "eNkJuacwbzOg"
      },
      "source": [
        "####**4) 크롬 브라우저에 인스타그램 홈페이지 띄우기**"
      ]
    },
    {
      "cell_type": "code",
      "metadata": {
        "id": "CdMgMiBh5d5H"
      },
      "source": [
        "driver.get('https://www.instagram.com/')"
      ],
      "execution_count": null,
      "outputs": []
    },
    {
      "cell_type": "markdown",
      "metadata": {
        "id": "zvIUvXRyb8Md"
      },
      "source": [
        "####**5) 인스타그램 홈페이지 로그인**"
      ]
    },
    {
      "cell_type": "code",
      "metadata": {
        "id": "yyj7Ft2t5fOz"
      },
      "source": [
        "# 아이디\n",
        "username = 'sdw1904@naver.com'\n",
        "\n",
        "# 패스워드\n",
        "password = 'dwShin1004@@'\n",
        "\n",
        "elem_login = driver.find_element_by_name(\"username\") # 인스타그램 홈페이지의 로그인 영역\n",
        "elem_password = driver.find_element_by_name(\"password\") # 인스타그램 홈페이지의 패스워드 영역\n",
        "\n",
        "elem_login.clear()\n",
        "elem_password.clear()\n",
        "\n",
        "elem_login.send_keys(username)\n",
        "elem_password.send_keys(password)\n",
        "\n",
        "# 로그인 버튼 누르기 (xpath)\n",
        "elem_login_xpath = driver.find_element_by_xpath('//*[@id=\"loginForm\"]/div/div[3]/button')\n",
        "elem_login_xpath.click()\n",
        "\n",
        "time.sleep(3)"
      ],
      "execution_count": null,
      "outputs": []
    },
    {
      "cell_type": "markdown",
      "metadata": {
        "id": "taLIsQX9cDFH"
      },
      "source": [
        "####**6) 나중에 하기 버튼 누르기 (css_select)**"
      ]
    },
    {
      "cell_type": "code",
      "metadata": {
        "id": "dpEqnIih5gfT"
      },
      "source": [
        "elem_later_css = driver.find_element_by_css_selector('#react-root > section > main > div > div > div > div > button')\n",
        "elem_later_css.click()\n",
        "\n",
        "time.sleep(3)"
      ],
      "execution_count": null,
      "outputs": []
    },
    {
      "cell_type": "markdown",
      "metadata": {
        "id": "CsVQjCidcLwz"
      },
      "source": [
        "####**7) 알림 설정 팝업 - 나중에 하기 버튼 누르기 (css_select)**"
      ]
    },
    {
      "cell_type": "code",
      "metadata": {
        "id": "voFoPf_t5hiV"
      },
      "source": [
        "elem_later_css2 = driver.find_element_by_css_selector('body > div.RnEpo.Yx5HN > div > div > div > div.mt3GC > button.aOOlW.HoLwm')\n",
        "elem_later_css2.click()\n",
        "\n",
        "time.sleep(3)"
      ],
      "execution_count": null,
      "outputs": []
    },
    {
      "cell_type": "markdown",
      "metadata": {
        "id": "C9FXm1i_cSB5"
      },
      "source": [
        "####**8) 검색하고 싶은 해시 태그(키워드) 검색**"
      ]
    },
    {
      "cell_type": "code",
      "metadata": {
        "id": "d3aF-mun5ijn"
      },
      "source": [
        "keyword = input(\"검색하고 싶은 키워드를 입력하세요 : \")\n",
        "\n",
        "# https://www.instagram.com/explore/tags/이패스\n",
        "# https://www.instagram.com/explore/tags/에스파\n",
        "\n",
        "url = 'https://www.instagram.com/explore/tags/' + keyword\n",
        "\n",
        "driver.get(url)\n",
        "\n",
        "time.sleep(5)"
      ],
      "execution_count": null,
      "outputs": []
    },
    {
      "cell_type": "markdown",
      "metadata": {
        "id": "j7iQkpO_cbA5"
      },
      "source": [
        "####**9) 첫 번째 게시물 클릭**"
      ]
    },
    {
      "cell_type": "code",
      "metadata": {
        "id": "Tlv5aArn5j3B"
      },
      "source": [
        "first_post = driver.find_element_by_css_selector('.v1Nh3.kIKUG._bz0w')\n",
        "first_post.click()\n",
        "\n",
        "time.sleep(3)"
      ],
      "execution_count": null,
      "outputs": []
    },
    {
      "cell_type": "markdown",
      "metadata": {
        "id": "ILg-POBgcfF_"
      },
      "source": [
        "####**10) 해시 태그 문자 가져오기**"
      ]
    },
    {
      "cell_type": "code",
      "metadata": {
        "id": "hg4Zo7095ktX"
      },
      "source": [
        "data = driver.find_element_by_css_selector('.C4VMK')\n",
        "tag_raw = data.text\n",
        "\n",
        "# print(tag_raw)\n",
        "\n",
        "tags = re.findall('#[A-Za-z0-9가-힣]+', tag_raw)\n",
        "print(tags)\n",
        "\n",
        "tag = ''.join(tags).replace(\"#\",\" \")\n",
        "print(tag)\n",
        "\n",
        "tag_data = tag.split()\n",
        "print(tag_data)"
      ],
      "execution_count": null,
      "outputs": []
    },
    {
      "cell_type": "markdown",
      "metadata": {
        "id": "KNz1V4uVcmo_"
      },
      "source": [
        "####**11-1) 여러 페이지에서 해시 태그 문자 수집하기 (다음 버튼 X)**"
      ]
    },
    {
      "cell_type": "code",
      "metadata": {
        "id": "ai8kvcdc5l6P"
      },
      "source": [
        "post_count = input(\"몇 개의 게시물을 수집할까요? : \")\n",
        "\n",
        "post_count = int(post_count)\n",
        "\n",
        "for i in range(post_count):\n",
        "    \n",
        "    print(\"\\n\"+ str(i+1) + \"번째 게시물을 수집하고 있습니다.\\n\")\n",
        "    \n",
        "    time.sleep(3)\n",
        "    \n",
        "    data = driver.find_element_by_css_selector('.C4VMK')\n",
        "    tag_raw = data.text\n",
        "\n",
        "    # print(tag_raw)\n",
        "\n",
        "    tags = re.findall('#[A-Za-z0-9가-힣]+', tag_raw)\n",
        "    # print(tags)\n",
        "\n",
        "    tag = ''.join(tags).replace(\"#\",\" \")\n",
        "    # print(tag)\n",
        "\n",
        "    tag_data = tag.split()\n",
        "    print(tag_data)"
      ],
      "execution_count": null,
      "outputs": []
    },
    {
      "cell_type": "markdown",
      "metadata": {
        "id": "Mje4N2u9dRHV"
      },
      "source": [
        "####**11-2) 여러 페이지에서 해시 태그 문자 수집하기 (다음 버튼 O)**"
      ]
    },
    {
      "cell_type": "code",
      "metadata": {
        "id": "qjcYJIvk5oZR"
      },
      "source": [
        "\n",
        "\n",
        "post_count = input(\"몇 개의 게시물을 수집할까요? : \")\n",
        "\n",
        "post_count = int(post_count)\n",
        "\n",
        "for i in range(post_count):\n",
        "    \n",
        "    print(\"\\n\"+ str(i+1) + \"번째 게시물을 수집하고 있습니다.\\n\")\n",
        "    \n",
        "    time.sleep(3)\n",
        "    \n",
        "    data = driver.find_element_by_css_selector('.C4VMK')\n",
        "    tag_raw = data.text\n",
        "\n",
        "    # print(tag_raw)\n",
        "\n",
        "    tags = re.findall('#[A-Za-z0-9가-힣]+', tag_raw)\n",
        "    # print(tags)\n",
        "\n",
        "    tag = ''.join(tags).replace(\"#\",\" \")\n",
        "    # print(tag)\n",
        "\n",
        "    tag_data = tag.split()\n",
        "    print(tag_data)\n",
        "    \n",
        "    right_arrow_button = driver.find_element_by_css_selector('a._65Bje.coreSpriteRightPaginationArrow')\n",
        "    right_arrow_button.click()"
      ],
      "execution_count": null,
      "outputs": []
    },
    {
      "cell_type": "markdown",
      "metadata": {
        "id": "nERItphpd2g7"
      },
      "source": [
        "####**11-3) 여러 페이지에서 해시 태그 문자 수집하기 (아웃풋 창 출력)** "
      ]
    },
    {
      "cell_type": "code",
      "metadata": {
        "id": "-1P82w2F5pwt"
      },
      "source": [
        "instagram_tags = []\n",
        "\n",
        "for tag_one in tag_data:\n",
        "    instagram_tags.append(tag_one)\n",
        "    \n",
        "print(instagram_tags)"
      ],
      "execution_count": null,
      "outputs": []
    },
    {
      "cell_type": "markdown",
      "metadata": {
        "id": "fEg92nLAdr2K"
      },
      "source": [
        "####**11-4) 여러 페이지에서 해시 태그 문자 수집하기 (다음 버튼 O + 아웃풋 창 출력)** "
      ]
    },
    {
      "cell_type": "code",
      "metadata": {
        "id": "zGknzTAv5q4P"
      },
      "source": [
        "post_count = input(\"몇 개의 게시물을 수집할까요? : \")\n",
        "\n",
        "post_count = int(post_count)\n",
        "\n",
        "instagram_tags = []\n",
        "\n",
        "for i in range(post_count):\n",
        "    \n",
        "    print(\"\\n\"+ str(i+1) + \"번째 게시물을 수집하고 있습니다.\\n\")\n",
        "    \n",
        "    time.sleep(3)\n",
        "    \n",
        "    datas = driver.find_elements_by_css_selector('.C4VMK > span > a.xil3i') # 해쉬태그들만 수집\n",
        "    \n",
        "    for data in datas:\n",
        "        tag_raw = data.text\n",
        "        # print(tag_raw)\n",
        "\n",
        "        # tags = re.findall('#[A-Za-z0-9가-힣]+', tag_raw)\n",
        "        # print(tags)\n",
        "\n",
        "        tag = ''.join(tag_raw).replace(\"#\",\" \")\n",
        "        # print(tag)\n",
        "\n",
        "        tag_data = tag.split()\n",
        "        print(tag_data)\n",
        "\n",
        "        for tag_one in tag_data:\n",
        "            instagram_tags.append(tag_one)\n",
        "\n",
        "    right_arrow_button = driver.find_element_by_css_selector('a._65Bje.coreSpriteRightPaginationArrow')\n",
        "    right_arrow_button.click()\n",
        "    \n",
        "print(\"\\n 최종 인스타그램 태그 크롤링 결과 : \", instagram_tags)"
      ],
      "execution_count": null,
      "outputs": []
    },
    {
      "cell_type": "markdown",
      "metadata": {
        "id": "OrGTwr7zd9X9"
      },
      "source": [
        "####**12) 불용어 처리**"
      ]
    },
    {
      "cell_type": "code",
      "metadata": {
        "id": "0ysFHOw_5ujp"
      },
      "source": [
        "# 불용어 : 안 쓰는 언어를 삭제\n",
        "# 에스파, AESPA 등\n",
        "\n",
        "stop_words = ['에스파', 'AESPA', '에스파', 'aespa', 'æspa']\n",
        "\n",
        "instagram_tags_stop_words = [word for word in instagram_tags if word not in stop_words]\n",
        "print(instagram_tags_stop_words)"
      ],
      "execution_count": null,
      "outputs": []
    },
    {
      "cell_type": "markdown",
      "metadata": {
        "id": "vUJdczuXedGR"
      },
      "source": [
        "####**13) 불용어 처리 후 판다스 패키지를 통해 엑셀 저장**"
      ]
    },
    {
      "cell_type": "code",
      "metadata": {
        "id": "rGUiyWGoX6bo"
      },
      "source": [
        "import pandas as pd\n",
        "\n",
        "df = pd.DataFrame(instagram_tags)\n",
        "\n",
        "df.column = '댓글'\n",
        "\n",
        "# 코드가 존재하는 폴더 내에 엑셀 파일 생성\n",
        "df.to_excel(\"./인스타그램_댓글만크롤링결과.xlsx\", index=False)"
      ],
      "execution_count": null,
      "outputs": []
    },
    {
      "cell_type": "markdown",
      "metadata": {
        "id": "4TuLPO5NeDsR"
      },
      "source": [
        "####**14-1) 키워드별 갯수 확인 - 워드 클라우드(스타일) 그리기 1**"
      ]
    },
    {
      "cell_type": "code",
      "metadata": {
        "id": "mmNhVS075wMP"
      },
      "source": [
        "# collections 패키지로부터 단어의 출현 횟수 \n",
        "\n",
        "from collections import Counter\n",
        "\n",
        "count = Counter(instagram_tags_stop_words)\n",
        "\n",
        "print(count)"
      ],
      "execution_count": null,
      "outputs": []
    },
    {
      "cell_type": "markdown",
      "metadata": {
        "id": "SwxMyJ-be6h5"
      },
      "source": [
        "####**14-2) stylecloud 패키지 설치**"
      ]
    },
    {
      "cell_type": "code",
      "metadata": {
        "id": "C0b49dW55y0n"
      },
      "source": [
        "!pip install stylecloud"
      ],
      "execution_count": null,
      "outputs": []
    },
    {
      "cell_type": "markdown",
      "metadata": {
        "id": "0qGmXnWefFcJ"
      },
      "source": [
        "####**14-3) stylecloud로 그림 그리기**"
      ]
    },
    {
      "cell_type": "code",
      "metadata": {
        "id": "Kr05XCEM53RS"
      },
      "source": [
        "# 워드클라우드(스타일 클라우드)\n",
        "# https://towardsdatascience.com/generate-modern-stylish-wordcloud-with-stylecloud-9cbb059696d2\n",
        "\n",
        "# Colorbrewer : Diverging\n",
        "# https://jiffyclub.github.io/palettable/colorbrewer/diverging/#spectral_11\n",
        "\n",
        "# [python] style cloud 설정\n",
        "# https://ngio.co.kr/9345\n",
        "\n",
        "import stylecloud\n",
        "\n",
        "stylecloud.gen_stylecloud(text = count,\n",
        "                          output_name = './에스파_인스타.png',\n",
        "                          font_path = \"c:/Windows/fonts/batang.ttc\",\n",
        "                          icon_name = \"fab fa-twitter\",\n",
        "                          palette = \"colorbrewer.diverging.Spectral_11\",\n",
        "                          background_color = 'black',\n",
        "                          gradient = 'horizontal')"
      ],
      "execution_count": null,
      "outputs": []
    },
    {
      "cell_type": "markdown",
      "metadata": {
        "id": "cp-E7JM-4WXI"
      },
      "source": [
        "###**2. 해시태그 사진 크롤링**"
      ]
    },
    {
      "cell_type": "markdown",
      "metadata": {
        "id": "4dJz9ixbfhDP"
      },
      "source": [
        "####**1) 패키지 설치**"
      ]
    },
    {
      "cell_type": "code",
      "metadata": {
        "id": "Kwvs2xKi4YWE"
      },
      "source": [
        "from selenium import webdriver\n",
        "from selenium.webdriver.common.keys import Keys\n",
        "\n",
        "from selenium.webdriver.common.by import By\n",
        "from selenium.webdriver.support.ui import WebDriverWait\n",
        "from selenium.webdriver.support import expected_conditions as EC\n",
        "\n",
        "from getpass import getpass\n",
        "import time, os\n",
        "\n",
        "import urllib.request"
      ],
      "execution_count": null,
      "outputs": []
    },
    {
      "cell_type": "markdown",
      "metadata": {
        "id": "s69C6qVefu8D"
      },
      "source": [
        "####**2) 크롬 드라이브 자동 설치(브라우저 버전에 따라)**"
      ]
    },
    {
      "cell_type": "code",
      "metadata": {
        "id": "AaezYJQf4pWF"
      },
      "source": [
        "# 크롬 브라우저 버전에 따라 스스로 크롬드라이버를 다운로드해서 가져오기\n",
        "# 라이브러리 불러오기\n",
        "import chromedriver_autoinstaller\n",
        "from selenium import webdriver\n",
        "\n",
        "# 크롬 드라이버 버전 확인\n",
        "# chrome_ver = chromedriver_autoinstaller.get_chrome_version()\n",
        "# print(chrome_ver)\n",
        "\n",
        "chrome_ver = chromedriver_autoinstaller.get_chrome_version().split('.')[0]\n",
        "print(chrome_ver)\n",
        "\n",
        "# 브라우저 열기\n",
        "try:\n",
        "    driver = webdriver.Chrome(f'./{chrome_ver}/chromedriver.exe')\n",
        "except:\n",
        "    chromedriver_autoinstaller.install(True)\n",
        "    driver = webdriver.Chrome(f'./{chrome_ver}/chromedriver.exe')\n",
        "\n",
        "driver.implicitly_wait(10)\n",
        "# ----------------------------------------------------------------------------------\n",
        "# 실행결과 : 실행하면 빈 브라우저가 열립니다.\n",
        "# ----------------------------------------------------------------------------------"
      ],
      "execution_count": null,
      "outputs": []
    },
    {
      "cell_type": "markdown",
      "metadata": {
        "id": "81OhJJ7jgTe0"
      },
      "source": [
        "####**3-1) 로그인 함수**"
      ]
    },
    {
      "cell_type": "code",
      "metadata": {
        "id": "noXCOdnh4qo1"
      },
      "source": [
        "def login(ID, PW):    \n",
        "    #### 로그인하는 함수 ###\n",
        "    \n",
        "    # 로그인 하는 코드\n",
        "    driver.get(\"https://instagram.com/\") # 주소로 이동하라는 것 get\n",
        "    username = WebDriverWait(driver, 20).until(EC.visibility_of_element_located((By.NAME, \"username\")))\n",
        "    username.send_keys(ID)\n",
        "    password = WebDriverWait(driver, 20).until(EC.visibility_of_element_located((By.NAME, \"password\")))\n",
        "    password.send_keys(PW)\n",
        "    password.send_keys(Keys.ENTER)\n",
        "\n",
        "    # 나중에 하기 누르는 코드\n",
        "    \n",
        "    WebDriverWait(driver, 20).until(EC.visibility_of_element_located((By.XPATH, '//button[text()=\"나중에 하기\"]/..'))).click()\n",
        "    WebDriverWait(driver, 20).until(EC.visibility_of_element_located((By.CLASS_NAME, \"HoLwm\"))).click()\n",
        "    print(\"로그인완료\")\n",
        "\n",
        "    return driver"
      ],
      "execution_count": null,
      "outputs": []
    },
    {
      "cell_type": "markdown",
      "metadata": {
        "id": "dPkYWN0MgasY"
      },
      "source": [
        "####**3-2) 태그 검색하는 코드**"
      ]
    },
    {
      "cell_type": "code",
      "metadata": {
        "id": "EIxU7zNn4r6T"
      },
      "source": [
        "def find_tag(driver, TagName):\n",
        "    ##태그를 검색하는 코드##\n",
        "    driver.get(f\"https://www.instagram.com/explore/tags/{TagName}/\") # 주소로 이동하라는 것 get"
      ],
      "execution_count": null,
      "outputs": []
    },
    {
      "cell_type": "markdown",
      "metadata": {
        "id": "Hfvw3beigdzh"
      },
      "source": [
        "####**3-3) 각 포스트의 URL주소 수집하는 함수**"
      ]
    },
    {
      "cell_type": "code",
      "metadata": {
        "id": "qXsyVkz14s59"
      },
      "source": [
        "def get_posturl(driver,scroll_num=1):\n",
        "    # 각 포스트의 URL주소 수집하는 함수\n",
        "\n",
        "    #scroll_num은 스크롤 내리는 동작을 몇번 할건지       \n",
        "    url_list = []\n",
        "    for i in range(scroll_num):\n",
        "        elems=driver.find_elements_by_xpath('//*[contains(@href, \"/p/\")]')\n",
        "\n",
        "        for elem in elems:          \n",
        "            url_list.append(elem.get_attribute(\"href\"))    \n",
        "\n",
        "        driver.execute_script(\"window.scrollTo(0,document.body.scrollHeight)\")  # 스크롤 내리는 동작\n",
        "        time.sleep(4) # 스크롤 내리고 로딩하는 시간\n",
        "\n",
        "    url_list = list(set(url_list)) # 중복 URL 제거\n",
        "    \n",
        "    return url_list\n"
      ],
      "execution_count": null,
      "outputs": []
    },
    {
      "cell_type": "markdown",
      "metadata": {
        "id": "2hJH4VvDgi6D"
      },
      "source": [
        "####**3-3) get_posturl 함수로 얻은 포스트 주소에 접근하여 각 이미지의 주소를 수집하는 함수**"
      ]
    },
    {
      "cell_type": "code",
      "metadata": {
        "id": "la-PYISi4uEy"
      },
      "source": [
        "def get_imgurl(driver,url):\n",
        "    # get_posturl 함수로 얻은 포스트 주소에 접근하여 각 이미지의 주소를 수집하는 함수\n",
        "\n",
        "    driver.get(url)\n",
        "    time.sleep(3)\n",
        "    photo_list = []\n",
        "    \n",
        "    #옆으로 가기 누르면서 주소 수집 하는 부분\n",
        "    try:\n",
        "        # 12번 옆으로 가기 누른다는 뜻 일부러 에러를 내서 이 기능에서 탈출\n",
        "        for i in range(11):              \n",
        "\n",
        "            # 이미지 주소가 있는 엘리먼트 찾는 부분              \n",
        "            elems = WebDriverWait(driver, 10).until(EC.visibility_of_all_elements_located((By.XPATH, \"//div[@class='KL4Bh' and @style]/img[contains(@src,1080) or contains(@alt,'Photo') or contains(@src,'scontent')]\"))) \n",
        "            for elem in elems:\n",
        "                photo_list.append(elem.get_attribute(\"src\"))\n",
        "     \n",
        "            # 옆으로 가는 거 클릭               \n",
        "            driver.find_element_by_xpath(\"//button[contains(@class, '6CZ')]/div\").click()     \n",
        "            print(f'{i+1}번째 옆으로가기')        \n",
        "      \n",
        "    except:        \n",
        "        photo_list = list(set(photo_list)) \n",
        "        print(f'현재 포스트에서 {len(photo_list)}개의 사진주소 수집')      \n",
        "        if len(photo_list)==0:\n",
        "            print(url)    \n",
        "        return photo_list\n"
      ],
      "execution_count": null,
      "outputs": []
    },
    {
      "cell_type": "markdown",
      "metadata": {
        "id": "zoYzHPxwgqsh"
      },
      "source": [
        "####**3-4) 이미지 저장하는 함수**"
      ]
    },
    {
      "cell_type": "code",
      "metadata": {
        "id": "oPnmkVRh4wdK"
      },
      "source": [
        "def save_photo(driver, url_list,folder='photo',filename='a'):\n",
        "    # 이미지 저장하는 함수\n",
        "    photo_list=[]\n",
        "\n",
        "    #photo_list의 각 포스트에 있는 이미지의 주소를 리스트 형태로 저장함\n",
        "    print(\"이미지 주소 수집 시작\")\n",
        "    for url in url_list:\n",
        "        photo_list += get_imgurl(driver,url)\n",
        "    print(\"이미지 주소 수집 끝\")\n",
        "\n",
        "    # 저장할 폴더 생성\n",
        "    if not os.path.exists(folder):\n",
        "        print(\"저장 폴더 생성\")\n",
        "        os.mkdir(folder)\n",
        "\n",
        "    #photo_list에 있는 이미지 주소를 저장하는 구간\n",
        "    print(\"이미지 저장 시작\")\n",
        "    for i, photo in enumerate(photo_list):  \n",
        "        if photo != None:   #주소가 수집이 안될경우 에러 발생 방지     \n",
        "            urllib.request.urlretrieve(photo,f'./{folder}/{filename}{i+1}.jpg')  #  여기서 에러 발생, 주소가 수집이 되지 않아 에러 발생함 \n",
        "        else:                \n",
        "            pass\n",
        "    print(f\"{len(photo_list)}개 사진저장 끝\")"
      ],
      "execution_count": null,
      "outputs": []
    },
    {
      "cell_type": "markdown",
      "metadata": {
        "id": "d1oqLjyYgzre"
      },
      "source": [
        "####**4) 함수 실행**"
      ]
    },
    {
      "cell_type": "code",
      "metadata": {
        "id": "P5tEk6Nb4xjb"
      },
      "source": [
        "if __name__ == \"__main__\":\n",
        "    # 인스타그램 아이디/비번\n",
        "    # ID :  sdw1904@naver.com\n",
        "    # PW : dwShin1004@@\n",
        "    ID = input(\"아이디를 입력해주세요: \")\n",
        "    pw = getpass(\"비밀번호를 입력후 엔터: \")\n",
        "\n",
        "    driver = login(ID, pw)\n",
        "                                                                                             \n",
        "    # 세종사이버대맛집\n",
        "    tag = input(\"검색할 태그를 입력해주세요: \")\n",
        "    find_tag(driver, tag)\n",
        "\n",
        "    url_list = get_posturl(driver,scroll_num=2)\n",
        "    save_photo(driver,url_list=url_list,folder=tag,filename=tag)\n",
        "\n",
        "    driver.quit()"
      ],
      "execution_count": null,
      "outputs": []
    }
  ]
}