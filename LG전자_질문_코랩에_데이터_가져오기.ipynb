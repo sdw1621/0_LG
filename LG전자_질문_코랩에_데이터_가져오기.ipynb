{
  "nbformat": 4,
  "nbformat_minor": 0,
  "metadata": {
    "colab": {
      "name": "LG전자_질문_코랩에 데이터 가져오기.ipynb",
      "provenance": [],
      "collapsed_sections": [],
      "authorship_tag": "ABX9TyMW+rrk+mb4pQh32P9JfEP+",
      "include_colab_link": true
    },
    "kernelspec": {
      "name": "python3",
      "display_name": "Python 3"
    },
    "language_info": {
      "name": "python"
    }
  },
  "cells": [
    {
      "cell_type": "markdown",
      "metadata": {
        "id": "view-in-github",
        "colab_type": "text"
      },
      "source": [
        "<a href=\"https://colab.research.google.com/github/sdw1621/0_LG/blob/main/LG%EC%A0%84%EC%9E%90_%EC%A7%88%EB%AC%B8_%EC%BD%94%EB%9E%A9%EC%97%90_%EB%8D%B0%EC%9D%B4%ED%84%B0_%EA%B0%80%EC%A0%B8%EC%98%A4%EA%B8%B0.ipynb\" target=\"_parent\"><img src=\"https://colab.research.google.com/assets/colab-badge.svg\" alt=\"Open In Colab\"/></a>"
      ]
    },
    {
      "cell_type": "code",
      "metadata": {
        "colab": {
          "base_uri": "https://localhost:8080/"
        },
        "id": "p-nJbvmehKo4",
        "outputId": "e1bcaf59-3890-4601-e4be-14b96c6a1608"
      },
      "source": [
        "# google drive 마운트하기\n",
        "from google.colab import drive\n",
        "drive.mount('/content/drive')"
      ],
      "execution_count": 1,
      "outputs": [
        {
          "output_type": "stream",
          "name": "stdout",
          "text": [
            "Mounted at /content/drive\n"
          ]
        }
      ]
    },
    {
      "cell_type": "code",
      "metadata": {
        "colab": {
          "base_uri": "https://localhost:8080/"
        },
        "id": "Q-QGNOLLhLc9",
        "outputId": "96d56919-3e90-41c6-c390-6f00164c6d45"
      },
      "source": [
        "cd /content/drive/MyDrive/0_LG (1)"
      ],
      "execution_count": 5,
      "outputs": [
        {
          "output_type": "stream",
          "name": "stdout",
          "text": [
            "/content/drive/MyDrive/0_LG (1)\n"
          ]
        }
      ]
    },
    {
      "cell_type": "code",
      "metadata": {
        "id": "nfexTaRvhzPG"
      },
      "source": [
        "import pandas as pd"
      ],
      "execution_count": 7,
      "outputs": []
    },
    {
      "cell_type": "code",
      "metadata": {
        "colab": {
          "base_uri": "https://localhost:8080/",
          "height": 582
        },
        "id": "7CTuiX3lhc6l",
        "outputId": "6bb828d9-bb66-40fa-92a3-75c44c398585"
      },
      "source": [
        "result = pd.read_csv('/content/drive/MyDrive/0_LG (1)/population_2020.csv')\n",
        "result"
      ],
      "execution_count": 9,
      "outputs": [
        {
          "output_type": "execute_result",
          "data": {
            "text/html": [
              "<div>\n",
              "<style scoped>\n",
              "    .dataframe tbody tr th:only-of-type {\n",
              "        vertical-align: middle;\n",
              "    }\n",
              "\n",
              "    .dataframe tbody tr th {\n",
              "        vertical-align: top;\n",
              "    }\n",
              "\n",
              "    .dataframe thead th {\n",
              "        text-align: right;\n",
              "    }\n",
              "</style>\n",
              "<table border=\"1\" class=\"dataframe\">\n",
              "  <thead>\n",
              "    <tr style=\"text-align: right;\">\n",
              "      <th></th>\n",
              "      <th>행정구역</th>\n",
              "      <th>2020년02월_총인구수</th>\n",
              "      <th>2020년02월_세대수</th>\n",
              "      <th>2020년02월_세대당 인구</th>\n",
              "      <th>2020년02월_남자 인구수</th>\n",
              "      <th>2020년02월_여자 인구수</th>\n",
              "      <th>2020년02월_남여 비율</th>\n",
              "    </tr>\n",
              "  </thead>\n",
              "  <tbody>\n",
              "    <tr>\n",
              "      <th>0</th>\n",
              "      <td>서울특별시  (1100000000)</td>\n",
              "      <td>9,736,962</td>\n",
              "      <td>4,345,877</td>\n",
              "      <td>2.24</td>\n",
              "      <td>4,745,133</td>\n",
              "      <td>4,991,829</td>\n",
              "      <td>0.95</td>\n",
              "    </tr>\n",
              "    <tr>\n",
              "      <th>1</th>\n",
              "      <td>부산광역시  (2600000000)</td>\n",
              "      <td>3,410,925</td>\n",
              "      <td>1,502,333</td>\n",
              "      <td>2.27</td>\n",
              "      <td>1,673,266</td>\n",
              "      <td>1,737,659</td>\n",
              "      <td>0.96</td>\n",
              "    </tr>\n",
              "    <tr>\n",
              "      <th>2</th>\n",
              "      <td>대구광역시  (2700000000)</td>\n",
              "      <td>2,432,883</td>\n",
              "      <td>1,033,349</td>\n",
              "      <td>2.35</td>\n",
              "      <td>1,202,364</td>\n",
              "      <td>1,230,519</td>\n",
              "      <td>0.98</td>\n",
              "    </tr>\n",
              "    <tr>\n",
              "      <th>3</th>\n",
              "      <td>인천광역시  (2800000000)</td>\n",
              "      <td>2,954,955</td>\n",
              "      <td>1,242,107</td>\n",
              "      <td>2.38</td>\n",
              "      <td>1,481,133</td>\n",
              "      <td>1,473,822</td>\n",
              "      <td>1.00</td>\n",
              "    </tr>\n",
              "    <tr>\n",
              "      <th>4</th>\n",
              "      <td>광주광역시  (2900000000)</td>\n",
              "      <td>1,456,121</td>\n",
              "      <td>618,503</td>\n",
              "      <td>2.35</td>\n",
              "      <td>720,686</td>\n",
              "      <td>735,435</td>\n",
              "      <td>0.98</td>\n",
              "    </tr>\n",
              "    <tr>\n",
              "      <th>5</th>\n",
              "      <td>대전광역시  (3000000000)</td>\n",
              "      <td>1,473,125</td>\n",
              "      <td>637,726</td>\n",
              "      <td>2.31</td>\n",
              "      <td>735,791</td>\n",
              "      <td>737,334</td>\n",
              "      <td>1.00</td>\n",
              "    </tr>\n",
              "    <tr>\n",
              "      <th>6</th>\n",
              "      <td>울산광역시  (3100000000)</td>\n",
              "      <td>1,145,710</td>\n",
              "      <td>469,551</td>\n",
              "      <td>2.44</td>\n",
              "      <td>588,626</td>\n",
              "      <td>557,084</td>\n",
              "      <td>1.06</td>\n",
              "    </tr>\n",
              "    <tr>\n",
              "      <th>7</th>\n",
              "      <td>세종특별자치시  (3600000000)</td>\n",
              "      <td>343,788</td>\n",
              "      <td>136,629</td>\n",
              "      <td>2.52</td>\n",
              "      <td>171,403</td>\n",
              "      <td>172,385</td>\n",
              "      <td>0.99</td>\n",
              "    </tr>\n",
              "    <tr>\n",
              "      <th>8</th>\n",
              "      <td>경기도  (4100000000)</td>\n",
              "      <td>13,265,377</td>\n",
              "      <td>5,497,087</td>\n",
              "      <td>2.41</td>\n",
              "      <td>6,672,706</td>\n",
              "      <td>6,592,671</td>\n",
              "      <td>1.01</td>\n",
              "    </tr>\n",
              "    <tr>\n",
              "      <th>9</th>\n",
              "      <td>강원도  (4200000000)</td>\n",
              "      <td>1,539,521</td>\n",
              "      <td>721,003</td>\n",
              "      <td>2.14</td>\n",
              "      <td>774,358</td>\n",
              "      <td>765,163</td>\n",
              "      <td>1.01</td>\n",
              "    </tr>\n",
              "    <tr>\n",
              "      <th>10</th>\n",
              "      <td>충청북도  (4300000000)</td>\n",
              "      <td>1,598,599</td>\n",
              "      <td>723,931</td>\n",
              "      <td>2.21</td>\n",
              "      <td>809,805</td>\n",
              "      <td>788,794</td>\n",
              "      <td>1.03</td>\n",
              "    </tr>\n",
              "    <tr>\n",
              "      <th>11</th>\n",
              "      <td>충청남도  (4400000000)</td>\n",
              "      <td>2,120,995</td>\n",
              "      <td>961,890</td>\n",
              "      <td>2.21</td>\n",
              "      <td>1,081,153</td>\n",
              "      <td>1,039,842</td>\n",
              "      <td>1.04</td>\n",
              "    </tr>\n",
              "    <tr>\n",
              "      <th>12</th>\n",
              "      <td>전라북도  (4500000000)</td>\n",
              "      <td>1,815,112</td>\n",
              "      <td>818,452</td>\n",
              "      <td>2.22</td>\n",
              "      <td>902,365</td>\n",
              "      <td>912,747</td>\n",
              "      <td>0.99</td>\n",
              "    </tr>\n",
              "    <tr>\n",
              "      <th>13</th>\n",
              "      <td>전라남도  (4600000000)</td>\n",
              "      <td>1,861,894</td>\n",
              "      <td>873,871</td>\n",
              "      <td>2.13</td>\n",
              "      <td>934,900</td>\n",
              "      <td>926,994</td>\n",
              "      <td>1.01</td>\n",
              "    </tr>\n",
              "    <tr>\n",
              "      <th>14</th>\n",
              "      <td>경상북도  (4700000000)</td>\n",
              "      <td>2,658,956</td>\n",
              "      <td>1,229,265</td>\n",
              "      <td>2.16</td>\n",
              "      <td>1,338,907</td>\n",
              "      <td>1,320,049</td>\n",
              "      <td>1.01</td>\n",
              "    </tr>\n",
              "    <tr>\n",
              "      <th>15</th>\n",
              "      <td>경상남도  (4800000000)</td>\n",
              "      <td>3,358,828</td>\n",
              "      <td>1,455,655</td>\n",
              "      <td>2.31</td>\n",
              "      <td>1,690,600</td>\n",
              "      <td>1,668,228</td>\n",
              "      <td>1.01</td>\n",
              "    </tr>\n",
              "    <tr>\n",
              "      <th>16</th>\n",
              "      <td>제주특별자치도  (5000000000)</td>\n",
              "      <td>670,876</td>\n",
              "      <td>293,932</td>\n",
              "      <td>2.28</td>\n",
              "      <td>337,295</td>\n",
              "      <td>333,581</td>\n",
              "      <td>1.01</td>\n",
              "    </tr>\n",
              "  </tbody>\n",
              "</table>\n",
              "</div>"
            ],
            "text/plain": [
              "                     행정구역 2020년02월_총인구수  ... 2020년02월_여자 인구수  2020년02월_남여 비율\n",
              "0     서울특별시  (1100000000)     9,736,962  ...       4,991,829            0.95\n",
              "1     부산광역시  (2600000000)     3,410,925  ...       1,737,659            0.96\n",
              "2     대구광역시  (2700000000)     2,432,883  ...       1,230,519            0.98\n",
              "3     인천광역시  (2800000000)     2,954,955  ...       1,473,822            1.00\n",
              "4     광주광역시  (2900000000)     1,456,121  ...         735,435            0.98\n",
              "5     대전광역시  (3000000000)     1,473,125  ...         737,334            1.00\n",
              "6     울산광역시  (3100000000)     1,145,710  ...         557,084            1.06\n",
              "7   세종특별자치시  (3600000000)       343,788  ...         172,385            0.99\n",
              "8       경기도  (4100000000)    13,265,377  ...       6,592,671            1.01\n",
              "9       강원도  (4200000000)     1,539,521  ...         765,163            1.01\n",
              "10     충청북도  (4300000000)     1,598,599  ...         788,794            1.03\n",
              "11     충청남도  (4400000000)     2,120,995  ...       1,039,842            1.04\n",
              "12     전라북도  (4500000000)     1,815,112  ...         912,747            0.99\n",
              "13     전라남도  (4600000000)     1,861,894  ...         926,994            1.01\n",
              "14     경상북도  (4700000000)     2,658,956  ...       1,320,049            1.01\n",
              "15     경상남도  (4800000000)     3,358,828  ...       1,668,228            1.01\n",
              "16  제주특별자치도  (5000000000)       670,876  ...         333,581            1.01\n",
              "\n",
              "[17 rows x 7 columns]"
            ]
          },
          "metadata": {},
          "execution_count": 9
        }
      ]
    },
    {
      "cell_type": "code",
      "metadata": {
        "id": "wP9L4JNnhx99"
      },
      "source": [
        ""
      ],
      "execution_count": null,
      "outputs": []
    }
  ]
}